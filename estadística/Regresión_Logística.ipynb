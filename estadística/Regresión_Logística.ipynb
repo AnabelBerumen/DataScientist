{
  "nbformat": 4,
  "nbformat_minor": 0,
  "metadata": {
    "colab": {
      "provenance": [],
      "authorship_tag": "ABX9TyMNxc8e4z4R550vXvEJltZU",
      "include_colab_link": true
    },
    "kernelspec": {
      "name": "python3",
      "display_name": "Python 3"
    },
    "language_info": {
      "name": "python"
    }
  },
  "cells": [
    {
      "cell_type": "markdown",
      "metadata": {
        "id": "view-in-github",
        "colab_type": "text"
      },
      "source": [
        "<a href=\"https://colab.research.google.com/github/AnabelBerumen/DataScientist/blob/main/estad%C3%ADstica/Regresi%C3%B3n_Log%C3%ADstica.ipynb\" target=\"_parent\"><img src=\"https://colab.research.google.com/assets/colab-badge.svg\" alt=\"Open In Colab\"/></a>"
      ]
    },
    {
      "cell_type": "markdown",
      "source": [
        "## ➰Las matemáticas tras la regresión logística\n",
        "\n",
        "### Las tablas de contingencia"
      ],
      "metadata": {
        "id": "KqlC8TCihIuj"
      }
    },
    {
      "cell_type": "code",
      "execution_count": null,
      "metadata": {
        "id": "LoEoGYU9k55y"
      },
      "outputs": [],
      "source": [
        "from mpl_toolkits.mplot3d import Axes3D\n",
        "import matplotlib.pyplot as plt\n",
        "from matplotlib import cm\n",
        "import pandas as pd\n",
        "import numpy as np\n",
        "import seaborn as sns"
      ]
    },
    {
      "cell_type": "code",
      "source": [
        "df = pd.read_csv('/content/Gender Purchase.csv')\n",
        "df.head()"
      ],
      "metadata": {
        "colab": {
          "base_uri": "https://localhost:8080/",
          "height": 206
        },
        "id": "-bQAzECHhVml",
        "outputId": "24105d7f-8654-4e23-ff6f-27d0fba64fc5"
      },
      "execution_count": null,
      "outputs": [
        {
          "output_type": "execute_result",
          "data": {
            "text/plain": [
              "   Gender Purchase\n",
              "0  Female      Yes\n",
              "1  Female      Yes\n",
              "2  Female       No\n",
              "3    Male       No\n",
              "4    Male      Yes"
            ],
            "text/html": [
              "\n",
              "  <div id=\"df-6398ccdc-abd5-4d24-a99f-00351404a294\">\n",
              "    <div class=\"colab-df-container\">\n",
              "      <div>\n",
              "<style scoped>\n",
              "    .dataframe tbody tr th:only-of-type {\n",
              "        vertical-align: middle;\n",
              "    }\n",
              "\n",
              "    .dataframe tbody tr th {\n",
              "        vertical-align: top;\n",
              "    }\n",
              "\n",
              "    .dataframe thead th {\n",
              "        text-align: right;\n",
              "    }\n",
              "</style>\n",
              "<table border=\"1\" class=\"dataframe\">\n",
              "  <thead>\n",
              "    <tr style=\"text-align: right;\">\n",
              "      <th></th>\n",
              "      <th>Gender</th>\n",
              "      <th>Purchase</th>\n",
              "    </tr>\n",
              "  </thead>\n",
              "  <tbody>\n",
              "    <tr>\n",
              "      <th>0</th>\n",
              "      <td>Female</td>\n",
              "      <td>Yes</td>\n",
              "    </tr>\n",
              "    <tr>\n",
              "      <th>1</th>\n",
              "      <td>Female</td>\n",
              "      <td>Yes</td>\n",
              "    </tr>\n",
              "    <tr>\n",
              "      <th>2</th>\n",
              "      <td>Female</td>\n",
              "      <td>No</td>\n",
              "    </tr>\n",
              "    <tr>\n",
              "      <th>3</th>\n",
              "      <td>Male</td>\n",
              "      <td>No</td>\n",
              "    </tr>\n",
              "    <tr>\n",
              "      <th>4</th>\n",
              "      <td>Male</td>\n",
              "      <td>Yes</td>\n",
              "    </tr>\n",
              "  </tbody>\n",
              "</table>\n",
              "</div>\n",
              "      <button class=\"colab-df-convert\" onclick=\"convertToInteractive('df-6398ccdc-abd5-4d24-a99f-00351404a294')\"\n",
              "              title=\"Convert this dataframe to an interactive table.\"\n",
              "              style=\"display:none;\">\n",
              "        \n",
              "  <svg xmlns=\"http://www.w3.org/2000/svg\" height=\"24px\"viewBox=\"0 0 24 24\"\n",
              "       width=\"24px\">\n",
              "    <path d=\"M0 0h24v24H0V0z\" fill=\"none\"/>\n",
              "    <path d=\"M18.56 5.44l.94 2.06.94-2.06 2.06-.94-2.06-.94-.94-2.06-.94 2.06-2.06.94zm-11 1L8.5 8.5l.94-2.06 2.06-.94-2.06-.94L8.5 2.5l-.94 2.06-2.06.94zm10 10l.94 2.06.94-2.06 2.06-.94-2.06-.94-.94-2.06-.94 2.06-2.06.94z\"/><path d=\"M17.41 7.96l-1.37-1.37c-.4-.4-.92-.59-1.43-.59-.52 0-1.04.2-1.43.59L10.3 9.45l-7.72 7.72c-.78.78-.78 2.05 0 2.83L4 21.41c.39.39.9.59 1.41.59.51 0 1.02-.2 1.41-.59l7.78-7.78 2.81-2.81c.8-.78.8-2.07 0-2.86zM5.41 20L4 18.59l7.72-7.72 1.47 1.35L5.41 20z\"/>\n",
              "  </svg>\n",
              "      </button>\n",
              "      \n",
              "  <style>\n",
              "    .colab-df-container {\n",
              "      display:flex;\n",
              "      flex-wrap:wrap;\n",
              "      gap: 12px;\n",
              "    }\n",
              "\n",
              "    .colab-df-convert {\n",
              "      background-color: #E8F0FE;\n",
              "      border: none;\n",
              "      border-radius: 50%;\n",
              "      cursor: pointer;\n",
              "      display: none;\n",
              "      fill: #1967D2;\n",
              "      height: 32px;\n",
              "      padding: 0 0 0 0;\n",
              "      width: 32px;\n",
              "    }\n",
              "\n",
              "    .colab-df-convert:hover {\n",
              "      background-color: #E2EBFA;\n",
              "      box-shadow: 0px 1px 2px rgba(60, 64, 67, 0.3), 0px 1px 3px 1px rgba(60, 64, 67, 0.15);\n",
              "      fill: #174EA6;\n",
              "    }\n",
              "\n",
              "    [theme=dark] .colab-df-convert {\n",
              "      background-color: #3B4455;\n",
              "      fill: #D2E3FC;\n",
              "    }\n",
              "\n",
              "    [theme=dark] .colab-df-convert:hover {\n",
              "      background-color: #434B5C;\n",
              "      box-shadow: 0px 1px 3px 1px rgba(0, 0, 0, 0.15);\n",
              "      filter: drop-shadow(0px 1px 2px rgba(0, 0, 0, 0.3));\n",
              "      fill: #FFFFFF;\n",
              "    }\n",
              "  </style>\n",
              "\n",
              "      <script>\n",
              "        const buttonEl =\n",
              "          document.querySelector('#df-6398ccdc-abd5-4d24-a99f-00351404a294 button.colab-df-convert');\n",
              "        buttonEl.style.display =\n",
              "          google.colab.kernel.accessAllowed ? 'block' : 'none';\n",
              "\n",
              "        async function convertToInteractive(key) {\n",
              "          const element = document.querySelector('#df-6398ccdc-abd5-4d24-a99f-00351404a294');\n",
              "          const dataTable =\n",
              "            await google.colab.kernel.invokeFunction('convertToInteractive',\n",
              "                                                     [key], {});\n",
              "          if (!dataTable) return;\n",
              "\n",
              "          const docLinkHtml = 'Like what you see? Visit the ' +\n",
              "            '<a target=\"_blank\" href=https://colab.research.google.com/notebooks/data_table.ipynb>data table notebook</a>'\n",
              "            + ' to learn more about interactive tables.';\n",
              "          element.innerHTML = '';\n",
              "          dataTable['output_type'] = 'display_data';\n",
              "          await google.colab.output.renderOutput(dataTable, element);\n",
              "          const docLink = document.createElement('div');\n",
              "          docLink.innerHTML = docLinkHtml;\n",
              "          element.appendChild(docLink);\n",
              "        }\n",
              "      </script>\n",
              "    </div>\n",
              "  </div>\n",
              "  "
            ]
          },
          "metadata": {},
          "execution_count": 4
        }
      ]
    },
    {
      "cell_type": "code",
      "source": [
        "df.shape"
      ],
      "metadata": {
        "colab": {
          "base_uri": "https://localhost:8080/"
        },
        "id": "iMnDaEo0jFBz",
        "outputId": "cc9f01f6-33a3-46b5-ef17-4d7d4c18d335"
      },
      "execution_count": null,
      "outputs": [
        {
          "output_type": "execute_result",
          "data": {
            "text/plain": [
              "(511, 2)"
            ]
          },
          "metadata": {},
          "execution_count": 5
        }
      ]
    },
    {
      "cell_type": "code",
      "source": [
        "# Tabla de contingencia\n",
        "# con que fecuencia ocurre un determinado suceso\n",
        "contingency_table = pd.crosstab(df['Gender'], df['Purchase'])\n",
        "contingency_table"
      ],
      "metadata": {
        "colab": {
          "base_uri": "https://localhost:8080/",
          "height": 143
        },
        "id": "93T8pmDajIg_",
        "outputId": "84085a9e-e5f4-4e9a-9e93-cced293abe35"
      },
      "execution_count": null,
      "outputs": [
        {
          "output_type": "execute_result",
          "data": {
            "text/plain": [
              "Purchase   No  Yes\n",
              "Gender            \n",
              "Female    106  159\n",
              "Male      125  121"
            ],
            "text/html": [
              "\n",
              "  <div id=\"df-2733dc0a-fb66-427b-83ad-d5deb57a4ef6\">\n",
              "    <div class=\"colab-df-container\">\n",
              "      <div>\n",
              "<style scoped>\n",
              "    .dataframe tbody tr th:only-of-type {\n",
              "        vertical-align: middle;\n",
              "    }\n",
              "\n",
              "    .dataframe tbody tr th {\n",
              "        vertical-align: top;\n",
              "    }\n",
              "\n",
              "    .dataframe thead th {\n",
              "        text-align: right;\n",
              "    }\n",
              "</style>\n",
              "<table border=\"1\" class=\"dataframe\">\n",
              "  <thead>\n",
              "    <tr style=\"text-align: right;\">\n",
              "      <th>Purchase</th>\n",
              "      <th>No</th>\n",
              "      <th>Yes</th>\n",
              "    </tr>\n",
              "    <tr>\n",
              "      <th>Gender</th>\n",
              "      <th></th>\n",
              "      <th></th>\n",
              "    </tr>\n",
              "  </thead>\n",
              "  <tbody>\n",
              "    <tr>\n",
              "      <th>Female</th>\n",
              "      <td>106</td>\n",
              "      <td>159</td>\n",
              "    </tr>\n",
              "    <tr>\n",
              "      <th>Male</th>\n",
              "      <td>125</td>\n",
              "      <td>121</td>\n",
              "    </tr>\n",
              "  </tbody>\n",
              "</table>\n",
              "</div>\n",
              "      <button class=\"colab-df-convert\" onclick=\"convertToInteractive('df-2733dc0a-fb66-427b-83ad-d5deb57a4ef6')\"\n",
              "              title=\"Convert this dataframe to an interactive table.\"\n",
              "              style=\"display:none;\">\n",
              "        \n",
              "  <svg xmlns=\"http://www.w3.org/2000/svg\" height=\"24px\"viewBox=\"0 0 24 24\"\n",
              "       width=\"24px\">\n",
              "    <path d=\"M0 0h24v24H0V0z\" fill=\"none\"/>\n",
              "    <path d=\"M18.56 5.44l.94 2.06.94-2.06 2.06-.94-2.06-.94-.94-2.06-.94 2.06-2.06.94zm-11 1L8.5 8.5l.94-2.06 2.06-.94-2.06-.94L8.5 2.5l-.94 2.06-2.06.94zm10 10l.94 2.06.94-2.06 2.06-.94-2.06-.94-.94-2.06-.94 2.06-2.06.94z\"/><path d=\"M17.41 7.96l-1.37-1.37c-.4-.4-.92-.59-1.43-.59-.52 0-1.04.2-1.43.59L10.3 9.45l-7.72 7.72c-.78.78-.78 2.05 0 2.83L4 21.41c.39.39.9.59 1.41.59.51 0 1.02-.2 1.41-.59l7.78-7.78 2.81-2.81c.8-.78.8-2.07 0-2.86zM5.41 20L4 18.59l7.72-7.72 1.47 1.35L5.41 20z\"/>\n",
              "  </svg>\n",
              "      </button>\n",
              "      \n",
              "  <style>\n",
              "    .colab-df-container {\n",
              "      display:flex;\n",
              "      flex-wrap:wrap;\n",
              "      gap: 12px;\n",
              "    }\n",
              "\n",
              "    .colab-df-convert {\n",
              "      background-color: #E8F0FE;\n",
              "      border: none;\n",
              "      border-radius: 50%;\n",
              "      cursor: pointer;\n",
              "      display: none;\n",
              "      fill: #1967D2;\n",
              "      height: 32px;\n",
              "      padding: 0 0 0 0;\n",
              "      width: 32px;\n",
              "    }\n",
              "\n",
              "    .colab-df-convert:hover {\n",
              "      background-color: #E2EBFA;\n",
              "      box-shadow: 0px 1px 2px rgba(60, 64, 67, 0.3), 0px 1px 3px 1px rgba(60, 64, 67, 0.15);\n",
              "      fill: #174EA6;\n",
              "    }\n",
              "\n",
              "    [theme=dark] .colab-df-convert {\n",
              "      background-color: #3B4455;\n",
              "      fill: #D2E3FC;\n",
              "    }\n",
              "\n",
              "    [theme=dark] .colab-df-convert:hover {\n",
              "      background-color: #434B5C;\n",
              "      box-shadow: 0px 1px 3px 1px rgba(0, 0, 0, 0.15);\n",
              "      filter: drop-shadow(0px 1px 2px rgba(0, 0, 0, 0.3));\n",
              "      fill: #FFFFFF;\n",
              "    }\n",
              "  </style>\n",
              "\n",
              "      <script>\n",
              "        const buttonEl =\n",
              "          document.querySelector('#df-2733dc0a-fb66-427b-83ad-d5deb57a4ef6 button.colab-df-convert');\n",
              "        buttonEl.style.display =\n",
              "          google.colab.kernel.accessAllowed ? 'block' : 'none';\n",
              "\n",
              "        async function convertToInteractive(key) {\n",
              "          const element = document.querySelector('#df-2733dc0a-fb66-427b-83ad-d5deb57a4ef6');\n",
              "          const dataTable =\n",
              "            await google.colab.kernel.invokeFunction('convertToInteractive',\n",
              "                                                     [key], {});\n",
              "          if (!dataTable) return;\n",
              "\n",
              "          const docLinkHtml = 'Like what you see? Visit the ' +\n",
              "            '<a target=\"_blank\" href=https://colab.research.google.com/notebooks/data_table.ipynb>data table notebook</a>'\n",
              "            + ' to learn more about interactive tables.';\n",
              "          element.innerHTML = '';\n",
              "          dataTable['output_type'] = 'display_data';\n",
              "          await google.colab.output.renderOutput(dataTable, element);\n",
              "          const docLink = document.createElement('div');\n",
              "          docLink.innerHTML = docLinkHtml;\n",
              "          element.appendChild(docLink);\n",
              "        }\n",
              "      </script>\n",
              "    </div>\n",
              "  </div>\n",
              "  "
            ]
          },
          "metadata": {},
          "execution_count": 6
        }
      ]
    },
    {
      "cell_type": "code",
      "source": [
        "# Sumamos horizontalmente\n",
        "contingency_table.sum(axis = 1)"
      ],
      "metadata": {
        "colab": {
          "base_uri": "https://localhost:8080/"
        },
        "id": "3YWH5RPYj3gE",
        "outputId": "55c9ee66-8aa7-4b4a-b62e-a3f4c1764059"
      },
      "execution_count": null,
      "outputs": [
        {
          "output_type": "execute_result",
          "data": {
            "text/plain": [
              "Gender\n",
              "Female    265\n",
              "Male      246\n",
              "dtype: int64"
            ]
          },
          "metadata": {},
          "execution_count": 7
        }
      ]
    },
    {
      "cell_type": "code",
      "source": [
        "# Sumamos verticalmente\n",
        "contingency_table.sum(axis = 0)"
      ],
      "metadata": {
        "colab": {
          "base_uri": "https://localhost:8080/"
        },
        "id": "e5MMcQddkPeB",
        "outputId": "3f92b111-9041-49f5-b5b0-5947310bfb66"
      },
      "execution_count": null,
      "outputs": [
        {
          "output_type": "execute_result",
          "data": {
            "text/plain": [
              "Purchase\n",
              "No     231\n",
              "Yes    280\n",
              "dtype: int64"
            ]
          },
          "metadata": {},
          "execution_count": 8
        }
      ]
    },
    {
      "cell_type": "code",
      "source": [
        "# la trabajamos como float para poder hacer la división\n",
        "# Sumamos horizonta, regresamos de manera vertical\n",
        "contingency_table.astype('float').div(contingency_table.sum(axis=1), axis= 0)"
      ],
      "metadata": {
        "colab": {
          "base_uri": "https://localhost:8080/",
          "height": 143
        },
        "id": "NMEXLQGTkYmx",
        "outputId": "1bf13df8-dcf8-4ec4-9b07-dbe7509239dd"
      },
      "execution_count": null,
      "outputs": [
        {
          "output_type": "execute_result",
          "data": {
            "text/plain": [
              "Purchase       No      Yes\n",
              "Gender                    \n",
              "Female    0.40000  0.60000\n",
              "Male      0.50813  0.49187"
            ],
            "text/html": [
              "\n",
              "  <div id=\"df-f07e4e7c-16aa-4a02-8524-ef5496dd2e43\">\n",
              "    <div class=\"colab-df-container\">\n",
              "      <div>\n",
              "<style scoped>\n",
              "    .dataframe tbody tr th:only-of-type {\n",
              "        vertical-align: middle;\n",
              "    }\n",
              "\n",
              "    .dataframe tbody tr th {\n",
              "        vertical-align: top;\n",
              "    }\n",
              "\n",
              "    .dataframe thead th {\n",
              "        text-align: right;\n",
              "    }\n",
              "</style>\n",
              "<table border=\"1\" class=\"dataframe\">\n",
              "  <thead>\n",
              "    <tr style=\"text-align: right;\">\n",
              "      <th>Purchase</th>\n",
              "      <th>No</th>\n",
              "      <th>Yes</th>\n",
              "    </tr>\n",
              "    <tr>\n",
              "      <th>Gender</th>\n",
              "      <th></th>\n",
              "      <th></th>\n",
              "    </tr>\n",
              "  </thead>\n",
              "  <tbody>\n",
              "    <tr>\n",
              "      <th>Female</th>\n",
              "      <td>0.40000</td>\n",
              "      <td>0.60000</td>\n",
              "    </tr>\n",
              "    <tr>\n",
              "      <th>Male</th>\n",
              "      <td>0.50813</td>\n",
              "      <td>0.49187</td>\n",
              "    </tr>\n",
              "  </tbody>\n",
              "</table>\n",
              "</div>\n",
              "      <button class=\"colab-df-convert\" onclick=\"convertToInteractive('df-f07e4e7c-16aa-4a02-8524-ef5496dd2e43')\"\n",
              "              title=\"Convert this dataframe to an interactive table.\"\n",
              "              style=\"display:none;\">\n",
              "        \n",
              "  <svg xmlns=\"http://www.w3.org/2000/svg\" height=\"24px\"viewBox=\"0 0 24 24\"\n",
              "       width=\"24px\">\n",
              "    <path d=\"M0 0h24v24H0V0z\" fill=\"none\"/>\n",
              "    <path d=\"M18.56 5.44l.94 2.06.94-2.06 2.06-.94-2.06-.94-.94-2.06-.94 2.06-2.06.94zm-11 1L8.5 8.5l.94-2.06 2.06-.94-2.06-.94L8.5 2.5l-.94 2.06-2.06.94zm10 10l.94 2.06.94-2.06 2.06-.94-2.06-.94-.94-2.06-.94 2.06-2.06.94z\"/><path d=\"M17.41 7.96l-1.37-1.37c-.4-.4-.92-.59-1.43-.59-.52 0-1.04.2-1.43.59L10.3 9.45l-7.72 7.72c-.78.78-.78 2.05 0 2.83L4 21.41c.39.39.9.59 1.41.59.51 0 1.02-.2 1.41-.59l7.78-7.78 2.81-2.81c.8-.78.8-2.07 0-2.86zM5.41 20L4 18.59l7.72-7.72 1.47 1.35L5.41 20z\"/>\n",
              "  </svg>\n",
              "      </button>\n",
              "      \n",
              "  <style>\n",
              "    .colab-df-container {\n",
              "      display:flex;\n",
              "      flex-wrap:wrap;\n",
              "      gap: 12px;\n",
              "    }\n",
              "\n",
              "    .colab-df-convert {\n",
              "      background-color: #E8F0FE;\n",
              "      border: none;\n",
              "      border-radius: 50%;\n",
              "      cursor: pointer;\n",
              "      display: none;\n",
              "      fill: #1967D2;\n",
              "      height: 32px;\n",
              "      padding: 0 0 0 0;\n",
              "      width: 32px;\n",
              "    }\n",
              "\n",
              "    .colab-df-convert:hover {\n",
              "      background-color: #E2EBFA;\n",
              "      box-shadow: 0px 1px 2px rgba(60, 64, 67, 0.3), 0px 1px 3px 1px rgba(60, 64, 67, 0.15);\n",
              "      fill: #174EA6;\n",
              "    }\n",
              "\n",
              "    [theme=dark] .colab-df-convert {\n",
              "      background-color: #3B4455;\n",
              "      fill: #D2E3FC;\n",
              "    }\n",
              "\n",
              "    [theme=dark] .colab-df-convert:hover {\n",
              "      background-color: #434B5C;\n",
              "      box-shadow: 0px 1px 3px 1px rgba(0, 0, 0, 0.15);\n",
              "      filter: drop-shadow(0px 1px 2px rgba(0, 0, 0, 0.3));\n",
              "      fill: #FFFFFF;\n",
              "    }\n",
              "  </style>\n",
              "\n",
              "      <script>\n",
              "        const buttonEl =\n",
              "          document.querySelector('#df-f07e4e7c-16aa-4a02-8524-ef5496dd2e43 button.colab-df-convert');\n",
              "        buttonEl.style.display =\n",
              "          google.colab.kernel.accessAllowed ? 'block' : 'none';\n",
              "\n",
              "        async function convertToInteractive(key) {\n",
              "          const element = document.querySelector('#df-f07e4e7c-16aa-4a02-8524-ef5496dd2e43');\n",
              "          const dataTable =\n",
              "            await google.colab.kernel.invokeFunction('convertToInteractive',\n",
              "                                                     [key], {});\n",
              "          if (!dataTable) return;\n",
              "\n",
              "          const docLinkHtml = 'Like what you see? Visit the ' +\n",
              "            '<a target=\"_blank\" href=https://colab.research.google.com/notebooks/data_table.ipynb>data table notebook</a>'\n",
              "            + ' to learn more about interactive tables.';\n",
              "          element.innerHTML = '';\n",
              "          dataTable['output_type'] = 'display_data';\n",
              "          await google.colab.output.renderOutput(dataTable, element);\n",
              "          const docLink = document.createElement('div');\n",
              "          docLink.innerHTML = docLinkHtml;\n",
              "          element.appendChild(docLink);\n",
              "        }\n",
              "      </script>\n",
              "    </div>\n",
              "  </div>\n",
              "  "
            ]
          },
          "metadata": {},
          "execution_count": 9
        }
      ]
    },
    {
      "cell_type": "code",
      "source": [
        "from IPython.display import display, Math, Latex"
      ],
      "metadata": {
        "id": "ps2CtYHjlPz7"
      },
      "execution_count": null,
      "outputs": []
    },
    {
      "cell_type": "markdown",
      "source": [
        "## ➰Probabilidad condicional\n",
        "##### Cuál es la probabilidad de que un cliente compre un producto sabiendo que es un hombre?\n",
        "##### Cuál es la probabilidad de que sabiendo que un cliente compra un producto sea mujer?"
      ],
      "metadata": {
        "id": "E-lty5SOlUZa"
      }
    },
    {
      "cell_type": "code",
      "source": [
        "display(Math(r'P(Purchase|Male) = \\frac{Numero\\ total\\ de\\ compras\\ hechas\\ por\\ hombres}{Numero\\ total\\ de\\ hombres\\ del\\ grupo} = \\frac{Purchase\\cap Male }{Male}'))\n",
        "121/246"
      ],
      "metadata": {
        "colab": {
          "base_uri": "https://localhost:8080/",
          "height": 74
        },
        "id": "EBza2x-Qm1xt",
        "outputId": "45d321eb-a01a-41e9-bf16-888ed4eec409"
      },
      "execution_count": null,
      "outputs": [
        {
          "output_type": "display_data",
          "data": {
            "text/plain": [
              "<IPython.core.display.Math object>"
            ],
            "text/latex": "$\\displaystyle P(Purchase|Male) = \\frac{Numero\\ total\\ de\\ compras\\ hechas\\ por\\ hombres}{Numero\\ total\\ de\\ hombres\\ del\\ grupo} = \\frac{Purchase\\cap Male }{Male}$"
          },
          "metadata": {}
        },
        {
          "output_type": "execute_result",
          "data": {
            "text/plain": [
              "0.491869918699187"
            ]
          },
          "metadata": {},
          "execution_count": 11
        }
      ]
    },
    {
      "cell_type": "code",
      "source": [
        "display(Math(r'P(No\\ Purchase|Male) = 1-P(Purchase|Male)'))\n",
        "125/246"
      ],
      "metadata": {
        "colab": {
          "base_uri": "https://localhost:8080/",
          "height": 57
        },
        "id": "3AE3zMWbpBnx",
        "outputId": "ff9241db-e6b9-4b21-80ed-fcd26bbd6ea5"
      },
      "execution_count": null,
      "outputs": [
        {
          "output_type": "display_data",
          "data": {
            "text/plain": [
              "<IPython.core.display.Math object>"
            ],
            "text/latex": "$\\displaystyle P(No\\ Purchase|Male) = 1-P(Purchase|Male)$"
          },
          "metadata": {}
        },
        {
          "output_type": "execute_result",
          "data": {
            "text/plain": [
              "0.508130081300813"
            ]
          },
          "metadata": {},
          "execution_count": 12
        }
      ]
    },
    {
      "cell_type": "code",
      "source": [
        "display(Math(r'P(Female|Purchase) = \\frac{Numero\\ total\\ de\\ compras\\ hechas\\ por\\ mujeres}{Numero\\ total\\ de\\ compras} = \\frac{Female\\cap Purchase }{Purchase}'))\n",
        "159/280"
      ],
      "metadata": {
        "colab": {
          "base_uri": "https://localhost:8080/",
          "height": 74
        },
        "id": "BmDTKdwIoSea",
        "outputId": "bb9fe3ae-ff0b-42ec-c3fa-dd0c87c068a7"
      },
      "execution_count": null,
      "outputs": [
        {
          "output_type": "display_data",
          "data": {
            "text/plain": [
              "<IPython.core.display.Math object>"
            ],
            "text/latex": "$\\displaystyle P(Female|Purchase) = \\frac{Numero\\ total\\ de\\ compras\\ hechas\\ por\\ mujeres}{Numero\\ total\\ de\\ compras} = \\frac{Female\\cap Purchase }{Purchase}$"
          },
          "metadata": {}
        },
        {
          "output_type": "execute_result",
          "data": {
            "text/plain": [
              "0.5678571428571428"
            ]
          },
          "metadata": {},
          "execution_count": 13
        }
      ]
    },
    {
      "cell_type": "code",
      "source": [
        "display(Math(r'P(Male|Purchase)'))\n",
        "121/280"
      ],
      "metadata": {
        "colab": {
          "base_uri": "https://localhost:8080/",
          "height": 57
        },
        "id": "CG7LgAKgoSUb",
        "outputId": "9608fcd9-0a99-49e2-98de-47ea8dfe8237"
      },
      "execution_count": null,
      "outputs": [
        {
          "output_type": "display_data",
          "data": {
            "text/plain": [
              "<IPython.core.display.Math object>"
            ],
            "text/latex": "$\\displaystyle P(Male|Purchase)$"
          },
          "metadata": {}
        },
        {
          "output_type": "execute_result",
          "data": {
            "text/plain": [
              "0.43214285714285716"
            ]
          },
          "metadata": {},
          "execution_count": 14
        }
      ]
    },
    {
      "cell_type": "code",
      "source": [
        "print('-'*50)\n",
        "display(Math(r'P(Purchase | Male)'))\n",
        "print(121/246)\n",
        "print('-'*50)\n",
        "display(Math(r'P(NO\\ Purchase|Male)'))\n",
        "print(125/246)\n",
        "print('-'*50)\n",
        "display(Math(r'P(Purchase| Female)'))\n",
        "print(159/265)\n",
        "print('-'*50)\n",
        "display(Math(r'P(NO\\ Purchase| Female)'))\n",
        "106/265\n",
        "print('-'*50)"
      ],
      "metadata": {
        "colab": {
          "base_uri": "https://localhost:8080/",
          "height": 250
        },
        "id": "kgvUXdaCoSLd",
        "outputId": "8a71d54c-6725-4234-fb61-815b5bd4c5e1"
      },
      "execution_count": null,
      "outputs": [
        {
          "output_type": "stream",
          "name": "stdout",
          "text": [
            "--------------------------------------------------\n"
          ]
        },
        {
          "output_type": "display_data",
          "data": {
            "text/plain": [
              "<IPython.core.display.Math object>"
            ],
            "text/latex": "$\\displaystyle P(Purchase | Male)$"
          },
          "metadata": {}
        },
        {
          "output_type": "stream",
          "name": "stdout",
          "text": [
            "0.491869918699187\n",
            "--------------------------------------------------\n"
          ]
        },
        {
          "output_type": "display_data",
          "data": {
            "text/plain": [
              "<IPython.core.display.Math object>"
            ],
            "text/latex": "$\\displaystyle P(NO\\ Purchase|Male)$"
          },
          "metadata": {}
        },
        {
          "output_type": "stream",
          "name": "stdout",
          "text": [
            "0.508130081300813\n",
            "--------------------------------------------------\n"
          ]
        },
        {
          "output_type": "display_data",
          "data": {
            "text/plain": [
              "<IPython.core.display.Math object>"
            ],
            "text/latex": "$\\displaystyle P(Purchase| Female)$"
          },
          "metadata": {}
        },
        {
          "output_type": "stream",
          "name": "stdout",
          "text": [
            "0.6\n",
            "--------------------------------------------------\n"
          ]
        },
        {
          "output_type": "display_data",
          "data": {
            "text/plain": [
              "<IPython.core.display.Math object>"
            ],
            "text/latex": "$\\displaystyle P(NO\\ Purchase| Female)$"
          },
          "metadata": {}
        },
        {
          "output_type": "stream",
          "name": "stdout",
          "text": [
            "--------------------------------------------------\n"
          ]
        }
      ]
    },
    {
      "cell_type": "markdown",
      "source": [
        "### ➰Ratio de probabilidades\n",
        "cociente entre los casos de exito para c/u de los grupos\n",
        "en este caso ser hombre/mujer respectivamente.\n",
        "\n",
        "\n",
        "El ratio de exitos para un grupo determinado se define\n",
        "como el cociente de las probabilidades de exito de que\n",
        "el suceso que estamos estudiando tenga exito entre la \n",
        "probabilidad de fracaso, en este caso que no tengamos\n",
        "una compra."
      ],
      "metadata": {
        "id": "MlFVgH1svlU6"
      }
    },
    {
      "cell_type": "markdown",
      "source": [],
      "metadata": {
        "id": "ZNiXCTihyuMM"
      }
    },
    {
      "cell_type": "code",
      "source": [
        "display(Math(r'P_m = \\ probabilidad\\ de\\ hacer\\ compra\\ sabiendo\\ que\\ es\\ un\\ hombres'))\n",
        "display(Math(r'odds_{purchase,male} = \\frac{P_m}{1-P_m} = \\frac{N_{p,m}}{N{\\bar p,m}}'))\n",
        "print('-'*59)\n",
        "\n",
        "\n",
        "display(Math(r'P_m = \\ probabilidad\\ de\\ hacer\\ compra\\ sabiendo\\ que\\ es\\ una\\ mujer'))\n",
        "display(Math(r'odds_{purchase,male} = \\frac{P_f}{1-P_f} = \\frac{N_{p,f}}{N{\\bar p,f}}'))\n",
        "print('-'*59)\n",
        "\n",
        "display(Math(r'odds\\in[0, +\\infty]'))\n"
      ],
      "metadata": {
        "colab": {
          "base_uri": "https://localhost:8080/"
        },
        "id": "yhwAx_ESo_gB",
        "outputId": "7a31431b-9d3a-4559-ccd9-407c730d586e"
      },
      "execution_count": null,
      "outputs": [
        {
          "output_type": "display_data",
          "data": {
            "text/plain": [
              "<IPython.core.display.Math object>"
            ],
            "text/latex": "$\\displaystyle P_m = \\ probabilidad\\ de\\ hacer\\ compra\\ sabiendo\\ que\\ es\\ un\\ hombres$"
          },
          "metadata": {}
        },
        {
          "output_type": "display_data",
          "data": {
            "text/plain": [
              "<IPython.core.display.Math object>"
            ],
            "text/latex": "$\\displaystyle odds_{purchase,male} = \\frac{P_m}{1-P_m} = \\frac{N_{p,m}}{N{\\bar p,m}}$"
          },
          "metadata": {}
        },
        {
          "output_type": "stream",
          "name": "stdout",
          "text": [
            "-----------------------------------------------------------\n"
          ]
        },
        {
          "output_type": "display_data",
          "data": {
            "text/plain": [
              "<IPython.core.display.Math object>"
            ],
            "text/latex": "$\\displaystyle P_m = \\ probabilidad\\ de\\ hacer\\ compra\\ sabiendo\\ que\\ es\\ una\\ mujer$"
          },
          "metadata": {}
        },
        {
          "output_type": "display_data",
          "data": {
            "text/plain": [
              "<IPython.core.display.Math object>"
            ],
            "text/latex": "$\\displaystyle odds_{purchase,male} = \\frac{P_f}{1-P_f} = \\frac{N_{p,f}}{N{\\bar p,f}}$"
          },
          "metadata": {}
        },
        {
          "output_type": "stream",
          "name": "stdout",
          "text": [
            "-----------------------------------------------------------\n"
          ]
        },
        {
          "output_type": "display_data",
          "data": {
            "text/plain": [
              "<IPython.core.display.Math object>"
            ],
            "text/latex": "$\\displaystyle odds\\in[0, +\\infty]$"
          },
          "metadata": {}
        }
      ]
    },
    {
      "cell_type": "code",
      "source": [
        "pm = 121/246\n",
        "pf = 159/265\n",
        "odds_m = pm/(1-pm) # 121/125\n",
        "odds_f = pf/(1-pf) # 159/106"
      ],
      "metadata": {
        "id": "3vMTXG6DxA3V"
      },
      "execution_count": null,
      "outputs": []
    },
    {
      "cell_type": "code",
      "source": [
        "print(f'odds_m: {odds_m}' )\n",
        "print(f'odds_f: {odds_f}' )"
      ],
      "metadata": {
        "colab": {
          "base_uri": "https://localhost:8080/"
        },
        "id": "5-IdmPjrxA0P",
        "outputId": "72e1d6bd-dad6-41b2-cfd5-2050ac4ab84c"
      },
      "execution_count": null,
      "outputs": [
        {
          "output_type": "stream",
          "name": "stdout",
          "text": [
            "odds_m: 0.9680000000000002\n",
            "odds_f: 1.4999999999999998\n"
          ]
        }
      ]
    },
    {
      "cell_type": "markdown",
      "source": [
        "* Si el ratio es superior a 1, es mas probable el exito que el fracaso, Cuanto mayor es el ratio, mas probabilidad de exito en nuestor suceso.\n",
        "* Si el ratio es exactamente igual a 1, exito y fracaso son equiprobables(p=0.5).\n",
        "* Si el ratio es menor que 1, el fracaso es mas problable que el exito,Cuanto menor es el ratio, menor es la probabilidad de exito en nuestor suceso."
      ],
      "metadata": {
        "id": "qpMPTopG2BeT"
      }
    },
    {
      "cell_type": "code",
      "source": [
        "display(Math(r'odds_{ratio} = \\frac{odds_{purchase,male}}{odds_{purchase,female}}'))\n",
        "odds_r = odds_m/odds_f\n",
        "print(f'El resultado es {odds_r} como es menor a 1, la probabilidad del suceso es menor')"
      ],
      "metadata": {
        "colab": {
          "base_uri": "https://localhost:8080/"
        },
        "id": "gSKjd385xApw",
        "outputId": "cd101c29-4a4e-4880-dc19-49a96b3d454a"
      },
      "execution_count": null,
      "outputs": [
        {
          "output_type": "display_data",
          "data": {
            "text/plain": [
              "<IPython.core.display.Math object>"
            ],
            "text/latex": "$\\displaystyle odds_{ratio} = \\frac{odds_{purchase,male}}{odds_{purchase,female}}$"
          },
          "metadata": {}
        },
        {
          "output_type": "stream",
          "name": "stdout",
          "text": [
            "El resultado es 0.6453333333333335 como es menor a 1, la probabilidad del suceso es menor\n"
          ]
        }
      ]
    },
    {
      "cell_type": "code",
      "source": [
        "display(Math(r'odds_{ratio} = \\frac{odds_{purchase,female}}{odds_{purchase,male}}'))\n",
        "odds_r = odds_f/odds_m\n",
        "print(f'El resultado es {odds_r} como es mayor a 1, la probabilidad del suceso es mayor')"
      ],
      "metadata": {
        "colab": {
          "base_uri": "https://localhost:8080/"
        },
        "id": "l9cbGLQhxAnE",
        "outputId": "0071fe97-0def-47f6-8d5f-62f0215a7bfd"
      },
      "execution_count": null,
      "outputs": [
        {
          "output_type": "display_data",
          "data": {
            "text/plain": [
              "<IPython.core.display.Math object>"
            ],
            "text/latex": "$\\displaystyle odds_{ratio} = \\frac{odds_{purchase,female}}{odds_{purchase,male}}$"
          },
          "metadata": {}
        },
        {
          "output_type": "stream",
          "name": "stdout",
          "text": [
            "El resultado es 1.5495867768595035 como es mayor a 1, la probabilidad del suceso es mayor\n"
          ]
        }
      ]
    },
    {
      "cell_type": "markdown",
      "source": [
        "## ➰ La regresión logística desde la regresión lineal"
      ],
      "metadata": {
        "id": "j_5uc46f5qcc"
      }
    },
    {
      "cell_type": "code",
      "source": [
        "print('regresión lineal variables continuas')\n",
        "display(Math(r'y = \\alpha + \\beta \\cdot x'))\n",
        "display(Math(r'(x,y) \\in[-\\infty, +\\infty]^2'))\n"
      ],
      "metadata": {
        "colab": {
          "base_uri": "https://localhost:8080/"
        },
        "id": "gnbrAkso5dbw",
        "outputId": "61f9efde-0b5f-4e59-975a-9d30a2411319"
      },
      "execution_count": null,
      "outputs": [
        {
          "output_type": "stream",
          "name": "stdout",
          "text": [
            "regresión lineal variables continuas\n"
          ]
        },
        {
          "output_type": "display_data",
          "data": {
            "text/plain": [
              "<IPython.core.display.Math object>"
            ],
            "text/latex": "$\\displaystyle y = \\alpha + \\beta \\cdot x$"
          },
          "metadata": {}
        },
        {
          "output_type": "display_data",
          "data": {
            "text/plain": [
              "<IPython.core.display.Math object>"
            ],
            "text/latex": "$\\displaystyle (x,y) \\in[-\\infty, +\\infty]^2$"
          },
          "metadata": {}
        }
      ]
    },
    {
      "cell_type": "code",
      "source": [
        "print('regresión logística variables NO continuas, DISCRETA')\n",
        "display(Math(r'y\\in\\{0,1\\}???'))\n",
        "display(Math(r'p\\in [0,1]'))\n",
        "display(Math(r'X\\in [-\\infty,\\infty]'))\n",
        "display(Math(r'P= \\alpha + \\beta\\cdot X'))"
      ],
      "metadata": {
        "colab": {
          "base_uri": "https://localhost:8080/"
        },
        "id": "aG0hHe5S5dY9",
        "outputId": "47f6bebe-2d2d-4310-cc8e-43464beaac6f"
      },
      "execution_count": null,
      "outputs": [
        {
          "output_type": "stream",
          "name": "stdout",
          "text": [
            "regresión logística variables NO continuas, DISCRETA\n"
          ]
        },
        {
          "output_type": "display_data",
          "data": {
            "text/plain": [
              "<IPython.core.display.Math object>"
            ],
            "text/latex": "$\\displaystyle y\\in\\{0,1\\}???$"
          },
          "metadata": {}
        },
        {
          "output_type": "display_data",
          "data": {
            "text/plain": [
              "<IPython.core.display.Math object>"
            ],
            "text/latex": "$\\displaystyle p\\in [0,1]$"
          },
          "metadata": {}
        },
        {
          "output_type": "display_data",
          "data": {
            "text/plain": [
              "<IPython.core.display.Math object>"
            ],
            "text/latex": "$\\displaystyle X\\in [-\\infty,\\infty]$"
          },
          "metadata": {}
        },
        {
          "output_type": "display_data",
          "data": {
            "text/plain": [
              "<IPython.core.display.Math object>"
            ],
            "text/latex": "$\\displaystyle P= \\alpha + \\beta\\cdot X$"
          },
          "metadata": {}
        }
      ]
    },
    {
      "cell_type": "markdown",
      "source": [
        "P es la probabilidad condicionada de exito o fracaso, condicionada de la presencia de la variable X"
      ],
      "metadata": {
        "id": "G-vYa4OfAuw8"
      }
    },
    {
      "cell_type": "code",
      "source": [
        "display(Math(r'\\frac{P}{1-P}= \\alpha + \\beta\\cdot X\\in [0, +\\infty]'))"
      ],
      "metadata": {
        "colab": {
          "base_uri": "https://localhost:8080/"
        },
        "id": "uFvtv2uH5dVg",
        "outputId": "1423e485-abe6-4f39-fae9-f533606b4601"
      },
      "execution_count": null,
      "outputs": [
        {
          "output_type": "display_data",
          "data": {
            "text/plain": [
              "<IPython.core.display.Math object>"
            ],
            "text/latex": "$\\displaystyle \\frac{P}{1-P}= \\alpha + \\beta\\cdot X\\in [0, +\\infty]$"
          },
          "metadata": {}
        }
      ]
    },
    {
      "cell_type": "code",
      "source": [
        "display(Math(r'ln(\\frac{P}{1-P}) = \\alpha + \\beta\\cdot X'))"
      ],
      "metadata": {
        "id": "kwBJ_zmFxAk5",
        "colab": {
          "base_uri": "https://localhost:8080/"
        },
        "outputId": "aaa02875-f584-41a0-bd5d-d792a78d814f"
      },
      "execution_count": null,
      "outputs": [
        {
          "output_type": "display_data",
          "data": {
            "text/plain": [
              "<IPython.core.display.Math object>"
            ],
            "text/latex": "$\\displaystyle ln(\\frac{P}{1-P}) = \\alpha + \\beta\\cdot X$"
          },
          "metadata": {}
        }
      ]
    },
    {
      "cell_type": "code",
      "source": [
        "display(Math(r'\\begin{cases}\\frac{P}{P-1}\\in[0,1]\\Rightarrow ln(\\frac{P}{P-1})\\in[-\\infty,0]\\\\ \\frac{P}{P-1}\\in[1,+\\infty]\\Rightarrow ln(\\frac{P}{P-1})\\in[0,\\infty]\\end{cases}'))"
      ],
      "metadata": {
        "colab": {
          "base_uri": "https://localhost:8080/"
        },
        "id": "IkAy9qnW6LAf",
        "outputId": "ce4a9224-9510-4e86-fe25-a1cee0f7a806"
      },
      "execution_count": null,
      "outputs": [
        {
          "output_type": "display_data",
          "data": {
            "text/plain": [
              "<IPython.core.display.Math object>"
            ],
            "text/latex": "$\\displaystyle \\begin{cases}\\frac{P}{P-1}\\in[0,1]\\Rightarrow ln(\\frac{P}{P-1})\\in[-\\infty,0]\\\\ \\frac{P}{P-1}\\in[1,+\\infty]\\Rightarrow ln(\\frac{P}{P-1})\\in[0,\\infty]\\end{cases}$"
          },
          "metadata": {}
        }
      ]
    },
    {
      "cell_type": "code",
      "source": [
        "# Pasos faltantes algebraicos\n",
        "display(Math(r' ln(\\frac{P}{1-P}) = \\alpha + \\beta\\cdot X'))\n",
        "\n",
        "display(Math(r' \\frac{P}{1-P} = e^{\\alpha + \\beta\\cdot X}'))\n",
        "\n",
        "display(Math(r' P = (1-P)\\cdot e^{\\alpha + \\beta\\cdot X}'))\n",
        "\n",
        "display(Math(r' P = e^{\\alpha + \\beta\\cdot X}-P\\cdot e^{\\alpha + \\beta\\cdot X}'))\n",
        "\n",
        "display(Math(r' P + P\\cdot e^{\\alpha + \\beta\\cdot X} = e^{\\alpha + \\beta\\cdot X}'))\n",
        "\n",
        "display(Math(r' P\\cdot (1 + e^{\\alpha + \\beta\\cdot X}) = e^{\\alpha + \\beta\\cdot X}'))\n",
        "\n",
        "display(Math(r' P = \\frac{e^{\\alpha+\\beta\\cdot X}}{1+e^{\\alpha+\\beta\\cdot X}}'))\n",
        "\n",
        "display(Math(r' P = \\frac{e^{\\alpha+\\beta\\cdot X} /e^{\\alpha+\\beta\\cdot X}}{(1+e^{\\alpha+\\beta\\cdot X}) /e^{\\alpha+\\beta\\cdot X}}'))\n",
        "\n",
        "display(Math(r' P = \\frac{1}{(e^{\\alpha+\\beta\\cdot X}+1)/e^{\\alpha+\\beta\\cdot X}}'))\n",
        "\n",
        "display(Math(r' P = \\frac{1}{1+1/e^{\\alpha+\\beta\\cdot X}}'))\n",
        "\n",
        "display(Math(r' P = \\frac{1}{1+e^{-(\\alpha+\\beta\\cdot X)}}'))"
      ],
      "metadata": {
        "colab": {
          "base_uri": "https://localhost:8080/"
        },
        "id": "e131Oc6J7lgv",
        "outputId": "d34de315-9a6c-4296-c4eb-8d96d169f5e0"
      },
      "execution_count": null,
      "outputs": [
        {
          "output_type": "display_data",
          "data": {
            "text/plain": [
              "<IPython.core.display.Math object>"
            ],
            "text/latex": "$\\displaystyle  ln(\\frac{P}{1-P}) = \\alpha + \\beta\\cdot X$"
          },
          "metadata": {}
        },
        {
          "output_type": "display_data",
          "data": {
            "text/plain": [
              "<IPython.core.display.Math object>"
            ],
            "text/latex": "$\\displaystyle  \\frac{P}{1-P} = e^{\\alpha + \\beta\\cdot X}$"
          },
          "metadata": {}
        },
        {
          "output_type": "display_data",
          "data": {
            "text/plain": [
              "<IPython.core.display.Math object>"
            ],
            "text/latex": "$\\displaystyle  P = (1-P)\\cdot e^{\\alpha + \\beta\\cdot X}$"
          },
          "metadata": {}
        },
        {
          "output_type": "display_data",
          "data": {
            "text/plain": [
              "<IPython.core.display.Math object>"
            ],
            "text/latex": "$\\displaystyle  P = e^{\\alpha + \\beta\\cdot X}-P\\cdot e^{\\alpha + \\beta\\cdot X}$"
          },
          "metadata": {}
        },
        {
          "output_type": "display_data",
          "data": {
            "text/plain": [
              "<IPython.core.display.Math object>"
            ],
            "text/latex": "$\\displaystyle  P + P\\cdot e^{\\alpha + \\beta\\cdot X} = e^{\\alpha + \\beta\\cdot X}$"
          },
          "metadata": {}
        },
        {
          "output_type": "display_data",
          "data": {
            "text/plain": [
              "<IPython.core.display.Math object>"
            ],
            "text/latex": "$\\displaystyle  P\\cdot (1 + e^{\\alpha + \\beta\\cdot X}) = e^{\\alpha + \\beta\\cdot X}$"
          },
          "metadata": {}
        },
        {
          "output_type": "display_data",
          "data": {
            "text/plain": [
              "<IPython.core.display.Math object>"
            ],
            "text/latex": "$\\displaystyle  P = \\frac{e^{\\alpha+\\beta\\cdot X}}{1+e^{\\alpha+\\beta\\cdot X}}$"
          },
          "metadata": {}
        },
        {
          "output_type": "display_data",
          "data": {
            "text/plain": [
              "<IPython.core.display.Math object>"
            ],
            "text/latex": "$\\displaystyle  P = \\frac{e^{\\alpha+\\beta\\cdot X} /e^{\\alpha+\\beta\\cdot X}}{(1+e^{\\alpha+\\beta\\cdot X}) /e^{\\alpha+\\beta\\cdot X}}$"
          },
          "metadata": {}
        },
        {
          "output_type": "display_data",
          "data": {
            "text/plain": [
              "<IPython.core.display.Math object>"
            ],
            "text/latex": "$\\displaystyle  P = \\frac{1}{(e^{\\alpha+\\beta\\cdot X}+1)/e^{\\alpha+\\beta\\cdot X}}$"
          },
          "metadata": {}
        },
        {
          "output_type": "display_data",
          "data": {
            "text/plain": [
              "<IPython.core.display.Math object>"
            ],
            "text/latex": "$\\displaystyle  P = \\frac{1}{1+1/e^{\\alpha+\\beta\\cdot X}}$"
          },
          "metadata": {}
        },
        {
          "output_type": "display_data",
          "data": {
            "text/plain": [
              "<IPython.core.display.Math object>"
            ],
            "text/latex": "$\\displaystyle  P = \\frac{1}{1+e^{-(\\alpha+\\beta\\cdot X)}}$"
          },
          "metadata": {}
        }
      ]
    },
    {
      "cell_type": "markdown",
      "source": [
        "* si a+bX es muy pequenio (negativo), entonces P tiende a 0\n",
        "* si a+bX = 0, P=0.5\n",
        "* si a+bX es muy grande (positivo), entonces P tiende a 1"
      ],
      "metadata": {
        "id": "NT3lnHxeus3N"
      }
    },
    {
      "cell_type": "markdown",
      "source": [
        "## Regresión logística multiple"
      ],
      "metadata": {
        "id": "mOcd1wD-v3up"
      }
    },
    {
      "cell_type": "code",
      "source": [
        "display(Math(r' \\vec{\\beta} = {\\beta_1, \\beta_2,\\cdots,\\beta_n}'))\n",
        "display(Math(r' \\vec{X} = (x_1, x_2,\\cdots,x_n)'))\n",
        "display(Math(r'P = \\frac{1}{1+e^{-(\\alpha+\\vec{\\beta_i}\\cdot \\vec{x})}}'))"
      ],
      "metadata": {
        "id": "wkpEXJ-d7ldy",
        "colab": {
          "base_uri": "https://localhost:8080/"
        },
        "outputId": "83e408ff-b560-432e-a7ff-03282008f4a4"
      },
      "execution_count": null,
      "outputs": [
        {
          "output_type": "display_data",
          "data": {
            "text/plain": [
              "<IPython.core.display.Math object>"
            ],
            "text/latex": "$\\displaystyle  \\vec{\\beta} = {\\beta_1, \\beta_2,\\cdots,\\beta_n}$"
          },
          "metadata": {}
        },
        {
          "output_type": "display_data",
          "data": {
            "text/plain": [
              "<IPython.core.display.Math object>"
            ],
            "text/latex": "$\\displaystyle  \\vec{X} = (x_1, x_2,\\cdots,x_n)$"
          },
          "metadata": {}
        },
        {
          "output_type": "display_data",
          "data": {
            "text/plain": [
              "<IPython.core.display.Math object>"
            ],
            "text/latex": "$\\displaystyle P = \\frac{1}{1+e^{-(\\alpha+\\vec{\\beta_i}\\cdot \\vec{x})}}$"
          },
          "metadata": {}
        }
      ]
    },
    {
      "cell_type": "code",
      "source": [],
      "metadata": {
        "id": "TyBIPI9e7lb_"
      },
      "execution_count": null,
      "outputs": []
    },
    {
      "cell_type": "code",
      "source": [],
      "metadata": {
        "id": "T131tRWk7lY9"
      },
      "execution_count": null,
      "outputs": []
    },
    {
      "cell_type": "markdown",
      "source": [
        "## MLE como base para la regresión logística\n",
        "\n",
        " Consideramos el problema de MLE: \n",
        "\n",
        "$$\n",
        "\\max \\sum_i \\log P(y_i \\vert x_i; h)\n",
        "$$\n",
        "\n",
        "donde:\n",
        "\n",
        "$y_i$: clase o categoría de cada elemento y $x_i$: son los atributos de cada elemento, donde además cada elemento del dataset satisface una distribución de Bernoulli: \n",
        "\n",
        "$$\n",
        "P = \\begin{cases}\n",
        "p,\n",
        "& \\mbox{si $y=1$,}\\\\\n",
        "1-p, & \\mbox{si $y=0$.} \n",
        "\\end{cases} \n",
        "$$\n",
        "\n",
        "En este caso la verosimilitud está dada por: \n",
        "\n",
        "$$\n",
        "L = \\hat{y}y+(1-\\hat{y})(1-y)  \n",
        "$$\n",
        "\n",
        "Esta función da como resultado probabilidades altas cuando $\\hat{y} \\sim y$."
      ],
      "metadata": {
        "id": "TkRMO4R5rBYz"
      }
    },
    {
      "cell_type": "code",
      "source": [
        "def likelihood(y, yp):\n",
        "  return yp*y + (1-yp) * (1-y)"
      ],
      "metadata": {
        "id": "0gz8iwS7q-Mp"
      },
      "execution_count": null,
      "outputs": []
    },
    {
      "cell_type": "code",
      "source": [
        "fig = plt.figure()\n",
        "ax = fig.gca(projection='3d')\n",
        "\n",
        "# Esto se construye con tuplas\n",
        "Y = np.arange(0,1,0.01)\n",
        "YP = np.arange(0,1,0.01)\n",
        "\n",
        "# Creamos la malla para el 3D\n",
        "Y, YP = np.meshgrid(Y, YP)\n",
        "Z = likelihood(Y, YP)\n",
        "\n",
        "# Crear una superficie\n",
        "surf = ax.plot_surface(Y, YP, Z, cmap=cm.coolwarm)\n",
        "fig.colorbar(surf, shrink=0.5, aspect=5)"
      ],
      "metadata": {
        "colab": {
          "base_uri": "https://localhost:8080/"
        },
        "id": "HWYmXgNArvbg",
        "outputId": "1aa5d1ef-b252-46ae-cfcb-dfd0bd3d3e99"
      },
      "execution_count": null,
      "outputs": [
        {
          "output_type": "execute_result",
          "data": {
            "text/plain": [
              "<matplotlib.colorbar.Colorbar at 0x7f2a18525f50>"
            ]
          },
          "metadata": {},
          "execution_count": 29
        },
        {
          "output_type": "display_data",
          "data": {
            "text/plain": [
              "<Figure size 432x288 with 2 Axes>"
            ],
            "image/png": "[encoded data removed]"
          },
          "metadata": {
            "needs_background": "light"
          }
        }
      ]
    },
    {
      "cell_type": "markdown",
      "source": [
        "## Representación\n",
        "Nuestra función de verosimilitud, tiene máximos justo donde necesitamos que los tenga, por eso los escogimos, donde la predicción y el dato real coinciden en 0, y donde la predicción y el dato real coinciden en 1, por eso decimos que:\n",
        "Esta función da como resultado probabilidades altas cuando $\\hat{y} \\sim y$\n",
        "predicciones del modelo ($\\hat{y}$ ) coinciden ($\\sim $) con los resultados de las categorías ($y$) del conjunto de datos.\n"
      ],
      "metadata": {
        "id": "hgML4ZqftKIB"
      }
    },
    {
      "cell_type": "markdown",
      "source": [
        "Considerando $p \\rightarrow \\log(p)$, y sumando la verosimilitud para todos los puntos del dataset obtenemos: \n",
        "\n",
        "$$\n",
        "max{\\sum_i \\left(y \\log \\hat{y} + (1-y) \\log (1-\\hat{y}) \\right)} \\\\\n",
        "= \\min - \\sum_i \\left( y \\log \\hat{y} + (1-y) \\log (1-\\hat{y}) \\right)\n",
        "$$\n",
        "\n",
        "que es la conocida función de costo para clasificación conocida como Cross-entropy. "
      ],
      "metadata": {
        "id": "JxnGAqEF06xV"
      }
    },
    {
      "cell_type": "markdown",
      "source": [
        "## Regresión logística con Scikit-learn\n",
        "\n",
        "Recordemos que:\n",
        "\n",
        "$$\n",
        "\\hat{y} = \\frac{1}{1+\\exp{(-\\text{log-odds})}}\n",
        "$$\n",
        "(sigmoide)\n",
        "\n",
        "donde $\\text{log-odds} = \\beta_0 + \\beta_1 x_1 + \\dots \\beta_n x_n$ y los betas son los parámetros del modelo.\n",
        "\n",
        "Aplicaremos un ejercicio de clasificación simple con el dataset Iris: \n",
        "* https://en.wikipedia.org/wiki/Iris_flower_data_set\n",
        "* https://scikit-learn.org/stable/auto_examples/datasets/plot_iris_dataset.html"
      ],
      "metadata": {
        "id": "nMwdFNXY0-8u"
      }
    },
    {
      "cell_type": "code",
      "source": [
        "from sklearn.datasets import load_iris\n",
        "from sklearn.linear_model import LogisticRegression"
      ],
      "metadata": {
        "id": "O__rXHAWsSPT"
      },
      "execution_count": null,
      "outputs": []
    },
    {
      "cell_type": "code",
      "source": [
        "atrib_names =['sepal-length', 'sepal-width', 'petal-length', 'petal-width']\n",
        "X, y = load_iris(return_X_y=True)"
      ],
      "metadata": {
        "id": "Z8lf_lB33Jy4"
      },
      "execution_count": null,
      "outputs": []
    },
    {
      "cell_type": "code",
      "source": [
        "X[:2]"
      ],
      "metadata": {
        "colab": {
          "base_uri": "https://localhost:8080/"
        },
        "id": "MnRFHW0y3piV",
        "outputId": "b173ec74-6ad5-4598-f9f7-ecb700aa1f34"
      },
      "execution_count": null,
      "outputs": [
        {
          "output_type": "execute_result",
          "data": {
            "text/plain": [
              "array([[5.1, 3.5, 1.4, 0.2],\n",
              "       [4.9, 3. , 1.4, 0.2]])"
            ]
          },
          "metadata": {},
          "execution_count": 32
        }
      ]
    },
    {
      "cell_type": "code",
      "source": [],
      "metadata": {
        "id": "6Sc5J2OjhC8U"
      },
      "execution_count": null,
      "outputs": []
    },
    {
      "cell_type": "code",
      "source": [
        "y[:100]"
      ],
      "metadata": {
        "colab": {
          "base_uri": "https://localhost:8080/"
        },
        "id": "2B8FyOpf3rzm",
        "outputId": "76a909c8-2cdf-4436-a6b0-e85e3445722f"
      },
      "execution_count": null,
      "outputs": [
        {
          "output_type": "execute_result",
          "data": {
            "text/plain": [
              "array([0, 0, 0, 0, 0, 0, 0, 0, 0, 0, 0, 0, 0, 0, 0, 0, 0, 0, 0, 0, 0, 0,\n",
              "       0, 0, 0, 0, 0, 0, 0, 0, 0, 0, 0, 0, 0, 0, 0, 0, 0, 0, 0, 0, 0, 0,\n",
              "       0, 0, 0, 0, 0, 0, 1, 1, 1, 1, 1, 1, 1, 1, 1, 1, 1, 1, 1, 1, 1, 1,\n",
              "       1, 1, 1, 1, 1, 1, 1, 1, 1, 1, 1, 1, 1, 1, 1, 1, 1, 1, 1, 1, 1, 1,\n",
              "       1, 1, 1, 1, 1, 1, 1, 1, 1, 1, 1, 1])"
            ]
          },
          "metadata": {},
          "execution_count": 33
        }
      ]
    },
    {
      "cell_type": "code",
      "source": [
        "clf = LogisticRegression(random_state=10, solver='liblinear').fit(X[:100], y[:100])"
      ],
      "metadata": {
        "id": "QU68EJpZ3wcl"
      },
      "execution_count": null,
      "outputs": []
    },
    {
      "cell_type": "markdown",
      "source": [
        "Revisamos los parámetros resultantes $\\beta_i$: "
      ],
      "metadata": {
        "id": "0zytJUAk4fc6"
      }
    },
    {
      "cell_type": "code",
      "source": [
        "clf.coef_"
      ],
      "metadata": {
        "colab": {
          "base_uri": "https://localhost:8080/"
        },
        "id": "Nc6a8cr24GFI",
        "outputId": "9cdfc422-5c22-4936-8de9-f8f2f3bbdce1"
      },
      "execution_count": null,
      "outputs": [
        {
          "output_type": "execute_result",
          "data": {
            "text/plain": [
              "array([[-0.40247392, -1.46382925,  2.23785648,  1.00009294]])"
            ]
          },
          "metadata": {},
          "execution_count": 35
        }
      ]
    },
    {
      "cell_type": "code",
      "source": [
        "model_coefs = pd.DataFrame(clf.coef_, columns=atrib_names)\n",
        "model_coefs"
      ],
      "metadata": {
        "colab": {
          "base_uri": "https://localhost:8080/",
          "height": 81
        },
        "id": "EjtG1CiT4KgG",
        "outputId": "c74c9efb-094a-4bb3-8219-584a0ca4de7a"
      },
      "execution_count": null,
      "outputs": [
        {
          "output_type": "execute_result",
          "data": {
            "text/plain": [
              "   sepal-length  sepal-width  petal-length  petal-width\n",
              "0     -0.402474    -1.463829      2.237856     1.000093"
            ],
            "text/html": [
              "\n",
              "  <div id=\"df-eb136ea1-b8fa-4020-88f9-229cb41dd3a8\">\n",
              "    <div class=\"colab-df-container\">\n",
              "      <div>\n",
              "<style scoped>\n",
              "    .dataframe tbody tr th:only-of-type {\n",
              "        vertical-align: middle;\n",
              "    }\n",
              "\n",
              "    .dataframe tbody tr th {\n",
              "        vertical-align: top;\n",
              "    }\n",
              "\n",
              "    .dataframe thead th {\n",
              "        text-align: right;\n",
              "    }\n",
              "</style>\n",
              "<table border=\"1\" class=\"dataframe\">\n",
              "  <thead>\n",
              "    <tr style=\"text-align: right;\">\n",
              "      <th></th>\n",
              "      <th>sepal-length</th>\n",
              "      <th>sepal-width</th>\n",
              "      <th>petal-length</th>\n",
              "      <th>petal-width</th>\n",
              "    </tr>\n",
              "  </thead>\n",
              "  <tbody>\n",
              "    <tr>\n",
              "      <th>0</th>\n",
              "      <td>-0.402474</td>\n",
              "      <td>-1.463829</td>\n",
              "      <td>2.237856</td>\n",
              "      <td>1.000093</td>\n",
              "    </tr>\n",
              "  </tbody>\n",
              "</table>\n",
              "</div>\n",
              "      <button class=\"colab-df-convert\" onclick=\"convertToInteractive('df-eb136ea1-b8fa-4020-88f9-229cb41dd3a8')\"\n",
              "              title=\"Convert this dataframe to an interactive table.\"\n",
              "              style=\"display:none;\">\n",
              "        \n",
              "  <svg xmlns=\"http://www.w3.org/2000/svg\" height=\"24px\"viewBox=\"0 0 24 24\"\n",
              "       width=\"24px\">\n",
              "    <path d=\"M0 0h24v24H0V0z\" fill=\"none\"/>\n",
              "    <path d=\"M18.56 5.44l.94 2.06.94-2.06 2.06-.94-2.06-.94-.94-2.06-.94 2.06-2.06.94zm-11 1L8.5 8.5l.94-2.06 2.06-.94-2.06-.94L8.5 2.5l-.94 2.06-2.06.94zm10 10l.94 2.06.94-2.06 2.06-.94-2.06-.94-.94-2.06-.94 2.06-2.06.94z\"/><path d=\"M17.41 7.96l-1.37-1.37c-.4-.4-.92-.59-1.43-.59-.52 0-1.04.2-1.43.59L10.3 9.45l-7.72 7.72c-.78.78-.78 2.05 0 2.83L4 21.41c.39.39.9.59 1.41.59.51 0 1.02-.2 1.41-.59l7.78-7.78 2.81-2.81c.8-.78.8-2.07 0-2.86zM5.41 20L4 18.59l7.72-7.72 1.47 1.35L5.41 20z\"/>\n",
              "  </svg>\n",
              "      </button>\n",
              "      \n",
              "  <style>\n",
              "    .colab-df-container {\n",
              "      display:flex;\n",
              "      flex-wrap:wrap;\n",
              "      gap: 12px;\n",
              "    }\n",
              "\n",
              "    .colab-df-convert {\n",
              "      background-color: #E8F0FE;\n",
              "      border: none;\n",
              "      border-radius: 50%;\n",
              "      cursor: pointer;\n",
              "      display: none;\n",
              "      fill: #1967D2;\n",
              "      height: 32px;\n",
              "      padding: 0 0 0 0;\n",
              "      width: 32px;\n",
              "    }\n",
              "\n",
              "    .colab-df-convert:hover {\n",
              "      background-color: #E2EBFA;\n",
              "      box-shadow: 0px 1px 2px rgba(60, 64, 67, 0.3), 0px 1px 3px 1px rgba(60, 64, 67, 0.15);\n",
              "      fill: #174EA6;\n",
              "    }\n",
              "\n",
              "    [theme=dark] .colab-df-convert {\n",
              "      background-color: #3B4455;\n",
              "      fill: #D2E3FC;\n",
              "    }\n",
              "\n",
              "    [theme=dark] .colab-df-convert:hover {\n",
              "      background-color: #434B5C;\n",
              "      box-shadow: 0px 1px 3px 1px rgba(0, 0, 0, 0.15);\n",
              "      filter: drop-shadow(0px 1px 2px rgba(0, 0, 0, 0.3));\n",
              "      fill: #FFFFFF;\n",
              "    }\n",
              "  </style>\n",
              "\n",
              "      <script>\n",
              "        const buttonEl =\n",
              "          document.querySelector('#df-eb136ea1-b8fa-4020-88f9-229cb41dd3a8 button.colab-df-convert');\n",
              "        buttonEl.style.display =\n",
              "          google.colab.kernel.accessAllowed ? 'block' : 'none';\n",
              "\n",
              "        async function convertToInteractive(key) {\n",
              "          const element = document.querySelector('#df-eb136ea1-b8fa-4020-88f9-229cb41dd3a8');\n",
              "          const dataTable =\n",
              "            await google.colab.kernel.invokeFunction('convertToInteractive',\n",
              "                                                     [key], {});\n",
              "          if (!dataTable) return;\n",
              "\n",
              "          const docLinkHtml = 'Like what you see? Visit the ' +\n",
              "            '<a target=\"_blank\" href=https://colab.research.google.com/notebooks/data_table.ipynb>data table notebook</a>'\n",
              "            + ' to learn more about interactive tables.';\n",
              "          element.innerHTML = '';\n",
              "          dataTable['output_type'] = 'display_data';\n",
              "          await google.colab.output.renderOutput(dataTable, element);\n",
              "          const docLink = document.createElement('div');\n",
              "          docLink.innerHTML = docLinkHtml;\n",
              "          element.appendChild(docLink);\n",
              "        }\n",
              "      </script>\n",
              "    </div>\n",
              "  </div>\n",
              "  "
            ]
          },
          "metadata": {},
          "execution_count": 36
        }
      ]
    },
    {
      "cell_type": "code",
      "source": [],
      "metadata": {
        "id": "jQdLmXdq4iem"
      },
      "execution_count": null,
      "outputs": []
    },
    {
      "cell_type": "markdown",
      "source": [
        "## Implementación del método de máxima verosimilitud para la regresión logística"
      ],
      "metadata": {
        "id": "P8KuPnhCs0ti"
      }
    },
    {
      "cell_type": "markdown",
      "source": [
        "### Definir la función de entorno L(a,b)"
      ],
      "metadata": {
        "id": "5iCUHLmbtArM"
      }
    },
    {
      "cell_type": "code",
      "source": [
        "display(Math(r'L(\\beta) = \\sum_{i=0}^n P_i^{y_i} (1-P_i)^{1-y_i}'))\n"
      ],
      "metadata": {
        "colab": {
          "base_uri": "https://localhost:8080/",
          "height": 67
        },
        "id": "RD1jBBt5s84V",
        "outputId": "47d6db35-72f2-487f-9517-430ea306e93e"
      },
      "execution_count": null,
      "outputs": [
        {
          "output_type": "display_data",
          "data": {
            "text/plain": [
              "<IPython.core.display.Math object>"
            ],
            "text/latex": "$\\displaystyle L(\\beta) = \\sum_{i=0}^n P_i^{y_i} (1-P_i)^{1-y_i}$"
          },
          "metadata": {}
        }
      ]
    },
    {
      "cell_type": "code",
      "source": [
        "def likelihood(y, pi):\n",
        "  import numpy as np\n",
        "  total_sum = 1\n",
        "  sum_in = list(range(1, len(y)+ 1))\n",
        "\n",
        "  for i in range(len(y)):\n",
        "    sum_in[i] = np.where(y[i] == 1, pi[i], 1-pi[i])\n",
        "    total_sum = total_sum * sum_in[i]\n",
        "\n",
        "  return total_sum\n"
      ],
      "metadata": {
        "id": "9Isb36Wxvj3y"
      },
      "execution_count": null,
      "outputs": []
    },
    {
      "cell_type": "markdown",
      "source": [
        "### Calcular las probabilidades para cada observación"
      ],
      "metadata": {
        "id": "u4NA8k4xw18T"
      }
    },
    {
      "cell_type": "code",
      "source": [
        "display(Math(r'P_i = P(x_i) = \\frac{1}{1+e^{-\\sum_{j=0}^k\\beta_j\\cdot x_{ij}}}'))"
      ],
      "metadata": {
        "colab": {
          "base_uri": "https://localhost:8080/",
          "height": 57
        },
        "id": "pSbvyx6Lw0hz",
        "outputId": "0009e129-796d-488c-de14-ece8f17ab404"
      },
      "execution_count": null,
      "outputs": [
        {
          "output_type": "display_data",
          "data": {
            "text/plain": [
              "<IPython.core.display.Math object>"
            ],
            "text/latex": "$\\displaystyle P_i = P(x_i) = \\frac{1}{1+e^{-\\sum_{j=0}^k\\beta_j\\cdot x_{ij}}}$"
          },
          "metadata": {}
        }
      ]
    },
    {
      "cell_type": "code",
      "source": [
        "def logitprobs(X, beta):\n",
        "  import numpy as np\n",
        "  n_rows = np.shape(X)[0]\n",
        "  n_cols = np.shape(X)[1]\n",
        "  \n",
        "  pi = list(range(1, n_rows+1))\n",
        "  expon = list(range(1, n_rows+1))\n",
        "\n",
        "  for i in range(n_rows):\n",
        "    expon[i] = 0\n",
        "    for j in range(n_cols):\n",
        "      ex = X[i][j] * beta[j]\n",
        "      expon[i] = ex + expon[i]\n",
        "\n",
        "    with np.errstate(divide='ignore', invalid='ignore'):\n",
        "      pi[i] = 1/(1+np.exp(-expon[i]))\n",
        "  \n",
        "  return pi"
      ],
      "metadata": {
        "id": "tGhQg-qL0N9j"
      },
      "execution_count": null,
      "outputs": []
    },
    {
      "cell_type": "markdown",
      "source": [
        "### Calcular la matriz diagonal W"
      ],
      "metadata": {
        "id": "F4_UXyVy71KB"
      }
    },
    {
      "cell_type": "code",
      "source": [
        "display(Math(r'W= diag(P_i \\cdot (1-P_i))_{i=1}^n'))"
      ],
      "metadata": {
        "colab": {
          "base_uri": "https://localhost:8080/",
          "height": 38
        },
        "id": "-M61KTRz4Nol",
        "outputId": "183a860d-5f3d-45d8-df97-77ae6d935693"
      },
      "execution_count": null,
      "outputs": [
        {
          "output_type": "display_data",
          "data": {
            "text/plain": [
              "<IPython.core.display.Math object>"
            ],
            "text/latex": "$\\displaystyle W= diag(P_i \\cdot (1-P_i))_{i=1}^n$"
          },
          "metadata": {}
        }
      ]
    },
    {
      "cell_type": "code",
      "source": [
        "def findW(pi):\n",
        "  import numpy as np\n",
        "  n = len(pi)\n",
        "  W = np.zeros(n * n).reshape(n,n)\n",
        "  \n",
        "  for i in range(n):\n",
        "    print(i)\n",
        "    W[i,i] = pi[i] * (1-pi[i])\n",
        "    W[i,i].astype(float)\n",
        "\n",
        "  return W"
      ],
      "metadata": {
        "id": "H2MEB0St8Dak"
      },
      "execution_count": null,
      "outputs": []
    },
    {
      "cell_type": "markdown",
      "source": [
        "### Obtener la solución la función logística\n",
        "\n",
        "#### Newton"
      ],
      "metadata": {
        "id": "m3C-2OUd8srF"
      }
    },
    {
      "cell_type": "code",
      "source": [
        "display(Math(r\"\\beta_{n+1} = \\beta_n\\frac{f(\\beta_n)}{f'(\\beta_n)}\"))\n",
        "display(Math(r'f(\\beta) = X(Y-P)'))\n",
        "display(Math(r'f(\\beta) = XWX^T'))"
      ],
      "metadata": {
        "colab": {
          "base_uri": "https://localhost:8080/",
          "height": 100
        },
        "id": "OlTvW7A98q-e",
        "outputId": "c5d4c2da-37fd-460f-9b00-f2f99fbfbed3"
      },
      "execution_count": null,
      "outputs": [
        {
          "output_type": "display_data",
          "data": {
            "text/plain": [
              "<IPython.core.display.Math object>"
            ],
            "text/latex": "$\\displaystyle \\beta_{n+1} = \\beta_n\\frac{f(\\beta_n)}{f'(\\beta_n)}$"
          },
          "metadata": {}
        },
        {
          "output_type": "display_data",
          "data": {
            "text/plain": [
              "<IPython.core.display.Math object>"
            ],
            "text/latex": "$\\displaystyle f(\\beta) = X(Y-P)$"
          },
          "metadata": {}
        },
        {
          "output_type": "display_data",
          "data": {
            "text/plain": [
              "<IPython.core.display.Math object>"
            ],
            "text/latex": "$\\displaystyle f(\\beta) = XWX^T$"
          },
          "metadata": {}
        }
      ]
    },
    {
      "cell_type": "code",
      "source": [
        "def logistics(X, Y, limit):\n",
        "  import numpy as np\n",
        "  from numpy import linalg\n",
        "\n",
        "  nrow = np.shape(X)[0]\n",
        "  bias = np.ones(nrow).reshape(nrow, 1)\n",
        "  X_new = np.append(X, bias, axis = 1)\n",
        "  ncol = np.shape(X_new)[1]\n",
        "  beta = np.zeros(ncol).reshape(ncol,1)\n",
        "  root_dif = np.array(range(1, ncol+1)).reshape(ncol,1)\n",
        "\n",
        "  iter_i = 1000\n",
        "  while (iter_i > limit):\n",
        "\n",
        "    print(\"Iter:i \" + str(iter_i) + ', limit: ' +str(limit))\n",
        "    pi = logitprobs(X_new, beta)\n",
        "    print(f'pi: {pi}')\n",
        "\n",
        "    W = findW(pi)\n",
        "    print(f'W: {W}')\n",
        "\n",
        "    num = (np.transpose(np.matrix(X_new))*np.matrix(Y - np.transpose(pi)).transpose())\n",
        "    den = (np.matrix(np.transpose(X_new))*np.matrix(X_new))\n",
        "    root_dif = np.array(linalg.inv(den)*num)\n",
        "    beta = beta + root_dif\n",
        "    print(f'Beta: {beta}')\n",
        "    iter_i = np.sum(root_dif*root_dif)\n",
        "    ll = likelihood(Y, pi)\n",
        "  \n",
        "  return beta"
      ],
      "metadata": {
        "id": "EGOydjN-9H2g"
      },
      "execution_count": null,
      "outputs": []
    },
    {
      "cell_type": "markdown",
      "source": [
        "### Comprobación experimiental"
      ],
      "metadata": {
        "id": "brpZDSYTBp_C"
      }
    },
    {
      "cell_type": "code",
      "source": [
        "import numpy as np\n"
      ],
      "metadata": {
        "id": "8lt9puwtBoYj"
      },
      "execution_count": null,
      "outputs": []
    },
    {
      "cell_type": "code",
      "source": [
        "X = np.array(range(10)).reshape(10,1)\n",
        "X"
      ],
      "metadata": {
        "colab": {
          "base_uri": "https://localhost:8080/"
        },
        "id": "vSiKQGgYBu1g",
        "outputId": "4ba9bbb0-c654-49cd-df60-2f448208c75e"
      },
      "execution_count": null,
      "outputs": [
        {
          "output_type": "execute_result",
          "data": {
            "text/plain": [
              "array([[0],\n",
              "       [1],\n",
              "       [2],\n",
              "       [3],\n",
              "       [4],\n",
              "       [5],\n",
              "       [6],\n",
              "       [7],\n",
              "       [8],\n",
              "       [9]])"
            ]
          },
          "metadata": {},
          "execution_count": 52
        }
      ]
    },
    {
      "cell_type": "code",
      "source": [
        "Y = [0,0,0,0,1,0,1,0,1,1]"
      ],
      "metadata": {
        "id": "RxVCybsyB4Hg"
      },
      "execution_count": null,
      "outputs": []
    },
    {
      "cell_type": "code",
      "source": [
        "bias = np.ones(10).reshape(10,1)\n",
        "X_new = np.append(X, bias, axis = 1)"
      ],
      "metadata": {
        "id": "BPZ71gJ8CJQH"
      },
      "execution_count": null,
      "outputs": []
    },
    {
      "cell_type": "code",
      "source": [
        "X_new"
      ],
      "metadata": {
        "colab": {
          "base_uri": "https://localhost:8080/"
        },
        "id": "fbCZfG44CR8u",
        "outputId": "9fdb70db-17aa-48e9-d9bc-d044f0ab1b9e"
      },
      "execution_count": null,
      "outputs": [
        {
          "output_type": "execute_result",
          "data": {
            "text/plain": [
              "array([[0., 1.],\n",
              "       [1., 1.],\n",
              "       [2., 1.],\n",
              "       [3., 1.],\n",
              "       [4., 1.],\n",
              "       [5., 1.],\n",
              "       [6., 1.],\n",
              "       [7., 1.],\n",
              "       [8., 1.],\n",
              "       [9., 1.]])"
            ]
          },
          "metadata": {},
          "execution_count": 55
        }
      ]
    },
    {
      "cell_type": "code",
      "source": [
        "a = logistics(X, Y, 0.00001)"
      ],
      "metadata": {
        "colab": {
          "base_uri": "https://localhost:8080/"
        },
        "id": "NlY78PpcCTDt",
        "outputId": "c1079c5e-fb85-4475-b626-6ee42872e764"
      },
      "execution_count": null,
      "outputs": [
        {
          "output_type": "stream",
          "name": "stdout",
          "text": [
            "Iter:i 1000, limit: 1e-05\n",
            "pi: [array([0.5]), array([0.5]), array([0.5]), array([0.5]), array([0.5]), array([0.5]), array([0.5]), array([0.5]), array([0.5]), array([0.5])]\n",
            "0\n",
            "1\n",
            "2\n",
            "3\n",
            "4\n",
            "5\n",
            "6\n",
            "7\n",
            "8\n",
            "9\n",
            "W: [[0.25 0.   0.   0.   0.   0.   0.   0.   0.   0.  ]\n",
            " [0.   0.25 0.   0.   0.   0.   0.   0.   0.   0.  ]\n",
            " [0.   0.   0.25 0.   0.   0.   0.   0.   0.   0.  ]\n",
            " [0.   0.   0.   0.25 0.   0.   0.   0.   0.   0.  ]\n",
            " [0.   0.   0.   0.   0.25 0.   0.   0.   0.   0.  ]\n",
            " [0.   0.   0.   0.   0.   0.25 0.   0.   0.   0.  ]\n",
            " [0.   0.   0.   0.   0.   0.   0.25 0.   0.   0.  ]\n",
            " [0.   0.   0.   0.   0.   0.   0.   0.25 0.   0.  ]\n",
            " [0.   0.   0.   0.   0.   0.   0.   0.   0.25 0.  ]\n",
            " [0.   0.   0.   0.   0.   0.   0.   0.   0.   0.25]]\n",
            "Beta: [[ 0.10909091]\n",
            " [-0.59090909]]\n",
            "Iter:i 0.36107438016528914, limit: 1e-05\n",
            "pi: [array([0.35642629]), array([0.38182288]), array([0.40788218]), array([0.43447002]), array([0.46144035]), array([0.48863832]), array([0.51590372]), array([0.54307478]), array([0.56999192]), array([0.59650153])]\n",
            "0\n",
            "1\n",
            "2\n",
            "3\n",
            "4\n",
            "5\n",
            "6\n",
            "7\n",
            "8\n",
            "9\n",
            "W: [[0.22938659 0.         0.         0.         0.         0.\n",
            "  0.         0.         0.         0.        ]\n",
            " [0.         0.23603417 0.         0.         0.         0.\n",
            "  0.         0.         0.         0.        ]\n",
            " [0.         0.         0.24151431 0.         0.         0.\n",
            "  0.         0.         0.         0.        ]\n",
            " [0.         0.         0.         0.24570582 0.         0.\n",
            "  0.         0.         0.         0.        ]\n",
            " [0.         0.         0.         0.         0.24851315 0.\n",
            "  0.         0.         0.         0.        ]\n",
            " [0.         0.         0.         0.         0.         0.24987091\n",
            "  0.         0.         0.         0.        ]\n",
            " [0.         0.         0.         0.         0.         0.\n",
            "  0.24974707 0.         0.         0.        ]\n",
            " [0.         0.         0.         0.         0.         0.\n",
            "  0.         0.24814456 0.         0.        ]\n",
            " [0.         0.         0.         0.         0.         0.\n",
            "  0.         0.         0.24510113 0.        ]\n",
            " [0.         0.         0.         0.         0.         0.\n",
            "  0.         0.         0.         0.24068746]]\n",
            "Beta: [[ 0.19136168]\n",
            " [-1.03674277]]\n",
            "Iter:i 0.20553614950200116, limit: 1e-05\n",
            "pi: [array([0.26177897]), array([0.30040268]), array([0.34208435]), array([0.38635553]), array([0.43258895]), array([0.48002704]), array([0.52782804]), array([0.57512417]), array([0.62108374]), array([0.66496789])]\n",
            "0\n",
            "1\n",
            "2\n",
            "3\n",
            "4\n",
            "5\n",
            "6\n",
            "7\n",
            "8\n",
            "9\n",
            "W: [[0.19325074 0.         0.         0.         0.         0.\n",
            "  0.         0.         0.         0.        ]\n",
            " [0.         0.21016091 0.         0.         0.         0.\n",
            "  0.         0.         0.         0.        ]\n",
            " [0.         0.         0.22506265 0.         0.         0.\n",
            "  0.         0.         0.         0.        ]\n",
            " [0.         0.         0.         0.23708493 0.         0.\n",
            "  0.         0.         0.         0.        ]\n",
            " [0.         0.         0.         0.         0.24545575 0.\n",
            "  0.         0.         0.         0.        ]\n",
            " [0.         0.         0.         0.         0.         0.24960108\n",
            "  0.         0.         0.         0.        ]\n",
            " [0.         0.         0.         0.         0.         0.\n",
            "  0.2492256  0.         0.         0.        ]\n",
            " [0.         0.         0.         0.         0.         0.\n",
            "  0.         0.24435636 0.         0.        ]\n",
            " [0.         0.         0.         0.         0.         0.\n",
            "  0.         0.         0.23533873 0.        ]\n",
            " [0.         0.         0.         0.         0.         0.\n",
            "  0.         0.         0.         0.2227856 ]]\n",
            "Beta: [[ 0.25493427]\n",
            " [-1.38204356]]\n",
            "Iter:i 0.12327411272326981, limit: 1e-05\n",
            "pi: [array([0.20068099]), array([0.24469497]), array([0.29480193]), array([0.35040926]), array([0.41040135]), array([0.47318271]), array([0.53682372]), array([0.59928729]), array([0.65868298]), array([0.71348385])]\n",
            "0\n",
            "1\n",
            "2\n",
            "3\n",
            "4\n",
            "5\n",
            "6\n",
            "7\n",
            "8\n",
            "9\n",
            "W: [[0.16040813 0.         0.         0.         0.         0.\n",
            "  0.         0.         0.         0.        ]\n",
            " [0.         0.18481934 0.         0.         0.         0.\n",
            "  0.         0.         0.         0.        ]\n",
            " [0.         0.         0.20789375 0.         0.         0.\n",
            "  0.         0.         0.         0.        ]\n",
            " [0.         0.         0.         0.22762261 0.         0.\n",
            "  0.         0.         0.         0.        ]\n",
            " [0.         0.         0.         0.         0.24197208 0.\n",
            "  0.         0.         0.         0.        ]\n",
            " [0.         0.         0.         0.         0.         0.24928083\n",
            "  0.         0.         0.         0.        ]\n",
            " [0.         0.         0.         0.         0.         0.\n",
            "  0.24864401 0.         0.         0.        ]\n",
            " [0.         0.         0.         0.         0.         0.\n",
            "  0.         0.24014203 0.         0.        ]\n",
            " [0.         0.         0.         0.         0.         0.\n",
            "  0.         0.         0.22481971 0.        ]\n",
            " [0.         0.         0.         0.         0.         0.\n",
            "  0.         0.         0.         0.20442465]]\n",
            "Beta: [[ 0.30549431]\n",
            " [-1.65780865]]\n",
            "Iter:i 0.07860270077762124, limit: 1e-05\n",
            "pi: [array([0.16005638]), array([0.20549226]), array([0.25983621]), array([0.32271432]), array([0.39273471]), array([0.46746178]), array([0.5436777]), array([0.61790172]), array([0.68700317]), array([0.74869045])]\n",
            "0\n",
            "1\n",
            "2\n",
            "3\n",
            "4\n",
            "5\n",
            "6\n",
            "7\n",
            "8\n",
            "9\n",
            "W: [[0.13443833 0.         0.         0.         0.         0.\n",
            "  0.         0.         0.         0.        ]\n",
            " [0.         0.16326519 0.         0.         0.         0.\n",
            "  0.         0.         0.         0.        ]\n",
            " [0.         0.         0.19232135 0.         0.         0.\n",
            "  0.         0.         0.         0.        ]\n",
            " [0.         0.         0.         0.21856979 0.         0.\n",
            "  0.         0.         0.         0.        ]\n",
            " [0.         0.         0.         0.         0.23849416 0.\n",
            "  0.         0.         0.         0.        ]\n",
            " [0.         0.         0.         0.         0.         0.24894126\n",
            "  0.         0.         0.         0.        ]\n",
            " [0.         0.         0.         0.         0.         0.\n",
            "  0.24809226 0.         0.         0.        ]\n",
            " [0.         0.         0.         0.         0.         0.\n",
            "  0.         0.23609919 0.         0.        ]\n",
            " [0.         0.         0.         0.         0.         0.\n",
            "  0.         0.         0.21502981 0.        ]\n",
            " [0.         0.         0.         0.         0.         0.\n",
            "  0.         0.         0.         0.18815306]]\n",
            "Beta: [[ 0.3467293 ]\n",
            " [-1.88392295]]\n",
            "Iter:i 0.05282799803445509, limit: 1e-05\n",
            "pi: [array([0.13193893]), array([0.17694361]), array([0.2331759]), array([0.30074872]), array([0.37824458]), array([0.46250143]), array([0.54895586]), array([0.63255235]), array([0.70887189]), array([0.77497874])]\n",
            "0\n",
            "1\n",
            "2\n",
            "3\n",
            "4\n",
            "5\n",
            "6\n",
            "7\n",
            "8\n",
            "9\n",
            "W: [[0.11453105 0.         0.         0.         0.         0.\n",
            "  0.         0.         0.         0.        ]\n",
            " [0.         0.14563457 0.         0.         0.         0.\n",
            "  0.         0.         0.         0.        ]\n",
            " [0.         0.         0.1788049  0.         0.         0.\n",
            "  0.         0.         0.         0.        ]\n",
            " [0.         0.         0.         0.21029893 0.         0.\n",
            "  0.         0.         0.         0.        ]\n",
            " [0.         0.         0.         0.         0.23517562 0.\n",
            "  0.         0.         0.         0.        ]\n",
            " [0.         0.         0.         0.         0.         0.24859386\n",
            "  0.         0.         0.         0.        ]\n",
            " [0.         0.         0.         0.         0.         0.\n",
            "  0.24760332 0.         0.         0.        ]\n",
            " [0.         0.         0.         0.         0.         0.\n",
            "  0.         0.23242987 0.         0.        ]\n",
            " [0.         0.         0.         0.         0.         0.\n",
            "  0.         0.         0.20637253 0.        ]\n",
            " [0.         0.         0.         0.         0.         0.\n",
            "  0.         0.         0.         0.17438669]]\n",
            "Beta: [[ 0.38105283]\n",
            " [-2.07327005]]\n",
            "Iter:i 0.037030430669526014, limit: 1e-05\n",
            "pi: [array([0.11172211]), array([0.15548448]), array([0.21229207]), array([0.28290208]), array([0.36608282]), array([0.45809704]), array([0.55306119]), array([0.64430527]), array([0.72614533]), array([0.79514229])]\n",
            "0\n",
            "1\n",
            "2\n",
            "3\n",
            "4\n",
            "5\n",
            "6\n",
            "7\n",
            "8\n",
            "9\n",
            "W: [[0.09924028 0.         0.         0.         0.         0.\n",
            "  0.         0.         0.         0.        ]\n",
            " [0.         0.13130905 0.         0.         0.         0.\n",
            "  0.         0.         0.         0.        ]\n",
            " [0.         0.         0.16722414 0.         0.         0.\n",
            "  0.         0.         0.         0.        ]\n",
            " [0.         0.         0.         0.20286849 0.         0.\n",
            "  0.         0.         0.         0.        ]\n",
            " [0.         0.         0.         0.         0.23206619 0.\n",
            "  0.         0.         0.         0.        ]\n",
            " [0.         0.         0.         0.         0.         0.24824414\n",
            "  0.         0.         0.         0.        ]\n",
            " [0.         0.         0.         0.         0.         0.\n",
            "  0.24718451 0.         0.         0.        ]\n",
            " [0.         0.         0.         0.         0.         0.\n",
            "  0.         0.22917599 0.         0.        ]\n",
            " [0.         0.         0.         0.         0.         0.\n",
            "  0.         0.         0.19885829 0.        ]\n",
            " [0.         0.         0.         0.         0.         0.\n",
            "  0.         0.         0.         0.16289103]]\n",
            "Beta: [[ 0.41009547]\n",
            " [-2.23448537]]\n",
            "Iter:i 0.026833855970082296, limit: 1e-05\n",
            "pi: [array([0.09669615]), array([0.13890795]), array([0.19555759]), array([0.26811665]), array([0.35569387]), array([0.45412735]), array([0.55628232]), array([0.65389009]), array([0.7400596]), array([0.81097743])]\n",
            "0\n",
            "1\n",
            "2\n",
            "3\n",
            "4\n",
            "5\n",
            "6\n",
            "7\n",
            "8\n",
            "9\n",
            "W: [[0.08734601 0.         0.         0.         0.         0.\n",
            "  0.         0.         0.         0.        ]\n",
            " [0.         0.11961253 0.         0.         0.         0.\n",
            "  0.         0.         0.         0.        ]\n",
            " [0.         0.         0.15731482 0.         0.         0.\n",
            "  0.         0.         0.         0.        ]\n",
            " [0.         0.         0.         0.19623011 0.         0.\n",
            "  0.         0.         0.         0.        ]\n",
            " [0.         0.         0.         0.         0.22917574 0.\n",
            "  0.         0.         0.         0.        ]\n",
            " [0.         0.         0.         0.         0.         0.2478957\n",
            "  0.         0.         0.         0.        ]\n",
            " [0.         0.         0.         0.         0.         0.\n",
            "  0.2468323  0.         0.         0.        ]\n",
            " [0.         0.         0.         0.         0.         0.\n",
            "  0.         0.22631784 0.         0.        ]\n",
            " [0.         0.         0.         0.         0.         0.\n",
            "  0.         0.         0.19237139 0.        ]\n",
            " [0.         0.         0.         0.         0.         0.\n",
            "  0.         0.         0.         0.15329304]]\n",
            "Beta: [[ 0.43499737]\n",
            " [-2.37357484]]\n",
            "Iter:i 0.019965983949047056, limit: 1e-05\n",
            "pi: [array([0.08521007]), array([0.12580422]), array([0.18189217]), array([0.2556727]), array([0.34669801]), array([0.45051552]), array([0.55882861]), array([0.66181808]), array([0.75145812]), array([0.82366837])]\n",
            "0\n",
            "1\n",
            "2\n",
            "3\n",
            "4\n",
            "5\n",
            "6\n",
            "7\n",
            "8\n",
            "9\n",
            "W: [[0.07794931 0.         0.         0.         0.         0.\n",
            "  0.         0.         0.         0.        ]\n",
            " [0.         0.10997752 0.         0.         0.         0.\n",
            "  0.         0.         0.         0.        ]\n",
            " [0.         0.         0.14880741 0.         0.         0.\n",
            "  0.         0.         0.         0.        ]\n",
            " [0.         0.         0.         0.19030417 0.         0.\n",
            "  0.         0.         0.         0.        ]\n",
            " [0.         0.         0.         0.         0.2264985  0.\n",
            "  0.         0.         0.         0.        ]\n",
            " [0.         0.         0.         0.         0.         0.24755129\n",
            "  0.         0.         0.         0.        ]\n",
            " [0.         0.         0.         0.         0.         0.\n",
            "  0.24653919 0.         0.         0.        ]\n",
            " [0.         0.         0.         0.         0.         0.\n",
            "  0.         0.22381491 0.         0.        ]\n",
            " [0.         0.         0.         0.         0.         0.\n",
            "  0.         0.         0.18676881 0.        ]\n",
            " [0.         0.         0.         0.         0.         0.\n",
            "  0.         0.         0.         0.14523879]]\n",
            "Beta: [[ 0.45658151]\n",
            " [-2.49486006]]\n",
            "Iter:i 0.015175980074289755, limit: 1e-05\n",
            "pi: [array([0.0762193]), array([0.11524214]), array([0.17055527]), array([0.24506364]), array([0.33882518]), array([0.44720935]), array([0.56085408]), array([0.6684561]), array([0.76093128]), array([0.83401771])]\n",
            "0\n",
            "1\n",
            "2\n",
            "3\n",
            "4\n",
            "5\n",
            "6\n",
            "7\n",
            "8\n",
            "9\n",
            "W: [[0.07040991 0.         0.         0.         0.         0.\n",
            "  0.         0.         0.         0.        ]\n",
            " [0.         0.10196139 0.         0.         0.         0.\n",
            "  0.         0.         0.         0.        ]\n",
            " [0.         0.         0.14146617 0.         0.         0.\n",
            "  0.         0.         0.         0.        ]\n",
            " [0.         0.         0.         0.18500745 0.         0.\n",
            "  0.         0.         0.         0.        ]\n",
            " [0.         0.         0.         0.         0.22402268 0.\n",
            "  0.         0.         0.         0.        ]\n",
            " [0.         0.         0.         0.         0.         0.24721315\n",
            "  0.         0.         0.         0.        ]\n",
            " [0.         0.         0.         0.         0.         0.\n",
            "  0.24629678 0.         0.         0.        ]\n",
            " [0.         0.         0.         0.         0.         0.\n",
            "  0.         0.22162254 0.         0.        ]\n",
            " [0.         0.         0.         0.         0.         0.\n",
            "  0.         0.         0.18191487 0.        ]\n",
            " [0.         0.         0.         0.         0.         0.\n",
            "  0.         0.         0.         0.13843217]]\n",
            "Beta: [[ 0.47545867]\n",
            " [-2.60154466]]\n",
            "Iter:i 0.011737951618115064, limit: 1e-05\n",
            "pi: [array([0.06903907]), array([0.10658713]), array([0.16102418]), array([0.23592199]), array([0.33187653]), array([0.44417093]), array([0.56247364]), array([0.67407322]), array([0.76890253]), array([0.84258426])]\n",
            "0\n",
            "1\n",
            "2\n",
            "3\n",
            "4\n",
            "5\n",
            "6\n",
            "7\n",
            "8\n",
            "9\n",
            "W: [[0.06427268 0.         0.         0.         0.         0.\n",
            "  0.         0.         0.         0.        ]\n",
            " [0.         0.09522632 0.         0.         0.         0.\n",
            "  0.         0.         0.         0.        ]\n",
            " [0.         0.         0.13509539 0.         0.         0.\n",
            "  0.         0.         0.         0.        ]\n",
            " [0.         0.         0.         0.18026281 0.         0.\n",
            "  0.         0.         0.         0.        ]\n",
            " [0.         0.         0.         0.         0.2217345  0.\n",
            "  0.         0.         0.         0.        ]\n",
            " [0.         0.         0.         0.         0.         0.24688312\n",
            "  0.         0.         0.         0.        ]\n",
            " [0.         0.         0.         0.         0.         0.\n",
            "  0.24609704 0.         0.         0.        ]\n",
            " [0.         0.         0.         0.         0.         0.\n",
            "  0.         0.21969851 0.         0.        ]\n",
            " [0.         0.         0.         0.         0.         0.\n",
            "  0.         0.         0.17769143 0.        ]\n",
            " [0.         0.         0.         0.         0.         0.\n",
            "  0.         0.         0.         0.13263603]]\n",
            "Beta: [[ 0.49209316]\n",
            " [-2.69606522]]\n",
            "Iter:i 0.009210842410413662, limit: 1e-05\n",
            "pi: [array([0.06320594]), array([0.09939436]), array([0.15292017]), array([0.22797416]), array([0.32570127]), array([0.44137108]), array([0.56377417]), array([0.67887071]), array([0.77568236]), array([0.8497668])]\n",
            "0\n",
            "1\n",
            "2\n",
            "3\n",
            "4\n",
            "5\n",
            "6\n",
            "7\n",
            "8\n",
            "9\n",
            "W: [[0.05921095 0.         0.         0.         0.         0.\n",
            "  0.         0.         0.         0.        ]\n",
            " [0.         0.08951512 0.         0.         0.         0.\n",
            "  0.         0.         0.         0.        ]\n",
            " [0.         0.         0.12953559 0.         0.         0.\n",
            "  0.         0.         0.         0.        ]\n",
            " [0.         0.         0.         0.17600194 0.         0.\n",
            "  0.         0.         0.         0.        ]\n",
            " [0.         0.         0.         0.         0.21961995 0.\n",
            "  0.         0.         0.         0.        ]\n",
            " [0.         0.         0.         0.         0.         0.24656265\n",
            "  0.         0.         0.         0.        ]\n",
            " [0.         0.         0.         0.         0.         0.\n",
            "  0.24593285 0.         0.         0.        ]\n",
            " [0.         0.         0.         0.         0.         0.\n",
            "  0.         0.21800527 0.         0.        ]\n",
            " [0.         0.         0.         0.         0.         0.\n",
            "  0.         0.         0.17399924 0.        ]\n",
            " [0.         0.         0.         0.         0.         0.\n",
            "  0.         0.         0.         0.12766319]]\n",
            "Beta: [[ 0.50684536]\n",
            " [-2.78031625]]\n",
            "Iter:i 0.007315862340130213, limit: 1e-05\n",
            "pi: [array([0.05839716]), array([0.09334405]), array([0.14596248]), array([0.22101174]), array([0.32018216]), array([0.43878625]), array([0.5648221]), array([0.68300177]), array([0.78150299]), array([0.85585633])]\n",
            "0\n",
            "1\n",
            "2\n",
            "3\n",
            "4\n",
            "5\n",
            "6\n",
            "7\n",
            "8\n",
            "9\n",
            "W: [[0.05498693 0.         0.         0.         0.         0.\n",
            "  0.         0.         0.         0.        ]\n",
            " [0.         0.08463094 0.         0.         0.         0.\n",
            "  0.         0.         0.         0.        ]\n",
            " [0.         0.         0.12465743 0.         0.         0.\n",
            "  0.         0.         0.         0.        ]\n",
            " [0.         0.         0.         0.17216555 0.         0.\n",
            "  0.         0.         0.         0.        ]\n",
            " [0.         0.         0.         0.         0.21766554 0.\n",
            "  0.         0.         0.         0.        ]\n",
            " [0.         0.         0.         0.         0.         0.24625288\n",
            "  0.         0.         0.         0.        ]\n",
            " [0.         0.         0.         0.         0.         0.\n",
            "  0.24579809 0.         0.         0.        ]\n",
            " [0.         0.         0.         0.         0.         0.\n",
            "  0.         0.21651035 0.         0.        ]\n",
            " [0.         0.         0.         0.         0.         0.\n",
            "  0.         0.         0.17075607 0.        ]\n",
            " [0.         0.         0.         0.         0.         0.\n",
            "  0.         0.         0.         0.12336627]]\n",
            "Beta: [[ 0.52000005]\n",
            " [-2.85579904]]\n",
            "Iter:i 0.005870698014412097, limit: 1e-05\n",
            "pi: [array([0.05438233]), array([0.08820118]), array([0.13993873]), array([0.2148729]), array([0.31522604]), array([0.43639673]), array([0.56566877]), array([0.68658488]), array([0.78654121]), array([0.8610695])]\n",
            "0\n",
            "1\n",
            "2\n",
            "3\n",
            "4\n",
            "5\n",
            "6\n",
            "7\n",
            "8\n",
            "9\n",
            "W: [[0.05142489 0.         0.         0.         0.         0.\n",
            "  0.         0.         0.         0.        ]\n",
            " [0.         0.08042173 0.         0.         0.         0.\n",
            "  0.         0.         0.         0.        ]\n",
            " [0.         0.         0.12035588 0.         0.         0.\n",
            "  0.         0.         0.         0.        ]\n",
            " [0.         0.         0.         0.16870254 0.         0.\n",
            "  0.         0.         0.         0.        ]\n",
            " [0.         0.         0.         0.         0.21585858 0.\n",
            "  0.         0.         0.         0.        ]\n",
            " [0.         0.         0.         0.         0.         0.24595462\n",
            "  0.         0.         0.         0.        ]\n",
            " [0.         0.         0.         0.         0.         0.\n",
            "  0.24568761 0.         0.         0.        ]\n",
            " [0.         0.         0.         0.         0.         0.\n",
            "  0.         0.21518608 0.         0.        ]\n",
            " [0.         0.         0.         0.         0.         0.\n",
            "  0.         0.         0.16789413 0.        ]\n",
            " [0.         0.         0.         0.         0.         0.\n",
            "  0.         0.         0.         0.11962882]]\n",
            "Beta: [[ 0.53178578]\n",
            " [-2.92372308]]\n",
            "Iter:i 0.004752578013446279, limit: 1e-05\n",
            "pi: [array([0.05099323]), array([0.08378959]), array([0.13468539]), array([0.20942982]), array([0.31075758]), array([0.43418556]), array([0.5663542]), array([0.68971289]), array([0.79093378]), array([0.8655705])]\n",
            "0\n",
            "1\n",
            "2\n",
            "3\n",
            "4\n",
            "5\n",
            "6\n",
            "7\n",
            "8\n",
            "9\n",
            "W: [[0.04839292 0.         0.         0.         0.         0.\n",
            "  0.         0.         0.         0.        ]\n",
            " [0.         0.07676889 0.         0.         0.         0.\n",
            "  0.         0.         0.         0.        ]\n",
            " [0.         0.         0.11654524 0.         0.         0.\n",
            "  0.         0.         0.         0.        ]\n",
            " [0.         0.         0.         0.16556897 0.         0.\n",
            "  0.         0.         0.         0.        ]\n",
            " [0.         0.         0.         0.         0.21418731 0.\n",
            "  0.         0.         0.         0.        ]\n",
            " [0.         0.         0.         0.         0.         0.24566846\n",
            "  0.         0.         0.         0.        ]\n",
            " [0.         0.         0.         0.         0.         0.\n",
            "  0.24559712 0.         0.         0.        ]\n",
            " [0.         0.         0.         0.         0.         0.\n",
            "  0.         0.21400902 0.         0.        ]\n",
            " [0.         0.         0.         0.         0.         0.\n",
            "  0.         0.         0.16535754 0.        ]\n",
            " [0.         0.         0.         0.         0.         0.\n",
            "  0.         0.         0.         0.11635821]]\n",
            "Beta: [[ 0.54238855]\n",
            " [-2.98507678]]\n",
            "Iter:i 0.0038766960040107334, limit: 1e-05\n",
            "pi: [array([0.04810463]), array([0.07997489]), array([0.13007456]), array([0.20458001]), array([0.30671492]), array([0.43213786]), array([0.56690988]), array([0.69245952]), array([0.79478797]), array([0.86948582])]\n",
            "0\n",
            "1\n",
            "2\n",
            "3\n",
            "4\n",
            "5\n",
            "6\n",
            "7\n",
            "8\n",
            "9\n",
            "W: [[0.04579057 0.         0.         0.         0.         0.\n",
            "  0.         0.         0.         0.        ]\n",
            " [0.         0.07357891 0.         0.         0.         0.\n",
            "  0.         0.         0.         0.        ]\n",
            " [0.         0.         0.11315517 0.         0.         0.\n",
            "  0.         0.         0.         0.        ]\n",
            " [0.         0.         0.         0.16272703 0.         0.\n",
            "  0.         0.         0.         0.        ]\n",
            " [0.         0.         0.         0.         0.21264088 0.\n",
            "  0.         0.         0.         0.        ]\n",
            " [0.         0.         0.         0.         0.         0.24539473\n",
            "  0.         0.         0.         0.        ]\n",
            " [0.         0.         0.         0.         0.         0.\n",
            "  0.24552307 0.         0.         0.        ]\n",
            " [0.         0.         0.         0.         0.         0.\n",
            "  0.         0.21295933 0.         0.        ]\n",
            " [0.         0.         0.         0.         0.         0.\n",
            "  0.         0.         0.16310006 0.        ]\n",
            " [0.         0.         0.         0.         0.         0.\n",
            "  0.         0.         0.         0.11348023]]\n",
            "Beta: [[ 0.55196152]\n",
            " [-3.04067816]]\n",
            "Iter:i 0.0031831550159549, limit: 1e-05\n",
            "pi: [array([0.04562163]), array([0.07665298]), array([0.12600477]), array([0.20024023]), array([0.30304658]), array([0.43024036]), array([0.56736072]), array([0.69488391]), array([0.79818903]), array([0.87291428])]\n",
            "0\n",
            "1\n",
            "2\n",
            "3\n",
            "4\n",
            "5\n",
            "6\n",
            "7\n",
            "8\n",
            "9\n",
            "W: [[0.0435403  0.         0.         0.         0.         0.\n",
            "  0.         0.         0.         0.        ]\n",
            " [0.         0.0707773  0.         0.         0.         0.\n",
            "  0.         0.         0.         0.        ]\n",
            " [0.         0.         0.11012757 0.         0.         0.\n",
            "  0.         0.         0.         0.        ]\n",
            " [0.         0.         0.         0.16014408 0.         0.\n",
            "  0.         0.         0.         0.        ]\n",
            " [0.         0.         0.         0.         0.21120935 0.\n",
            "  0.         0.         0.         0.        ]\n",
            " [0.         0.         0.         0.         0.         0.24513359\n",
            "  0.         0.         0.         0.        ]\n",
            " [0.         0.         0.         0.         0.         0.\n",
            "  0.24546253 0.         0.         0.        ]\n",
            " [0.         0.         0.         0.         0.         0.\n",
            "  0.         0.21202026 0.         0.        ]\n",
            " [0.         0.         0.         0.         0.         0.\n",
            "  0.         0.         0.1610833  0.        ]\n",
            " [0.         0.         0.         0.         0.         0.\n",
            "  0.         0.         0.         0.11093494]]\n",
            "Beta: [[ 0.56063221]\n",
            " [-3.09121169]]\n",
            "Iter:i 0.0026288182827315133, limit: 1e-05\n",
            "pi: [array([0.04347122]), array([0.07374206]), array([0.12239455]), array([0.19634211]), array([0.29970923]), array([0.42848116]), array([0.56772656]), array([0.69703403]), array([0.80120552]), array([0.87593412])]\n",
            "0\n",
            "1\n",
            "2\n",
            "3\n",
            "4\n",
            "5\n",
            "6\n",
            "7\n",
            "8\n",
            "9\n",
            "W: [[0.04158148 0.         0.         0.         0.         0.\n",
            "  0.         0.         0.         0.        ]\n",
            " [0.         0.06830416 0.         0.         0.         0.\n",
            "  0.         0.         0.         0.        ]\n",
            " [0.         0.         0.10741412 0.         0.         0.\n",
            "  0.         0.         0.         0.        ]\n",
            " [0.         0.         0.         0.15779189 0.         0.\n",
            "  0.         0.         0.         0.        ]\n",
            " [0.         0.         0.         0.         0.20988361 0.\n",
            "  0.         0.         0.         0.        ]\n",
            " [0.         0.         0.         0.         0.         0.24488506\n",
            "  0.         0.         0.         0.        ]\n",
            " [0.         0.         0.         0.         0.         0.\n",
            "  0.24541311 0.         0.         0.        ]\n",
            " [0.         0.         0.         0.         0.         0.\n",
            "  0.         0.21117759 0.         0.        ]\n",
            " [0.         0.         0.         0.         0.         0.\n",
            "  0.         0.         0.15927524 0.        ]\n",
            " [0.         0.         0.         0.         0.         0.\n",
            "  0.         0.         0.         0.10867354]]\n",
            "Beta: [[ 0.56850776]\n",
            " [-3.13725575]]\n",
            "Iter:i 0.0021820803640829815, limit: 1e-05\n",
            "pi: [array([0.04159638]), array([0.07117703]), array([0.1191777]), array([0.19282889]), array([0.29666605]), array([0.42684948]), array([0.56802331]), array([0.6989491]), array([0.8038931]), array([0.87860803])]\n",
            "0\n",
            "1\n",
            "2\n",
            "3\n",
            "4\n",
            "5\n",
            "6\n",
            "7\n",
            "8\n",
            "9\n",
            "W: [[0.03986613 0.         0.         0.         0.         0.\n",
            "  0.         0.         0.         0.        ]\n",
            " [0.         0.06611086 0.         0.         0.         0.\n",
            "  0.         0.         0.         0.        ]\n",
            " [0.         0.         0.10497438 0.         0.         0.\n",
            "  0.         0.         0.         0.        ]\n",
            " [0.         0.         0.         0.15564591 0.         0.\n",
            "  0.         0.         0.         0.        ]\n",
            " [0.         0.         0.         0.         0.20865531 0.\n",
            "  0.         0.         0.         0.        ]\n",
            " [0.         0.         0.         0.         0.         0.244649\n",
            "  0.         0.         0.         0.        ]\n",
            " [0.         0.         0.         0.         0.         0.\n",
            "  0.24537283 0.         0.         0.        ]\n",
            " [0.         0.         0.         0.         0.         0.\n",
            "  0.         0.21041925 0.         0.        ]\n",
            " [0.         0.         0.         0.         0.         0.\n",
            "  0.         0.         0.15764899 0.        ]\n",
            " [0.         0.         0.         0.         0.         0.\n",
            "  0.         0.         0.         0.10665596]]\n",
            "Beta: [[ 0.57567903]\n",
            " [-3.17930336]]\n",
            "Iter:i 0.0018194285151368267, limit: 1e-05\n",
            "pi: [array([0.03995205]), array([0.06890553]), array([0.11629993]), array([0.18965303]), array([0.29388548]), array([0.42533548]), array([0.56826376]), array([0.7006615]), array([0.80629743]), array([0.88098677])]\n",
            "0\n",
            "1\n",
            "2\n",
            "3\n",
            "4\n",
            "5\n",
            "6\n",
            "7\n",
            "8\n",
            "9\n",
            "W: [[0.03835588 0.         0.         0.         0.         0.\n",
            "  0.         0.         0.         0.        ]\n",
            " [0.         0.06415756 0.         0.         0.         0.\n",
            "  0.         0.         0.         0.        ]\n",
            " [0.         0.         0.10277425 0.         0.         0.\n",
            "  0.         0.         0.         0.        ]\n",
            " [0.         0.         0.         0.15368476 0.         0.\n",
            "  0.         0.         0.         0.        ]\n",
            " [0.         0.         0.         0.         0.20751681 0.\n",
            "  0.         0.         0.         0.        ]\n",
            " [0.         0.         0.         0.         0.         0.24442521\n",
            "  0.         0.         0.         0.        ]\n",
            " [0.         0.         0.         0.         0.         0.\n",
            "  0.24534006 0.         0.         0.        ]\n",
            " [0.         0.         0.         0.         0.         0.\n",
            "  0.         0.20973496 0.         0.        ]\n",
            " [0.         0.         0.         0.         0.         0.\n",
            "  0.         0.         0.15618188 0.        ]\n",
            " [0.         0.         0.         0.         0.         0.\n",
            "  0.         0.         0.         0.10484908]]\n",
            "Beta: [[ 0.5822236 ]\n",
            " [-3.21777803]]\n",
            "Iter:i 0.0015231310247582571, limit: 1e-05\n",
            "pi: [array([0.03850216]), array([0.06688496]), array([0.11371625]), array([0.18677438]), array([0.29134026]), array([0.4239302]), array([0.56845824]), array([0.70219813]), array([0.80845632]), array([0.88311185])]\n",
            "0\n",
            "1\n",
            "2\n",
            "3\n",
            "4\n",
            "5\n",
            "6\n",
            "7\n",
            "8\n",
            "9\n",
            "W: [[0.03701974 0.         0.         0.         0.         0.\n",
            "  0.         0.         0.         0.        ]\n",
            " [0.         0.06241136 0.         0.         0.         0.\n",
            "  0.         0.         0.         0.        ]\n",
            " [0.         0.         0.10078487 0.         0.         0.\n",
            "  0.         0.         0.         0.        ]\n",
            " [0.         0.         0.         0.15188971 0.         0.\n",
            "  0.         0.         0.         0.        ]\n",
            " [0.         0.         0.         0.         0.20646111 0.\n",
            "  0.         0.         0.         0.        ]\n",
            " [0.         0.         0.         0.         0.         0.24421339\n",
            "  0.         0.         0.         0.        ]\n",
            " [0.         0.         0.         0.         0.         0.\n",
            "  0.24531347 0.         0.         0.        ]\n",
            " [0.         0.         0.         0.         0.         0.\n",
            "  0.         0.20911592 0.         0.        ]\n",
            " [0.         0.         0.         0.         0.         0.\n",
            "  0.         0.         0.1548547  0.        ]\n",
            " [0.         0.         0.         0.         0.         0.\n",
            "  0.         0.         0.         0.10322531]]\n",
            "Beta: [[ 0.58820822]\n",
            " [-3.25304609]]\n",
            "Iter:i 0.001279652108853583, limit: 1e-05\n",
            "pi: [array([0.03721758]), array([0.06508035]), array([0.11138913]), array([0.18415878]), array([0.28900669]), array([0.42262542]), array([0.56861515]), array([0.70358151]), array([0.81040128]), array([0.88501754])]\n",
            "0\n",
            "1\n",
            "2\n",
            "3\n",
            "4\n",
            "5\n",
            "6\n",
            "7\n",
            "8\n",
            "9\n",
            "W: [[0.03583244 0.         0.         0.         0.         0.\n",
            "  0.         0.         0.         0.        ]\n",
            " [0.         0.0608449  0.         0.         0.         0.\n",
            "  0.         0.         0.         0.        ]\n",
            " [0.         0.         0.09898159 0.         0.         0.\n",
            "  0.         0.         0.         0.        ]\n",
            " [0.         0.         0.         0.15024432 0.         0.\n",
            "  0.         0.         0.         0.        ]\n",
            " [0.         0.         0.         0.         0.20548182 0.\n",
            "  0.         0.         0.         0.        ]\n",
            " [0.         0.         0.         0.         0.         0.24401317\n",
            "  0.         0.         0.         0.        ]\n",
            " [0.         0.         0.         0.         0.         0.\n",
            "  0.24529196 0.         0.         0.        ]\n",
            " [0.         0.         0.         0.         0.         0.\n",
            "  0.         0.20855457 0.         0.        ]\n",
            " [0.         0.         0.         0.         0.         0.\n",
            "  0.         0.         0.15365105 0.        ]\n",
            " [0.         0.         0.         0.         0.         0.\n",
            "  0.         0.         0.         0.10176149]]\n",
            "Beta: [[ 0.59369067]\n",
            " [-3.28542646]]\n",
            "Iter:i 0.0010785454105324828, limit: 1e-05\n",
            "pi: [array([0.03607455]), array([0.06346277]), array([0.10928697]), array([0.18177697]), array([0.28686403]), array([0.4214136]), array([0.56874131]), array([0.70483064]), array([0.81215879]), array([0.88673235])]\n",
            "0\n",
            "1\n",
            "2\n",
            "3\n",
            "4\n",
            "5\n",
            "6\n",
            "7\n",
            "8\n",
            "9\n",
            "W: [[0.03477317 0.         0.         0.         0.         0.\n",
            "  0.         0.         0.         0.        ]\n",
            " [0.         0.05943525 0.         0.         0.         0.\n",
            "  0.         0.         0.         0.        ]\n",
            " [0.         0.         0.09734333 0.         0.         0.\n",
            "  0.         0.         0.         0.        ]\n",
            " [0.         0.         0.         0.1487341  0.         0.\n",
            "  0.         0.         0.         0.        ]\n",
            " [0.         0.         0.         0.         0.20457306 0.\n",
            "  0.         0.         0.         0.        ]\n",
            " [0.         0.         0.         0.         0.         0.24382418\n",
            "  0.         0.         0.         0.        ]\n",
            " [0.         0.         0.         0.         0.         0.\n",
            "  0.24527463 0.         0.         0.        ]\n",
            " [0.         0.         0.         0.         0.         0.\n",
            "  0.         0.20804441 0.         0.        ]\n",
            " [0.         0.         0.         0.         0.         0.\n",
            "  0.         0.         0.15255689 0.        ]\n",
            " [0.         0.         0.         0.         0.         0.\n",
            "  0.         0.         0.         0.10043809]]\n",
            "Beta: [[ 0.59872126]\n",
            " [-3.31519829]]\n",
            "Iter:i 0.0009116689915315015, limit: 1e-05\n",
            "pi: [array([0.03505346]), array([0.06200806]), array([0.10738299]), array([0.17960373]), array([0.28489407]), array([0.42028781]), array([0.56884228]), array([0.70596161]), array([0.81375128]), array([0.88828017])]\n",
            "0\n",
            "1\n",
            "2\n",
            "3\n",
            "4\n",
            "5\n",
            "6\n",
            "7\n",
            "8\n",
            "9\n",
            "W: [[0.03382472 0.         0.         0.         0.         0.\n",
            "  0.         0.         0.         0.        ]\n",
            " [0.         0.05816306 0.         0.         0.         0.\n",
            "  0.         0.         0.         0.        ]\n",
            " [0.         0.         0.09585189 0.         0.         0.\n",
            "  0.         0.         0.         0.        ]\n",
            " [0.         0.         0.         0.14734623 0.         0.\n",
            "  0.         0.         0.         0.        ]\n",
            " [0.         0.         0.         0.         0.20372944 0.\n",
            "  0.         0.         0.         0.        ]\n",
            " [0.         0.         0.         0.         0.         0.24364597\n",
            "  0.         0.         0.         0.        ]\n",
            " [0.         0.         0.         0.         0.         0.\n",
            "  0.24526074 0.         0.         0.        ]\n",
            " [0.         0.         0.         0.         0.         0.\n",
            "  0.         0.20757982 0.         0.        ]\n",
            " [0.         0.         0.         0.         0.         0.\n",
            "  0.         0.         0.15156014 0.        ]\n",
            " [0.         0.         0.         0.         0.         0.\n",
            "  0.         0.         0.         0.09923851]]\n",
            "Beta: [[ 0.60334401]\n",
            " [-3.34260724]]\n",
            "Iter:i 0.0007726201473250541, limit: 1e-05\n",
            "pi: [array([0.03413809]), array([0.06069589]), array([0.10565437]), array([0.17761722]), array([0.28308072]), array([0.41924167]), array([0.56892262]), array([0.70698815]), array([0.81519782]), array([0.8896812])]\n",
            "0\n",
            "1\n",
            "2\n",
            "3\n",
            "4\n",
            "5\n",
            "6\n",
            "7\n",
            "8\n",
            "9\n",
            "W: [[0.03297268 0.         0.         0.         0.         0.\n",
            "  0.         0.         0.         0.        ]\n",
            " [0.         0.0570119  0.         0.         0.         0.\n",
            "  0.         0.         0.         0.        ]\n",
            " [0.         0.         0.09449152 0.         0.         0.\n",
            "  0.         0.         0.         0.        ]\n",
            " [0.         0.         0.         0.14606934 0.         0.\n",
            "  0.         0.         0.         0.        ]\n",
            " [0.         0.         0.         0.         0.20294602 0.\n",
            "  0.         0.         0.         0.        ]\n",
            " [0.         0.         0.         0.         0.         0.24347809\n",
            "  0.         0.         0.         0.        ]\n",
            " [0.         0.         0.         0.         0.         0.\n",
            "  0.24524967 0.         0.         0.        ]\n",
            " [0.         0.         0.         0.         0.         0.\n",
            "  0.         0.20715591 0.         0.        ]\n",
            " [0.         0.         0.         0.         0.         0.\n",
            "  0.         0.         0.15065033 0.        ]\n",
            " [0.         0.         0.         0.         0.         0.\n",
            "  0.         0.         0.         0.09814856]]\n",
            "Beta: [[ 0.60759766]\n",
            " [-3.36787044]]\n",
            "Iter:i 0.0006563229870090055, limit: 1e-05\n",
            "pi: [array([0.03331482]), array([0.0595091]), array([0.10408151]), array([0.17579837]), array([0.28140969]), array([0.4182693]), array([0.56898607]), array([0.70792203]), array([0.81651477]), array([0.89095259])]\n",
            "0\n",
            "1\n",
            "2\n",
            "3\n",
            "4\n",
            "5\n",
            "6\n",
            "7\n",
            "8\n",
            "9\n",
            "W: [[0.03220495 0.         0.         0.         0.         0.\n",
            "  0.         0.         0.         0.        ]\n",
            " [0.         0.05596776 0.         0.         0.         0.\n",
            "  0.         0.         0.         0.        ]\n",
            " [0.         0.         0.09324855 0.         0.         0.\n",
            "  0.         0.         0.         0.        ]\n",
            " [0.         0.         0.         0.14489331 0.         0.\n",
            "  0.         0.         0.         0.        ]\n",
            " [0.         0.         0.         0.         0.20221828 0.\n",
            "  0.         0.         0.         0.        ]\n",
            " [0.         0.         0.         0.         0.         0.24332009\n",
            "  0.         0.         0.         0.        ]\n",
            " [0.         0.         0.         0.         0.         0.\n",
            "  0.24524092 0.         0.         0.        ]\n",
            " [0.         0.         0.         0.         0.         0.\n",
            "  0.         0.20676843 0.         0.        ]\n",
            " [0.         0.         0.         0.         0.         0.\n",
            "  0.         0.         0.1498184  0.        ]\n",
            " [0.         0.         0.         0.         0.         0.\n",
            "  0.         0.         0.         0.09715607]]\n",
            "Beta: [[ 0.61151642]\n",
            " [-3.39118068]]\n",
            "Iter:i 0.0005587237646024806, limit: 1e-05\n",
            "pi: [array([0.03257223]), array([0.05843302]), array([0.10264751]), array([0.17413055]), array([0.2798683]), array([0.41736529]), array([0.56903568]), array([0.70877341]), array([0.81771622]), array([0.89210902])]\n",
            "0\n",
            "1\n",
            "2\n",
            "3\n",
            "4\n",
            "5\n",
            "6\n",
            "7\n",
            "8\n",
            "9\n",
            "W: [[0.03151128 0.         0.         0.         0.         0.\n",
            "  0.         0.         0.         0.        ]\n",
            " [0.         0.05501861 0.         0.         0.         0.\n",
            "  0.         0.         0.         0.        ]\n",
            " [0.         0.         0.092111   0.         0.         0.\n",
            "  0.         0.         0.         0.        ]\n",
            " [0.         0.         0.         0.1438091  0.         0.\n",
            "  0.         0.         0.         0.        ]\n",
            " [0.         0.         0.         0.         0.20154203 0.\n",
            "  0.         0.         0.         0.        ]\n",
            " [0.         0.         0.         0.         0.         0.24317151\n",
            "  0.         0.         0.         0.        ]\n",
            " [0.         0.         0.         0.         0.         0.\n",
            "  0.24523407 0.         0.         0.        ]\n",
            " [0.         0.         0.         0.         0.         0.\n",
            "  0.         0.20641366 0.         0.        ]\n",
            " [0.         0.         0.         0.         0.         0.\n",
            "  0.         0.         0.1490564  0.        ]\n",
            " [0.         0.         0.         0.         0.         0.\n",
            "  0.         0.         0.         0.09625051]]\n",
            "Beta: [[ 0.61513063]\n",
            " [-3.41270975]]\n",
            "Iter:i 0.00047656325618930403, limit: 1e-05\n",
            "pi: [array([0.03190061]), array([0.05745514]), array([0.10133773]), array([0.17259909]), array([0.27844517]), array([0.41652464]), array([0.56907398]), array([0.70955106]), array([0.81881437]), array([0.89316311])]\n",
            "0\n",
            "1\n",
            "2\n",
            "3\n",
            "4\n",
            "5\n",
            "6\n",
            "7\n",
            "8\n",
            "9\n",
            "W: [[0.03088296 0.         0.         0.         0.         0.\n",
            "  0.         0.         0.         0.        ]\n",
            " [0.         0.05415404 0.         0.         0.         0.\n",
            "  0.         0.         0.         0.        ]\n",
            " [0.         0.         0.09106839 0.         0.         0.\n",
            "  0.         0.         0.         0.        ]\n",
            " [0.         0.         0.         0.14280864 0.         0.\n",
            "  0.         0.         0.         0.        ]\n",
            " [0.         0.         0.         0.         0.20091346 0.\n",
            "  0.         0.         0.         0.        ]\n",
            " [0.         0.         0.         0.         0.         0.24303186\n",
            "  0.         0.         0.         0.        ]\n",
            " [0.         0.         0.         0.         0.         0.\n",
            "  0.24522878 0.         0.         0.        ]\n",
            " [0.         0.         0.         0.         0.         0.\n",
            "  0.         0.20608835 0.         0.        ]\n",
            " [0.         0.         0.         0.         0.         0.\n",
            "  0.         0.         0.1483574  0.        ]\n",
            " [0.         0.         0.         0.         0.         0.\n",
            "  0.         0.         0.         0.09542277]]\n",
            "Beta: [[ 0.61846731]\n",
            " [-3.43261129]]\n",
            "Iter:i 0.00040720492434764957, limit: 1e-05\n",
            "pi: [array([0.03129168]), array([0.05656463]), array([0.1001394]), array([0.17119107]), array([0.27713013]), array([0.41574274]), array([0.56910305]), array([0.71026262]), array([0.81981981]), array([0.89412576])]\n",
            "0\n",
            "1\n",
            "2\n",
            "3\n",
            "4\n",
            "5\n",
            "6\n",
            "7\n",
            "8\n",
            "9\n",
            "W: [[0.03031251 0.         0.         0.         0.         0.\n",
            "  0.         0.         0.         0.        ]\n",
            " [0.         0.05336507 0.         0.         0.         0.\n",
            "  0.         0.         0.         0.        ]\n",
            " [0.         0.         0.0901115  0.         0.         0.\n",
            "  0.         0.         0.         0.        ]\n",
            " [0.         0.         0.         0.14188469 0.         0.\n",
            "  0.         0.         0.         0.        ]\n",
            " [0.         0.         0.         0.         0.20032902 0.\n",
            "  0.         0.         0.         0.        ]\n",
            " [0.         0.         0.         0.         0.         0.24290071\n",
            "  0.         0.         0.         0.        ]\n",
            " [0.         0.         0.         0.         0.         0.\n",
            "  0.24522477 0.         0.         0.        ]\n",
            " [0.         0.         0.         0.         0.         0.\n",
            "  0.         0.20578963 0.         0.        ]\n",
            " [0.         0.         0.         0.         0.         0.\n",
            "  0.         0.         0.14771529 0.        ]\n",
            " [0.         0.         0.         0.         0.         0.\n",
            "  0.         0.         0.         0.09466488]]\n",
            "Beta: [[ 0.6215506 ]\n",
            " [-3.45102317]]\n",
            "Iter:i 0.00034850394881109394, limit: 1e-05\n",
            "pi: [array([0.03073836]), array([0.05575216]), array([0.09904135]), array([0.16989503]), array([0.27591403]), array([0.41501533]), array([0.56912459]), array([0.71091477]), array([0.82074184]), array([0.89500647])]\n",
            "0\n",
            "1\n",
            "2\n",
            "3\n",
            "4\n",
            "5\n",
            "6\n",
            "7\n",
            "8\n",
            "9\n",
            "W: [[0.02979351 0.         0.         0.         0.         0.\n",
            "  0.         0.         0.         0.        ]\n",
            " [0.         0.05264385 0.         0.         0.         0.\n",
            "  0.         0.         0.         0.        ]\n",
            " [0.         0.         0.08923216 0.         0.         0.\n",
            "  0.         0.         0.         0.        ]\n",
            " [0.         0.         0.         0.14103071 0.         0.\n",
            "  0.         0.         0.         0.        ]\n",
            " [0.         0.         0.         0.         0.19978548 0.\n",
            "  0.         0.         0.         0.        ]\n",
            " [0.         0.         0.         0.         0.         0.24277761\n",
            "  0.         0.         0.         0.        ]\n",
            " [0.         0.         0.         0.         0.         0.\n",
            "  0.24522179 0.         0.         0.        ]\n",
            " [0.         0.         0.         0.         0.         0.\n",
            "  0.         0.20551496 0.         0.        ]\n",
            " [0.         0.         0.         0.         0.         0.\n",
            "  0.         0.         0.14712467 0.        ]\n",
            " [0.         0.         0.         0.         0.         0.\n",
            "  0.         0.         0.         0.09396989]]\n",
            "Beta: [[ 0.62440212]\n",
            " [-3.46806944]]\n",
            "Iter:i 0.0002987065167729855, limit: 1e-05\n",
            "pi: [array([0.03023454]), array([0.05500959]), array([0.09803376]), array([0.1687008]), array([0.27478864]), array([0.41433847]), array([0.56914002]), array([0.71151336]), array([0.82158858]), array([0.8958135])]\n",
            "0\n",
            "1\n",
            "2\n",
            "3\n",
            "4\n",
            "5\n",
            "6\n",
            "7\n",
            "8\n",
            "9\n",
            "W: [[0.02932041 0.         0.         0.         0.         0.\n",
            "  0.         0.         0.         0.        ]\n",
            " [0.         0.05198353 0.         0.         0.         0.\n",
            "  0.         0.         0.         0.        ]\n",
            " [0.         0.         0.08842314 0.         0.         0.\n",
            "  0.         0.         0.         0.        ]\n",
            " [0.         0.         0.         0.14024084 0.         0.\n",
            "  0.         0.         0.         0.        ]\n",
            " [0.         0.         0.         0.         0.19927984 0.\n",
            "  0.         0.         0.         0.        ]\n",
            " [0.         0.         0.         0.         0.         0.2426621\n",
            "  0.         0.         0.         0.        ]\n",
            " [0.         0.         0.         0.         0.         0.\n",
            "  0.24521966 0.         0.         0.        ]\n",
            " [0.         0.         0.         0.         0.         0.\n",
            "  0.         0.2052621  0.         0.        ]\n",
            " [0.         0.         0.         0.         0.         0.\n",
            "  0.         0.         0.14658078 0.        ]\n",
            " [0.         0.         0.         0.         0.         0.\n",
            "  0.         0.         0.         0.09333167]]\n",
            "Beta: [[ 0.62704134]\n",
            " [-3.48386204]]\n",
            "Iter:i 0.00025637174383580445, limit: 1e-05\n",
            "pi: [array([0.02977491]), array([0.05432982]), array([0.09710798]), array([0.16759929]), array([0.27374649]), array([0.41370854]), array([0.56915049]), array([0.71206355]), array([0.82236723]), array([0.89655412])]\n",
            "0\n",
            "1\n",
            "2\n",
            "3\n",
            "4\n",
            "5\n",
            "6\n",
            "7\n",
            "8\n",
            "9\n",
            "W: [[0.02888836 0.         0.         0.         0.         0.\n",
            "  0.         0.         0.         0.        ]\n",
            " [0.         0.05137809 0.         0.         0.         0.\n",
            "  0.         0.         0.         0.        ]\n",
            " [0.         0.         0.08767802 0.         0.         0.\n",
            "  0.         0.         0.         0.        ]\n",
            " [0.         0.         0.         0.13950977 0.         0.\n",
            "  0.         0.         0.         0.        ]\n",
            " [0.         0.         0.         0.         0.19880935 0.\n",
            "  0.         0.         0.         0.        ]\n",
            " [0.         0.         0.         0.         0.         0.24255378\n",
            "  0.         0.         0.         0.        ]\n",
            " [0.         0.         0.         0.         0.         0.\n",
            "  0.24521821 0.         0.         0.        ]\n",
            " [0.         0.         0.         0.         0.         0.\n",
            "  0.         0.20502905 0.         0.        ]\n",
            " [0.         0.         0.         0.         0.         0.\n",
            "  0.         0.         0.14607937 0.        ]\n",
            " [0.         0.         0.         0.         0.         0.\n",
            "  0.         0.         0.         0.09274483]]\n",
            "Beta: [[ 0.62948578]\n",
            " [-3.49850224]]\n",
            "Iter:i 0.0002203106778213327, limit: 1e-05\n",
            "pi: [array([0.02935488]), array([0.05370662]), array([0.09625636]), array([0.16658238]), array([0.27278085]), array([0.41312216]), array([0.56915696]), array([0.71256988]), array([0.82308411]), array([0.8972347])]\n",
            "0\n",
            "1\n",
            "2\n",
            "3\n",
            "4\n",
            "5\n",
            "6\n",
            "7\n",
            "8\n",
            "9\n",
            "W: [[0.02849317 0.         0.         0.         0.         0.\n",
            "  0.         0.         0.         0.        ]\n",
            " [0.         0.05082222 0.         0.         0.         0.\n",
            "  0.         0.         0.         0.        ]\n",
            " [0.         0.         0.08699107 0.         0.         0.\n",
            "  0.         0.         0.         0.        ]\n",
            " [0.         0.         0.         0.13883269 0.         0.\n",
            "  0.         0.         0.         0.        ]\n",
            " [0.         0.         0.         0.         0.19837146 0.\n",
            "  0.         0.         0.         0.        ]\n",
            " [0.         0.         0.         0.         0.         0.24245224\n",
            "  0.         0.         0.         0.        ]\n",
            " [0.         0.         0.         0.         0.         0.\n",
            "  0.24521731 0.         0.         0.        ]\n",
            " [0.         0.         0.         0.         0.         0.\n",
            "  0.         0.20481405 0.         0.        ]\n",
            " [0.         0.         0.         0.         0.         0.\n",
            "  0.         0.         0.14561666 0.        ]\n",
            " [0.         0.         0.         0.         0.         0.\n",
            "  0.         0.         0.         0.09220459]]\n",
            "Beta: [[ 0.63175127]\n",
            " [-3.51208185]]\n",
            "Iter:i 0.0001895383096640794, limit: 1e-05\n",
            "pi: [array([0.02897041]), array([0.0531345]), array([0.09547208]), array([0.16564279]), array([0.2718856]), array([0.41257623]), array([0.56916024]), array([0.71303639]), array([0.82374487]), array([0.8978609])]\n",
            "0\n",
            "1\n",
            "2\n",
            "3\n",
            "4\n",
            "5\n",
            "6\n",
            "7\n",
            "8\n",
            "9\n",
            "W: [[0.02813113 0.         0.         0.         0.         0.\n",
            "  0.         0.         0.         0.        ]\n",
            " [0.         0.05031123 0.         0.         0.         0.\n",
            "  0.         0.         0.         0.        ]\n",
            " [0.         0.         0.08635716 0.         0.         0.\n",
            "  0.         0.         0.         0.        ]\n",
            " [0.         0.         0.         0.13820525 0.         0.\n",
            "  0.         0.         0.         0.        ]\n",
            " [0.         0.         0.         0.         0.19796382 0.\n",
            "  0.         0.         0.         0.        ]\n",
            " [0.         0.         0.         0.         0.         0.24235708\n",
            "  0.         0.         0.         0.        ]\n",
            " [0.         0.         0.         0.         0.         0.\n",
            "  0.24521686 0.         0.         0.        ]\n",
            " [0.         0.         0.         0.         0.         0.\n",
            "  0.         0.2046155  0.         0.        ]\n",
            " [0.         0.         0.         0.         0.         0.\n",
            "  0.         0.         0.14518926 0.        ]\n",
            " [0.         0.         0.         0.         0.         0.\n",
            "  0.         0.         0.         0.0917067 ]]\n",
            "Beta: [[ 0.63385217]\n",
            " [-3.5246843 ]]\n",
            "Iter:i 0.00016323556831314784, limit: 1e-05\n",
            "pi: [array([0.02861799]), array([0.05260863]), array([0.09474909]), array([0.16477396]), array([0.27105518]), array([0.41206787]), array([0.56916096]), array([0.71346668]), array([0.82435452]), array([0.89843772])]\n",
            "0\n",
            "1\n",
            "2\n",
            "3\n",
            "4\n",
            "5\n",
            "6\n",
            "7\n",
            "8\n",
            "9\n",
            "W: [[0.027799   0.         0.         0.         0.         0.\n",
            "  0.         0.         0.         0.        ]\n",
            " [0.         0.04984096 0.         0.         0.         0.\n",
            "  0.         0.         0.         0.        ]\n",
            " [0.         0.         0.0857717  0.         0.         0.\n",
            "  0.         0.         0.         0.        ]\n",
            " [0.         0.         0.         0.1376235  0.         0.\n",
            "  0.         0.         0.         0.        ]\n",
            " [0.         0.         0.         0.         0.19758427 0.\n",
            "  0.         0.         0.         0.        ]\n",
            " [0.         0.         0.         0.         0.         0.24226794\n",
            "  0.         0.         0.         0.        ]\n",
            " [0.         0.         0.         0.         0.         0.\n",
            "  0.24521676 0.         0.         0.        ]\n",
            " [0.         0.         0.         0.         0.         0.\n",
            "  0.         0.20443198 0.         0.        ]\n",
            " [0.         0.         0.         0.         0.         0.\n",
            "  0.         0.         0.14479414 0.        ]\n",
            " [0.         0.         0.         0.         0.         0.\n",
            "  0.         0.         0.         0.09124738]]\n",
            "Beta: [[ 0.6358015 ]\n",
            " [-3.53638555]]\n",
            "Iter:i 0.00014071903724074364, limit: 1e-05\n",
            "pi: [array([0.02829449]), array([0.0521247]), array([0.09408196]), array([0.16397]), array([0.27028452]), array([0.41159441]), array([0.56915967]), array([0.71386394]), array([0.82491755]), array([0.89896962])]\n",
            "0\n",
            "1\n",
            "2\n",
            "3\n",
            "4\n",
            "5\n",
            "6\n",
            "7\n",
            "8\n",
            "9\n",
            "W: [[0.02749392 0.         0.         0.         0.         0.\n",
            "  0.         0.         0.         0.        ]\n",
            " [0.         0.04940771 0.         0.         0.         0.\n",
            "  0.         0.         0.         0.        ]\n",
            " [0.         0.         0.08523054 0.         0.         0.\n",
            "  0.         0.         0.         0.        ]\n",
            " [0.         0.         0.         0.13708384 0.         0.\n",
            "  0.         0.         0.         0.        ]\n",
            " [0.         0.         0.         0.         0.1972308  0.\n",
            "  0.         0.         0.         0.        ]\n",
            " [0.         0.         0.         0.         0.         0.24218445\n",
            "  0.         0.         0.         0.        ]\n",
            " [0.         0.         0.         0.         0.         0.\n",
            "  0.24521694 0.         0.         0.        ]\n",
            " [0.         0.         0.         0.         0.         0.\n",
            "  0.         0.20426221 0.         0.        ]\n",
            " [0.         0.         0.         0.         0.         0.\n",
            "  0.         0.         0.14442858 0.        ]\n",
            " [0.         0.         0.         0.         0.         0.\n",
            "  0.         0.         0.         0.09082324]]\n",
            "Beta: [[ 0.63761111]\n",
            " [-3.54725486]]\n",
            "Iter:i 0.00012141668517309475, limit: 1e-05\n",
            "pi: [array([0.02799718]), array([0.05167889]), array([0.09346584]), array([0.16322555]), array([0.26956899]), array([0.4111534]), array([0.56915681]), array([0.71423105]), array([0.82543797]), array([0.89946056])]\n",
            "0\n",
            "1\n",
            "2\n",
            "3\n",
            "4\n",
            "5\n",
            "6\n",
            "7\n",
            "8\n",
            "9\n",
            "W: [[0.02721334 0.         0.         0.         0.         0.\n",
            "  0.         0.         0.         0.        ]\n",
            " [0.         0.04900818 0.         0.         0.         0.\n",
            "  0.         0.         0.         0.        ]\n",
            " [0.         0.         0.08472998 0.         0.         0.\n",
            "  0.         0.         0.         0.        ]\n",
            " [0.         0.         0.         0.13658297 0.         0.\n",
            "  0.         0.         0.         0.        ]\n",
            " [0.         0.         0.         0.         0.19690155 0.\n",
            "  0.         0.         0.         0.        ]\n",
            " [0.         0.         0.         0.         0.         0.24210628\n",
            "  0.         0.         0.         0.        ]\n",
            " [0.         0.         0.         0.         0.         0.\n",
            "  0.24521734 0.         0.         0.        ]\n",
            " [0.         0.         0.         0.         0.         0.\n",
            "  0.         0.20410506 0.         0.        ]\n",
            " [0.         0.         0.         0.         0.         0.\n",
            "  0.         0.         0.14409013 0.        ]\n",
            " [0.         0.         0.         0.         0.         0.\n",
            "  0.         0.         0.         0.09043126]]\n",
            "Beta: [[ 0.63929178]\n",
            " [-3.55735554]]\n",
            "Iter:i 0.00010484831233379394, limit: 1e-05\n",
            "pi: [array([0.02772361]), array([0.0512678]), array([0.09289638]), array([0.16253581]), array([0.26890438]), array([0.41074254]), array([0.56915273]), array([0.71457057]), array([0.82591939]), array([0.8999141])]\n",
            "0\n",
            "1\n",
            "2\n",
            "3\n",
            "4\n",
            "5\n",
            "6\n",
            "7\n",
            "8\n",
            "9\n",
            "W: [[0.02695502 0.         0.         0.         0.         0.\n",
            "  0.         0.         0.         0.        ]\n",
            " [0.         0.04863941 0.         0.         0.         0.\n",
            "  0.         0.         0.         0.        ]\n",
            " [0.         0.         0.08426665 0.         0.         0.\n",
            "  0.         0.         0.         0.        ]\n",
            " [0.         0.         0.         0.13611792 0.         0.\n",
            "  0.         0.         0.         0.        ]\n",
            " [0.         0.         0.         0.         0.19659482 0.\n",
            "  0.         0.         0.         0.        ]\n",
            " [0.         0.         0.         0.         0.         0.24203311\n",
            "  0.         0.         0.         0.        ]\n",
            " [0.         0.         0.         0.         0.         0.\n",
            "  0.2452179  0.         0.         0.        ]\n",
            " [0.         0.         0.         0.         0.         0.\n",
            "  0.         0.20395947 0.         0.        ]\n",
            " [0.         0.         0.         0.         0.         0.\n",
            "  0.         0.         0.14377655 0.        ]\n",
            " [0.         0.         0.         0.         0.         0.\n",
            "  0.         0.         0.         0.09006871]]\n",
            "Beta: [[ 0.64085339]\n",
            " [-3.56674549]]\n",
            "Iter:i 9.060971700123958e-05, limit: 1e-05\n",
            "pi: [array([0.02747163]), array([0.05088837]), array([0.09236965]), array([0.16189637]), array([0.26828683]), array([0.41035971]), array([0.56914775]), array([0.71488483]), array([0.82636506]), array([0.90033344])]\n",
            "0\n",
            "1\n",
            "2\n",
            "3\n",
            "4\n",
            "5\n",
            "6\n",
            "7\n",
            "8\n",
            "9\n",
            "W: [[0.02671694 0.         0.         0.         0.         0.\n",
            "  0.         0.         0.         0.        ]\n",
            " [0.         0.04829874 0.         0.         0.         0.\n",
            "  0.         0.         0.         0.        ]\n",
            " [0.         0.         0.0838375  0.         0.         0.\n",
            "  0.         0.         0.         0.        ]\n",
            " [0.         0.         0.         0.13568593 0.         0.\n",
            "  0.         0.         0.         0.        ]\n",
            " [0.         0.         0.         0.         0.19630901 0.\n",
            "  0.         0.         0.         0.        ]\n",
            " [0.         0.         0.         0.         0.         0.24196462\n",
            "  0.         0.         0.         0.        ]\n",
            " [0.         0.         0.         0.         0.         0.\n",
            "  0.24521859 0.         0.         0.        ]\n",
            " [0.         0.         0.         0.         0.         0.\n",
            "  0.         0.20382451 0.         0.        ]\n",
            " [0.         0.         0.         0.         0.         0.\n",
            "  0.         0.         0.14348584 0.        ]\n",
            " [0.         0.         0.         0.         0.         0.\n",
            "  0.         0.         0.         0.08973313]]\n",
            "Beta: [[ 0.64230493]\n",
            " [-3.57547777]]\n",
            "Iter:i 7.835981442332702e-05, limit: 1e-05\n",
            "pi: [array([0.02723929]), array([0.05053786]), array([0.09188211]), array([0.16130326]), array([0.26771279]), array([0.41000296]), array([0.5691421]), array([0.7151759]), array([0.82677792]), array([0.90072145])]\n",
            "0\n",
            "1\n",
            "2\n",
            "3\n",
            "4\n",
            "5\n",
            "6\n",
            "7\n",
            "8\n",
            "9\n",
            "W: [[0.02649731 0.         0.         0.         0.         0.\n",
            "  0.         0.         0.         0.        ]\n",
            " [0.         0.04798379 0.         0.         0.         0.\n",
            "  0.         0.         0.         0.        ]\n",
            " [0.         0.         0.08343978 0.         0.         0.\n",
            "  0.         0.         0.         0.        ]\n",
            " [0.         0.         0.         0.13528452 0.         0.\n",
            "  0.         0.         0.         0.        ]\n",
            " [0.         0.         0.         0.         0.19604265 0.\n",
            "  0.         0.         0.         0.        ]\n",
            " [0.         0.         0.         0.         0.         0.24190053\n",
            "  0.         0.         0.         0.        ]\n",
            " [0.         0.         0.         0.         0.         0.\n",
            "  0.24521937 0.         0.         0.        ]\n",
            " [0.         0.         0.         0.         0.         0.\n",
            "  0.         0.20369933 0.         0.        ]\n",
            " [0.         0.         0.         0.         0.         0.\n",
            "  0.         0.         0.14321619 0.        ]\n",
            " [0.         0.         0.         0.         0.         0.\n",
            "  0.         0.         0.         0.08942232]]\n",
            "Beta: [[ 0.64365465]\n",
            " [-3.58360109]]\n",
            "Iter:i 6.781011157405299e-05, limit: 1e-05\n",
            "pi: [array([0.02702487]), array([0.05021383]), array([0.09143054]), array([0.16075285]), array([0.26717903]), array([0.40967046]), array([0.56913597]), array([0.71544567]), array([0.82716061]), array([0.90108073])]\n",
            "0\n",
            "1\n",
            "2\n",
            "3\n",
            "4\n",
            "5\n",
            "6\n",
            "7\n",
            "8\n",
            "9\n",
            "W: [[0.02629452 0.         0.         0.         0.         0.\n",
            "  0.         0.         0.         0.        ]\n",
            " [0.         0.0476924  0.         0.         0.         0.\n",
            "  0.         0.         0.         0.        ]\n",
            " [0.         0.         0.083071   0.         0.         0.\n",
            "  0.         0.         0.         0.        ]\n",
            " [0.         0.         0.         0.13491137 0.         0.\n",
            "  0.         0.         0.         0.        ]\n",
            " [0.         0.         0.         0.         0.19579439 0.\n",
            "  0.         0.         0.         0.        ]\n",
            " [0.         0.         0.         0.         0.         0.24184057\n",
            "  0.         0.         0.         0.        ]\n",
            " [0.         0.         0.         0.         0.         0.\n",
            "  0.24522022 0.         0.         0.        ]\n",
            " [0.         0.         0.         0.         0.         0.\n",
            "  0.         0.20358316 0.         0.        ]\n",
            " [0.         0.         0.         0.         0.         0.\n",
            "  0.         0.         0.14296593 0.        ]\n",
            " [0.         0.         0.         0.         0.         0.\n",
            "  0.         0.         0.         0.08913425]]\n",
            "Beta: [[ 0.64491013]\n",
            " [-3.59116019]]\n",
            "Iter:i 5.871607151729956e-05, limit: 1e-05\n",
            "pi: [array([0.02682681]), array([0.04991404]), array([0.09101205]), array([0.16024183]), array([0.26668255]), array([0.40936052]), array([0.56912954]), array([0.71569585]), array([0.82751555]), array([0.90141361])]\n",
            "0\n",
            "1\n",
            "2\n",
            "3\n",
            "4\n",
            "5\n",
            "6\n",
            "7\n",
            "8\n",
            "9\n",
            "W: [[0.02610714 0.         0.         0.         0.         0.\n",
            "  0.         0.         0.         0.        ]\n",
            " [0.         0.04742263 0.         0.         0.         0.\n",
            "  0.         0.         0.         0.        ]\n",
            " [0.         0.         0.08272886 0.         0.         0.\n",
            "  0.         0.         0.         0.        ]\n",
            " [0.         0.         0.         0.13456439 0.         0.\n",
            "  0.         0.         0.         0.        ]\n",
            " [0.         0.         0.         0.         0.19556297 0.\n",
            "  0.         0.         0.         0.        ]\n",
            " [0.         0.         0.         0.         0.         0.24178449\n",
            "  0.         0.         0.         0.        ]\n",
            " [0.         0.         0.         0.         0.         0.\n",
            "  0.24522111 0.         0.         0.        ]\n",
            " [0.         0.         0.         0.         0.         0.\n",
            "  0.         0.2034753  0.         0.        ]\n",
            " [0.         0.         0.         0.         0.         0.\n",
            "  0.         0.         0.14273356 0.        ]\n",
            " [0.         0.         0.         0.         0.         0.\n",
            "  0.         0.         0.         0.08886712]]\n",
            "Beta: [[ 0.6460783 ]\n",
            " [-3.59819619]]\n",
            "Iter:i 5.087000082353353e-05, limit: 1e-05\n",
            "pi: [array([0.02664373]), array([0.04963651]), array([0.090624]), array([0.15976719]), array([0.26622063]), array([0.40907159]), array([0.56912292]), array([0.715928]), array([0.82784493]), array([0.90172221])]\n",
            "0\n",
            "1\n",
            "2\n",
            "3\n",
            "4\n",
            "5\n",
            "6\n",
            "7\n",
            "8\n",
            "9\n",
            "W: [[0.02593384 0.         0.         0.         0.         0.\n",
            "  0.         0.         0.         0.        ]\n",
            " [0.         0.04717273 0.         0.         0.         0.\n",
            "  0.         0.         0.         0.        ]\n",
            " [0.         0.         0.08241129 0.         0.         0.\n",
            "  0.         0.         0.         0.        ]\n",
            " [0.         0.         0.         0.13424164 0.         0.\n",
            "  0.         0.         0.         0.        ]\n",
            " [0.         0.         0.         0.         0.19534721 0.\n",
            "  0.         0.         0.         0.        ]\n",
            " [0.         0.         0.         0.         0.         0.24173202\n",
            "  0.         0.         0.         0.        ]\n",
            " [0.         0.         0.         0.         0.         0.\n",
            "  0.24522202 0.         0.         0.        ]\n",
            " [0.         0.         0.         0.         0.         0.\n",
            "  0.         0.2033751  0.         0.        ]\n",
            " [0.         0.         0.         0.         0.         0.\n",
            "  0.         0.         0.14251771 0.        ]\n",
            " [0.         0.         0.         0.         0.         0.\n",
            "  0.         0.         0.         0.08861926]]\n",
            "Beta: [[ 0.64716555]\n",
            " [-3.604747  ]]\n",
            "Iter:i 4.4095170248223604e-05, limit: 1e-05\n",
            "pi: [array([0.02647437]), array([0.04937941]), array([0.09026399]), array([0.15932616]), array([0.26579073]), array([0.40880219]), array([0.56911623]), array([0.71614352]), array([0.82815073]), array([0.90200848])]\n",
            "0\n",
            "1\n",
            "2\n",
            "3\n",
            "4\n",
            "5\n",
            "6\n",
            "7\n",
            "8\n",
            "9\n",
            "W: [[0.02577348 0.         0.         0.         0.         0.\n",
            "  0.         0.         0.         0.        ]\n",
            " [0.         0.04694109 0.         0.         0.         0.\n",
            "  0.         0.         0.         0.        ]\n",
            " [0.         0.         0.0821164  0.         0.         0.\n",
            "  0.         0.         0.         0.        ]\n",
            " [0.         0.         0.         0.13394133 0.         0.\n",
            "  0.         0.         0.         0.        ]\n",
            " [0.         0.         0.         0.         0.19514602 0.\n",
            "  0.         0.         0.         0.        ]\n",
            " [0.         0.         0.         0.         0.         0.24168296\n",
            "  0.         0.         0.         0.        ]\n",
            " [0.         0.         0.         0.         0.         0.\n",
            "  0.24522295 0.         0.         0.        ]\n",
            " [0.         0.         0.         0.         0.         0.\n",
            "  0.         0.20328198 0.         0.        ]\n",
            " [0.         0.         0.         0.         0.         0.\n",
            "  0.         0.         0.1423171  0.        ]\n",
            " [0.         0.         0.         0.         0.         0.\n",
            "  0.         0.         0.         0.08838918]]\n",
            "Beta: [[ 0.64817776]\n",
            " [-3.61084752]]\n",
            "Iter:i 3.82409383595266e-05, limit: 1e-05\n",
            "pi: [array([0.02631759]), array([0.04914111]), array([0.08992983]), array([0.1589162]), array([0.26539055]), array([0.40855099]), array([0.56910954]), array([0.7163437]), array([0.82843477]), array([0.90227415])]\n",
            "0\n",
            "1\n",
            "2\n",
            "3\n",
            "4\n",
            "5\n",
            "6\n",
            "7\n",
            "8\n",
            "9\n",
            "W: [[0.02562498 0.         0.         0.         0.         0.\n",
            "  0.         0.         0.         0.        ]\n",
            " [0.         0.04672626 0.         0.         0.         0.\n",
            "  0.         0.         0.         0.        ]\n",
            " [0.         0.         0.08184246 0.         0.         0.\n",
            "  0.         0.         0.         0.        ]\n",
            " [0.         0.         0.         0.13366184 0.         0.\n",
            "  0.         0.         0.         0.        ]\n",
            " [0.         0.         0.         0.         0.19495841 0.\n",
            "  0.         0.         0.         0.        ]\n",
            " [0.         0.         0.         0.         0.         0.24163708\n",
            "  0.         0.         0.         0.        ]\n",
            " [0.         0.         0.         0.         0.         0.\n",
            "  0.24522387 0.         0.         0.        ]\n",
            " [0.         0.         0.         0.         0.         0.\n",
            "  0.         0.2031954  0.         0.        ]\n",
            " [0.         0.         0.         0.         0.         0.\n",
            "  0.         0.         0.1421306  0.        ]\n",
            " [0.         0.         0.         0.         0.         0.\n",
            "  0.         0.         0.         0.08817551]]\n",
            "Beta: [[ 0.64912034]\n",
            " [-3.61652997]]\n",
            "Iter:i 3.31786941585919e-05, limit: 1e-05\n",
            "pi: [array([0.02617237]), array([0.0489201]), array([0.08961953]), array([0.15853501]), array([0.26501793]), array([0.40831673]), array([0.56910293]), array([0.71652971]), array([0.82869871]), array([0.90252083])]\n",
            "0\n",
            "1\n",
            "2\n",
            "3\n",
            "4\n",
            "5\n",
            "6\n",
            "7\n",
            "8\n",
            "9\n",
            "W: [[0.02548738 0.         0.         0.         0.         0.\n",
            "  0.         0.         0.         0.        ]\n",
            " [0.         0.04652693 0.         0.         0.         0.\n",
            "  0.         0.         0.         0.        ]\n",
            " [0.         0.         0.08158787 0.         0.         0.\n",
            "  0.         0.         0.         0.        ]\n",
            " [0.         0.         0.         0.13340166 0.         0.\n",
            "  0.         0.         0.         0.        ]\n",
            " [0.         0.         0.         0.         0.19478343 0.\n",
            "  0.         0.         0.         0.        ]\n",
            " [0.         0.         0.         0.         0.         0.24159418\n",
            "  0.         0.         0.         0.        ]\n",
            " [0.         0.         0.         0.         0.         0.\n",
            "  0.24522479 0.         0.         0.        ]\n",
            " [0.         0.         0.         0.         0.         0.\n",
            "  0.         0.20311488 0.         0.        ]\n",
            " [0.         0.         0.         0.         0.         0.\n",
            "  0.         0.         0.14195716 0.        ]\n",
            " [0.         0.         0.         0.         0.         0.\n",
            "  0.         0.         0.         0.08797698]]\n",
            "Beta: [[ 0.64999828]\n",
            " [-3.62182409]]\n",
            "Iter:i 2.8798471064939813e-05, limit: 1e-05\n",
            "pi: [array([0.02603778]), array([0.04871504]), array([0.08933128]), array([0.15818044]), array([0.2646709]), array([0.40809825]), array([0.56909643]), array([0.71670262]), array([0.82894407]), array([0.90274998])]\n",
            "0\n",
            "1\n",
            "2\n",
            "3\n",
            "4\n",
            "5\n",
            "6\n",
            "7\n",
            "8\n",
            "9\n",
            "W: [[0.02535981 0.         0.         0.         0.         0.\n",
            "  0.         0.         0.         0.        ]\n",
            " [0.         0.04634189 0.         0.         0.         0.\n",
            "  0.         0.         0.         0.        ]\n",
            " [0.         0.         0.0813512  0.         0.         0.\n",
            "  0.         0.         0.         0.        ]\n",
            " [0.         0.         0.         0.13315939 0.         0.\n",
            "  0.         0.         0.         0.        ]\n",
            " [0.         0.         0.         0.         0.19462022 0.\n",
            "  0.         0.         0.         0.        ]\n",
            " [0.         0.         0.         0.         0.         0.24155407\n",
            "  0.         0.         0.         0.        ]\n",
            " [0.         0.         0.         0.         0.         0.\n",
            "  0.24522568 0.         0.         0.        ]\n",
            " [0.         0.         0.         0.         0.         0.\n",
            "  0.         0.20303997 0.         0.        ]\n",
            " [0.         0.         0.         0.         0.         0.\n",
            "  0.         0.         0.1417958  0.        ]\n",
            " [0.         0.         0.         0.         0.         0.\n",
            "  0.         0.         0.         0.08779246]]\n",
            "Beta: [[ 0.65081619]\n",
            " [-3.62675736]]\n",
            "Iter:i 2.500611326113013e-05, limit: 1e-05\n",
            "pi: [array([0.02591296]), array([0.04852468]), array([0.08906339]), array([0.15785055]), array([0.26434764]), array([0.40789446]), array([0.5690901]), array([0.71686342]), array([0.82917224]), array([0.90296292])]\n",
            "0\n",
            "1\n",
            "2\n",
            "3\n",
            "4\n",
            "5\n",
            "6\n",
            "7\n",
            "8\n",
            "9\n",
            "W: [[0.02524148 0.         0.         0.         0.         0.\n",
            "  0.         0.         0.         0.        ]\n",
            " [0.         0.04617004 0.         0.         0.         0.\n",
            "  0.         0.         0.         0.        ]\n",
            " [0.         0.         0.0811311  0.         0.         0.\n",
            "  0.         0.         0.         0.        ]\n",
            " [0.         0.         0.         0.13293375 0.         0.\n",
            "  0.         0.         0.         0.        ]\n",
            " [0.         0.         0.         0.         0.19446797 0.\n",
            "  0.         0.         0.         0.        ]\n",
            " [0.         0.         0.         0.         0.         0.24151657\n",
            "  0.         0.         0.         0.        ]\n",
            " [0.         0.         0.         0.         0.         0.\n",
            "  0.24522656 0.         0.         0.        ]\n",
            " [0.         0.         0.         0.         0.         0.\n",
            "  0.         0.20297026 0.         0.        ]\n",
            " [0.         0.         0.         0.         0.         0.\n",
            "  0.         0.         0.14164563 0.        ]\n",
            " [0.         0.         0.         0.         0.         0.\n",
            "  0.         0.         0.         0.08762088]]\n",
            "Beta: [[ 0.65157832]\n",
            " [-3.63135519]]\n",
            "Iter:i 2.1720898054002486e-05, limit: 1e-05\n",
            "pi: [array([0.02579716]), array([0.04834789]), array([0.08881434]), array([0.15754352]), array([0.26404646]), array([0.40770436]), array([0.56908396]), array([0.71701301]), array([0.8293845]), array([0.90316088])]\n",
            "0\n",
            "1\n",
            "2\n",
            "3\n",
            "4\n",
            "5\n",
            "6\n",
            "7\n",
            "8\n",
            "9\n",
            "W: [[0.02513167 0.         0.         0.         0.         0.\n",
            "  0.         0.         0.         0.        ]\n",
            " [0.         0.04601038 0.         0.         0.         0.\n",
            "  0.         0.         0.         0.        ]\n",
            " [0.         0.         0.08092635 0.         0.         0.\n",
            "  0.         0.         0.         0.        ]\n",
            " [0.         0.         0.         0.13272356 0.         0.\n",
            "  0.         0.         0.         0.        ]\n",
            " [0.         0.         0.         0.         0.19432593 0.\n",
            "  0.         0.         0.         0.        ]\n",
            " [0.         0.         0.         0.         0.         0.24148151\n",
            "  0.         0.         0.         0.        ]\n",
            " [0.         0.         0.         0.         0.         0.\n",
            "  0.24522741 0.         0.         0.        ]\n",
            " [0.         0.         0.         0.         0.         0.\n",
            "  0.         0.20290536 0.         0.        ]\n",
            " [0.         0.         0.         0.         0.         0.\n",
            "  0.         0.         0.14150585 0.        ]\n",
            " [0.         0.         0.         0.         0.         0.\n",
            "  0.         0.         0.         0.0874613 ]]\n",
            "Beta: [[ 0.65228861]\n",
            " [-3.6356411 ]]\n",
            "Iter:i 1.887353594087203e-05, limit: 1e-05\n",
            "pi: [array([0.02568967]), array([0.04818364]), array([0.08858273]), array([0.15725771]), array([0.2637658]), array([0.40752701]), array([0.56907803]), array([0.7171522]), array([0.82958201]), array([0.90334498])]\n",
            "0\n",
            "1\n",
            "2\n",
            "3\n",
            "4\n",
            "5\n",
            "6\n",
            "7\n",
            "8\n",
            "9\n",
            "W: [[0.02502971 0.         0.         0.         0.         0.\n",
            "  0.         0.         0.         0.        ]\n",
            " [0.         0.04586198 0.         0.         0.         0.\n",
            "  0.         0.         0.         0.        ]\n",
            " [0.         0.         0.08073583 0.         0.         0.\n",
            "  0.         0.         0.         0.        ]\n",
            " [0.         0.         0.         0.13252772 0.         0.\n",
            "  0.         0.         0.         0.        ]\n",
            " [0.         0.         0.         0.         0.1941934  0.\n",
            "  0.         0.         0.         0.        ]\n",
            " [0.         0.         0.         0.         0.         0.24144875\n",
            "  0.         0.         0.         0.        ]\n",
            " [0.         0.         0.         0.         0.         0.\n",
            "  0.24522823 0.         0.         0.        ]\n",
            " [0.         0.         0.         0.         0.         0.\n",
            "  0.         0.20284492 0.         0.        ]\n",
            " [0.         0.         0.         0.         0.         0.\n",
            "  0.         0.         0.1413757  0.        ]\n",
            " [0.         0.         0.         0.         0.         0.\n",
            "  0.         0.         0.         0.08731283]]\n",
            "Beta: [[ 0.65295069]\n",
            " [-3.63963686]]\n",
            "Iter:i 1.640448448038918e-05, limit: 1e-05\n",
            "pi: [array([0.02558984]), array([0.04803098]), array([0.08836728]), array([0.15699158]), array([0.26350423]), array([0.40736155]), array([0.56907233]), array([0.71728177]), array([0.82976585]), array([0.90351624])]\n",
            "0\n",
            "1\n",
            "2\n",
            "3\n",
            "4\n",
            "5\n",
            "6\n",
            "7\n",
            "8\n",
            "9\n",
            "W: [[0.024935   0.         0.         0.         0.         0.\n",
            "  0.         0.         0.         0.        ]\n",
            " [0.         0.04572401 0.         0.         0.         0.\n",
            "  0.         0.         0.         0.        ]\n",
            " [0.         0.         0.0805585  0.         0.         0.\n",
            "  0.         0.         0.         0.        ]\n",
            " [0.         0.         0.         0.13234522 0.         0.\n",
            "  0.         0.         0.         0.        ]\n",
            " [0.         0.         0.         0.         0.19406975 0.\n",
            "  0.         0.         0.         0.        ]\n",
            " [0.         0.         0.         0.         0.         0.24141812\n",
            "  0.         0.         0.         0.        ]\n",
            " [0.         0.         0.         0.         0.         0.\n",
            "  0.24522901 0.         0.         0.        ]\n",
            " [0.         0.         0.         0.         0.         0.\n",
            "  0.         0.20278863 0.         0.        ]\n",
            " [0.         0.         0.         0.         0.         0.\n",
            "  0.         0.         0.14125449 0.        ]\n",
            " [0.         0.         0.         0.         0.         0.\n",
            "  0.         0.         0.         0.08717464]]\n",
            "Beta: [[ 0.65356794]\n",
            " [-3.64336265]]\n",
            "Iter:i 1.4262523636412473e-05, limit: 1e-05\n",
            "pi: [array([0.0254971]), array([0.04788905]), array([0.08816679]), array([0.15674372]), array([0.26326039]), array([0.40720716]), array([0.56906687]), array([0.7174024]), array([0.82993701]), array([0.9036756])]\n",
            "0\n",
            "1\n",
            "2\n",
            "3\n",
            "4\n",
            "5\n",
            "6\n",
            "7\n",
            "8\n",
            "9\n",
            "W: [[0.024847   0.         0.         0.         0.         0.\n",
            "  0.         0.         0.         0.        ]\n",
            " [0.         0.04559569 0.         0.         0.         0.\n",
            "  0.         0.         0.         0.        ]\n",
            " [0.         0.         0.0803934  0.         0.         0.\n",
            "  0.         0.         0.         0.        ]\n",
            " [0.         0.         0.         0.13217512 0.         0.\n",
            "  0.         0.         0.         0.        ]\n",
            " [0.         0.         0.         0.         0.19395436 0.\n",
            "  0.         0.         0.         0.        ]\n",
            " [0.         0.         0.         0.         0.         0.24138949\n",
            "  0.         0.         0.         0.        ]\n",
            " [0.         0.         0.         0.         0.         0.\n",
            "  0.24522977 0.         0.         0.        ]\n",
            " [0.         0.         0.         0.         0.         0.\n",
            "  0.         0.20273619 0.         0.        ]\n",
            " [0.         0.         0.         0.         0.         0.\n",
            "  0.         0.         0.14114157 0.        ]\n",
            " [0.         0.         0.         0.         0.         0.\n",
            "  0.         0.         0.         0.08704601]]\n",
            "Beta: [[ 0.65414348]\n",
            " [-3.64683718]]\n",
            "Iter:i 1.2403549588465794e-05, limit: 1e-05\n",
            "pi: [array([0.02541091]), array([0.04775704]), array([0.08798018]), array([0.15651283]), array([0.26303307]), array([0.4070631]), array([0.56906164]), array([0.71751475]), array([0.83009641]), array([0.90382394])]\n",
            "0\n",
            "1\n",
            "2\n",
            "3\n",
            "4\n",
            "5\n",
            "6\n",
            "7\n",
            "8\n",
            "9\n",
            "W: [[0.0247652  0.         0.         0.         0.         0.\n",
            "  0.         0.         0.         0.        ]\n",
            " [0.         0.04547631 0.         0.         0.         0.\n",
            "  0.         0.         0.         0.        ]\n",
            " [0.         0.         0.08023966 0.         0.         0.\n",
            "  0.         0.         0.         0.        ]\n",
            " [0.         0.         0.         0.13201656 0.         0.\n",
            "  0.         0.         0.         0.        ]\n",
            " [0.         0.         0.         0.         0.19384667 0.\n",
            "  0.         0.         0.         0.        ]\n",
            " [0.         0.         0.         0.         0.         0.24136273\n",
            "  0.         0.         0.         0.        ]\n",
            " [0.         0.         0.         0.         0.         0.\n",
            "  0.24523049 0.         0.         0.        ]\n",
            " [0.         0.         0.         0.         0.         0.\n",
            "  0.         0.20268733 0.         0.        ]\n",
            " [0.         0.         0.         0.         0.         0.\n",
            "  0.         0.         0.14103636 0.        ]\n",
            " [0.         0.         0.         0.         0.         0.\n",
            "  0.         0.         0.         0.08692622]]\n",
            "Beta: [[ 0.65468019]\n",
            " [-3.65007778]]\n",
            "Iter:i 1.078955154921812e-05, limit: 1e-05\n",
            "pi: [array([0.02533078]), array([0.04763423]), array([0.08780644]), array([0.1562977]), array([0.26282111]), array([0.40692866]), array([0.56905666]), array([0.71761941]), array([0.83024488]), array([0.90396205])]\n",
            "0\n",
            "1\n",
            "2\n",
            "3\n",
            "4\n",
            "5\n",
            "6\n",
            "7\n",
            "8\n",
            "9\n",
            "W: [[0.02468913 0.         0.         0.         0.         0.\n",
            "  0.         0.         0.         0.        ]\n",
            " [0.         0.04536521 0.         0.         0.         0.\n",
            "  0.         0.         0.         0.        ]\n",
            " [0.         0.         0.08009647 0.         0.         0.\n",
            "  0.         0.         0.         0.        ]\n",
            " [0.         0.         0.         0.13186873 0.         0.\n",
            "  0.         0.         0.         0.        ]\n",
            " [0.         0.         0.         0.         0.19374617 0.\n",
            "  0.         0.         0.         0.        ]\n",
            " [0.         0.         0.         0.         0.         0.24133773\n",
            "  0.         0.         0.         0.        ]\n",
            " [0.         0.         0.         0.         0.         0.\n",
            "  0.24523118 0.         0.         0.        ]\n",
            " [0.         0.         0.         0.         0.         0.\n",
            "  0.         0.20264179 0.         0.        ]\n",
            " [0.         0.         0.         0.         0.         0.\n",
            "  0.         0.         0.14093832 0.        ]\n",
            " [0.         0.         0.         0.         0.         0.\n",
            "  0.         0.         0.         0.08681466]]\n",
            "Beta: [[ 0.65518077]\n",
            " [-3.65310055]]\n"
          ]
        }
      ]
    },
    {
      "cell_type": "code",
      "source": [
        "ll = likelihood(Y, logitprobs(X,a))"
      ],
      "metadata": {
        "id": "iOIOZvhJCaAB"
      },
      "execution_count": null,
      "outputs": []
    },
    {
      "cell_type": "code",
      "source": [
        "ll"
      ],
      "metadata": {
        "colab": {
          "base_uri": "https://localhost:8080/"
        },
        "id": "V_t20D5mFTAj",
        "outputId": "8d61c3d2-f2f1-4bdc-cbab-789b00ecb2f0"
      },
      "execution_count": null,
      "outputs": [
        {
          "output_type": "execute_result",
          "data": {
            "text/plain": [
              "array([1.48590518e-06])"
            ]
          },
          "metadata": {},
          "execution_count": 71
        }
      ]
    },
    {
      "cell_type": "code",
      "source": [
        "Y_a = 0.66220827 * X-3.69557172"
      ],
      "metadata": {
        "id": "bevUz3cMFTe0"
      },
      "execution_count": null,
      "outputs": []
    },
    {
      "cell_type": "markdown",
      "source": [
        "### utilizando stats de python"
      ],
      "metadata": {
        "id": "Qvsz7MxeGuiE"
      }
    },
    {
      "cell_type": "code",
      "source": [
        "import statsmodels.api as sm"
      ],
      "metadata": {
        "id": "SJwM9QrZGt_X"
      },
      "execution_count": null,
      "outputs": []
    },
    {
      "cell_type": "code",
      "source": [
        "# creamos modelo logistico\n",
        "logit_model = sm.Logit(Y, X_new)\n"
      ],
      "metadata": {
        "id": "3sMo94UcGrs3"
      },
      "execution_count": null,
      "outputs": []
    },
    {
      "cell_type": "code",
      "source": [
        "result = logit_model.fit()"
      ],
      "metadata": {
        "colab": {
          "base_uri": "https://localhost:8080/"
        },
        "id": "0ePCfHyFHB_C",
        "outputId": "ba8f286e-4047-4766-d4f5-fc89de56cbd8"
      },
      "execution_count": null,
      "outputs": [
        {
          "output_type": "stream",
          "name": "stdout",
          "text": [
            "Optimization terminated successfully.\n",
            "         Current function value: 0.431012\n",
            "         Iterations 6\n"
          ]
        }
      ]
    },
    {
      "cell_type": "code",
      "source": [
        "print(result.summary())"
      ],
      "metadata": {
        "colab": {
          "base_uri": "https://localhost:8080/"
        },
        "id": "8NNChc5pHdYR",
        "outputId": "c6026bf8-4880-4a32-8ca9-6f9c0b6d8ae7"
      },
      "execution_count": null,
      "outputs": [
        {
          "output_type": "stream",
          "name": "stdout",
          "text": [
            "                           Logit Regression Results                           \n",
            "==============================================================================\n",
            "Dep. Variable:                      y   No. Observations:                   10\n",
            "Model:                          Logit   Df Residuals:                        8\n",
            "Method:                           MLE   Df Model:                            1\n",
            "Date:                Fri, 25 Nov 2022   Pseudo R-squ.:                  0.3596\n",
            "Time:                        23:27:31   Log-Likelihood:                -4.3101\n",
            "converged:                       True   LL-Null:                       -6.7301\n",
            "Covariance Type:            nonrobust   LLR p-value:                   0.02781\n",
            "==============================================================================\n",
            "                 coef    std err          z      P>|z|      [0.025      0.975]\n",
            "------------------------------------------------------------------------------\n",
            "x1             0.6622      0.400      1.655      0.098      -0.122       1.446\n",
            "const         -3.6956      2.289     -1.615      0.106      -8.182       0.791\n",
            "==============================================================================\n"
          ]
        }
      ]
    },
    {
      "cell_type": "code",
      "source": [],
      "metadata": {
        "id": "HAlEQbVIHhwG"
      },
      "execution_count": null,
      "outputs": []
    }
  ]
}