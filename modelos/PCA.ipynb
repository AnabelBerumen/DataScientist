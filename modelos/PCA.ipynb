{
  "nbformat": 4,
  "nbformat_minor": 0,
  "metadata": {
    "colab": {
      "provenance": [],
      "authorship_tag": "ABX9TyMN+Xjj5ZC+wWSlq++fVcyF",
      "include_colab_link": true
    },
    "kernelspec": {
      "name": "python3",
      "display_name": "Python 3"
    },
    "language_info": {
      "name": "python"
    }
  },
  "cells": [
    {
      "cell_type": "markdown",
      "metadata": {
        "id": "view-in-github",
        "colab_type": "text"
      },
      "source": [
        "<a href=\"https://colab.research.google.com/github/AnabelBerumen/DataScientist/blob/main/modelos/PCA.ipynb\" target=\"_parent\"><img src=\"https://colab.research.google.com/assets/colab-badge.svg\" alt=\"Open In Colab\"/></a>"
      ]
    },
    {
      "cell_type": "markdown",
      "source": [
        "## Análisis de componentes principales - Paso a Paso"
      ],
      "metadata": {
        "id": "xLGpjcJl0IOs"
      }
    },
    {
      "cell_type": "markdown",
      "source": [
        "* Estandarizar los datos para cada una de las m observaciones\n",
        "* Otener los vectores y valores a partit de la matriz  de covarianza o de correlaciones, incluso la técnica de singular vector decomposition.\n",
        "* Ordenar los valores propios en orden descendente y quedarnos con los *p* que se correspondan a los *p* mayores y así disminuir el número de variables del dataset (p<m)"
      ],
      "metadata": {
        "id": "VfI275Cvi28z"
      }
    },
    {
      "cell_type": "code",
      "execution_count": null,
      "metadata": {
        "id": "_Nkc5gWU0G4B"
      },
      "outputs": [],
      "source": [
        "import pandas as pd"
      ]
    },
    {
      "cell_type": "code",
      "source": [
        "df = pd.read_csv('/content/iris.csv')\n",
        "df.head(3)"
      ],
      "metadata": {
        "colab": {
          "base_uri": "https://localhost:8080/",
          "height": 143
        },
        "id": "YuDP-poWkoWp",
        "outputId": "1015747e-873b-4895-942f-a184d48c1830"
      },
      "execution_count": null,
      "outputs": [
        {
          "output_type": "execute_result",
          "data": {
            "text/plain": [
              "   Sepal.Length  Sepal.Width  Petal.Length  Petal.Width Species\n",
              "0           5.1          3.5           1.4          0.2  setosa\n",
              "1           4.9          3.0           1.4          0.2  setosa\n",
              "2           4.7          3.2           1.3          0.2  setosa"
            ],
            "text/html": [
              "\n",
              "  <div id=\"df-12763b01-66e0-4baf-a65f-cdd3056f84f4\">\n",
              "    <div class=\"colab-df-container\">\n",
              "      <div>\n",
              "<style scoped>\n",
              "    .dataframe tbody tr th:only-of-type {\n",
              "        vertical-align: middle;\n",
              "    }\n",
              "\n",
              "    .dataframe tbody tr th {\n",
              "        vertical-align: top;\n",
              "    }\n",
              "\n",
              "    .dataframe thead th {\n",
              "        text-align: right;\n",
              "    }\n",
              "</style>\n",
              "<table border=\"1\" class=\"dataframe\">\n",
              "  <thead>\n",
              "    <tr style=\"text-align: right;\">\n",
              "      <th></th>\n",
              "      <th>Sepal.Length</th>\n",
              "      <th>Sepal.Width</th>\n",
              "      <th>Petal.Length</th>\n",
              "      <th>Petal.Width</th>\n",
              "      <th>Species</th>\n",
              "    </tr>\n",
              "  </thead>\n",
              "  <tbody>\n",
              "    <tr>\n",
              "      <th>0</th>\n",
              "      <td>5.1</td>\n",
              "      <td>3.5</td>\n",
              "      <td>1.4</td>\n",
              "      <td>0.2</td>\n",
              "      <td>setosa</td>\n",
              "    </tr>\n",
              "    <tr>\n",
              "      <th>1</th>\n",
              "      <td>4.9</td>\n",
              "      <td>3.0</td>\n",
              "      <td>1.4</td>\n",
              "      <td>0.2</td>\n",
              "      <td>setosa</td>\n",
              "    </tr>\n",
              "    <tr>\n",
              "      <th>2</th>\n",
              "      <td>4.7</td>\n",
              "      <td>3.2</td>\n",
              "      <td>1.3</td>\n",
              "      <td>0.2</td>\n",
              "      <td>setosa</td>\n",
              "    </tr>\n",
              "  </tbody>\n",
              "</table>\n",
              "</div>\n",
              "      <button class=\"colab-df-convert\" onclick=\"convertToInteractive('df-12763b01-66e0-4baf-a65f-cdd3056f84f4')\"\n",
              "              title=\"Convert this dataframe to an interactive table.\"\n",
              "              style=\"display:none;\">\n",
              "        \n",
              "  <svg xmlns=\"http://www.w3.org/2000/svg\" height=\"24px\"viewBox=\"0 0 24 24\"\n",
              "       width=\"24px\">\n",
              "    <path d=\"M0 0h24v24H0V0z\" fill=\"none\"/>\n",
              "    <path d=\"M18.56 5.44l.94 2.06.94-2.06 2.06-.94-2.06-.94-.94-2.06-.94 2.06-2.06.94zm-11 1L8.5 8.5l.94-2.06 2.06-.94-2.06-.94L8.5 2.5l-.94 2.06-2.06.94zm10 10l.94 2.06.94-2.06 2.06-.94-2.06-.94-.94-2.06-.94 2.06-2.06.94z\"/><path d=\"M17.41 7.96l-1.37-1.37c-.4-.4-.92-.59-1.43-.59-.52 0-1.04.2-1.43.59L10.3 9.45l-7.72 7.72c-.78.78-.78 2.05 0 2.83L4 21.41c.39.39.9.59 1.41.59.51 0 1.02-.2 1.41-.59l7.78-7.78 2.81-2.81c.8-.78.8-2.07 0-2.86zM5.41 20L4 18.59l7.72-7.72 1.47 1.35L5.41 20z\"/>\n",
              "  </svg>\n",
              "      </button>\n",
              "      \n",
              "  <style>\n",
              "    .colab-df-container {\n",
              "      display:flex;\n",
              "      flex-wrap:wrap;\n",
              "      gap: 12px;\n",
              "    }\n",
              "\n",
              "    .colab-df-convert {\n",
              "      background-color: #E8F0FE;\n",
              "      border: none;\n",
              "      border-radius: 50%;\n",
              "      cursor: pointer;\n",
              "      display: none;\n",
              "      fill: #1967D2;\n",
              "      height: 32px;\n",
              "      padding: 0 0 0 0;\n",
              "      width: 32px;\n",
              "    }\n",
              "\n",
              "    .colab-df-convert:hover {\n",
              "      background-color: #E2EBFA;\n",
              "      box-shadow: 0px 1px 2px rgba(60, 64, 67, 0.3), 0px 1px 3px 1px rgba(60, 64, 67, 0.15);\n",
              "      fill: #174EA6;\n",
              "    }\n",
              "\n",
              "    [theme=dark] .colab-df-convert {\n",
              "      background-color: #3B4455;\n",
              "      fill: #D2E3FC;\n",
              "    }\n",
              "\n",
              "    [theme=dark] .colab-df-convert:hover {\n",
              "      background-color: #434B5C;\n",
              "      box-shadow: 0px 1px 3px 1px rgba(0, 0, 0, 0.15);\n",
              "      filter: drop-shadow(0px 1px 2px rgba(0, 0, 0, 0.3));\n",
              "      fill: #FFFFFF;\n",
              "    }\n",
              "  </style>\n",
              "\n",
              "      <script>\n",
              "        const buttonEl =\n",
              "          document.querySelector('#df-12763b01-66e0-4baf-a65f-cdd3056f84f4 button.colab-df-convert');\n",
              "        buttonEl.style.display =\n",
              "          google.colab.kernel.accessAllowed ? 'block' : 'none';\n",
              "\n",
              "        async function convertToInteractive(key) {\n",
              "          const element = document.querySelector('#df-12763b01-66e0-4baf-a65f-cdd3056f84f4');\n",
              "          const dataTable =\n",
              "            await google.colab.kernel.invokeFunction('convertToInteractive',\n",
              "                                                     [key], {});\n",
              "          if (!dataTable) return;\n",
              "\n",
              "          const docLinkHtml = 'Like what you see? Visit the ' +\n",
              "            '<a target=\"_blank\" href=https://colab.research.google.com/notebooks/data_table.ipynb>data table notebook</a>'\n",
              "            + ' to learn more about interactive tables.';\n",
              "          element.innerHTML = '';\n",
              "          dataTable['output_type'] = 'display_data';\n",
              "          await google.colab.output.renderOutput(dataTable, element);\n",
              "          const docLink = document.createElement('div');\n",
              "          docLink.innerHTML = docLinkHtml;\n",
              "          element.appendChild(docLink);\n",
              "        }\n",
              "      </script>\n",
              "    </div>\n",
              "  </div>\n",
              "  "
            ]
          },
          "metadata": {},
          "execution_count": 48
        }
      ]
    },
    {
      "cell_type": "code",
      "source": [
        "X = df.iloc[:,0:4].values\n",
        "Y = df.iloc[:,4].values"
      ],
      "metadata": {
        "id": "ZSA93oUnk1Lx"
      },
      "execution_count": null,
      "outputs": []
    },
    {
      "cell_type": "code",
      "source": [
        "!pip install chart-studio"
      ],
      "metadata": {
        "colab": {
          "base_uri": "https://localhost:8080/"
        },
        "id": "rtRLkK2Lxrmc",
        "outputId": "94a208ad-4292-481f-ec25-1cddb1ec94b0"
      },
      "execution_count": null,
      "outputs": [
        {
          "output_type": "stream",
          "name": "stdout",
          "text": [
            "Looking in indexes: https://pypi.org/simple, https://us-python.pkg.dev/colab-wheels/public/simple/\n",
            "Requirement already satisfied: chart-studio in /usr/local/lib/python3.8/dist-packages (1.1.0)\n",
            "Requirement already satisfied: plotly in /usr/local/lib/python3.8/dist-packages (from chart-studio) (5.5.0)\n",
            "Requirement already satisfied: six in /usr/local/lib/python3.8/dist-packages (from chart-studio) (1.15.0)\n",
            "Requirement already satisfied: retrying>=1.3.3 in /usr/local/lib/python3.8/dist-packages (from chart-studio) (1.3.4)\n",
            "Requirement already satisfied: requests in /usr/local/lib/python3.8/dist-packages (from chart-studio) (2.25.1)\n",
            "Requirement already satisfied: tenacity>=6.2.0 in /usr/local/lib/python3.8/dist-packages (from plotly->chart-studio) (8.2.0)\n",
            "Requirement already satisfied: idna<3,>=2.5 in /usr/local/lib/python3.8/dist-packages (from requests->chart-studio) (2.10)\n",
            "Requirement already satisfied: certifi>=2017.4.17 in /usr/local/lib/python3.8/dist-packages (from requests->chart-studio) (2022.12.7)\n",
            "Requirement already satisfied: chardet<5,>=3.0.2 in /usr/local/lib/python3.8/dist-packages (from requests->chart-studio) (4.0.0)\n",
            "Requirement already satisfied: urllib3<1.27,>=1.21.1 in /usr/local/lib/python3.8/dist-packages (from requests->chart-studio) (1.24.3)\n"
          ]
        }
      ]
    },
    {
      "cell_type": "code",
      "source": [
        "import chart_studio.plotly as py\n",
        "\n",
        "import plotly.graph_objects as go\n",
        "\n",
        "from sklearn.preprocessing import StandardScaler\n",
        "\n",
        "\n",
        "\n",
        "# Necesario para exportar los gráficos, y hace falta registrarse:\n",
        "\n",
        "import chart_studio\n",
        "\n",
        "chart_studio.tools.set_credentials_file(username=\"\", api_key=\"\")\n",
        "\n",
        "\n",
        "\n",
        "# Normalizamos los datos para centrarlos en 0\n",
        "\n",
        "X_std = StandardScaler().fit_transform(X)\n",
        "\n",
        "\n",
        "\n",
        "# Representamos los histogramas\n",
        "\n",
        "traces = []\n",
        "\n",
        "data = []\n",
        "\n",
        "\n",
        "\n",
        "legend = {0:True, 1:True, 2:True, 3:True}\n",
        "\n",
        "\n",
        "\n",
        "colors = {'setosa': 'rgb(255,127,20)',\n",
        "\n",
        "         'versicolor': 'rgb(31, 220, 120)',\n",
        "\n",
        "         'virginica': 'rgb(44, 50, 180)'\n",
        "\n",
        "         }\n",
        "\n",
        "\n",
        "\n",
        "for col in range(4):\n",
        "\n",
        "    for key in colors:\n",
        "\n",
        "        traces.append(go.Histogram(x=X_std[Y==key, col], opacity = 0.7,\n",
        "\n",
        "                                   xaxis=\"x%s\"%(col+1), marker=go.histogram.Marker(color=colors[key]),\n",
        "\n",
        "                                   name = key, showlegend=legend[col]))\n",
        "\n",
        "\n",
        "\n",
        "    legend = {0:False, 1:False, 2:False, 3:False}\n",
        "\n",
        "\n",
        "\n",
        "for x in range(len(traces)):\n",
        "\n",
        "    data.append(go.Histogram(traces[x]))\n",
        "\n",
        "layout = go.Layout(barmode=\"overlay\",\n",
        "\n",
        "                xaxis=go.layout.XAxis(domain=[0,0.25], title=\"Long. Sépalos (cm)\"),\n",
        "\n",
        "                xaxis2=go.layout.XAxis(domain=[0.3, 0.5], title = \"Anch. Sépalos (cm)\"),\n",
        "\n",
        "                xaxis3=go.layout.XAxis(domain = [0.55, 0.75], title = \"Long. Pétalos (cm)\"),\n",
        "\n",
        "                xaxis4=go.layout.XAxis(domain=[0.8,1.0], title = \"Anch. Pétalos (cm)\"),\n",
        "\n",
        "                yaxis=go.layout.YAxis(title=\"Número de ejemplares\"),\n",
        "\n",
        "                title=\"Distribución de los rasgos de las diferentes flores Iris\")\n",
        "\n",
        "\n",
        "\n",
        "fig = go.Figure(data = data, layout = layout)\n",
        "\n",
        "fig.show()"
      ],
      "metadata": {
        "id": "u5hHJ3T1C8R1",
        "colab": {
          "base_uri": "https://localhost:8080/",
          "height": 542
        },
        "outputId": "d5527e09-ee2e-4edf-849a-ad3bb0d3cd12"
      },
      "execution_count": null,
      "outputs": [
        {
          "output_type": "display_data",
          "data": {
            "text/html": [
              "<html>\n",
              "<head><meta charset=\"utf-8\" /></head>\n",
              "<body>\n",
              "    <div>            <script src=\"https://cdnjs.cloudflare.com/ajax/libs/mathjax/2.7.5/MathJax.js?config=TeX-AMS-MML_SVG\"></script><script type=\"text/javascript\">if (window.MathJax) {MathJax.Hub.Config({SVG: {font: \"STIX-Web\"}});}</script>                <script type=\"text/javascript\">window.PlotlyConfig = {MathJaxConfig: 'local'};</script>\n",
              "        <script src=\"https://cdn.plot.ly/plotly-2.8.3.min.js\"></script>                <div id=\"fd1091a4-929c-4829-acbf-97b4fc37a32d\" class=\"plotly-graph-div\" style=\"height:525px; width:100%;\"></div>            <script type=\"text/javascript\">                                    window.PLOTLYENV=window.PLOTLYENV || {};                                    if (document.getElementById(\"fd1091a4-929c-4829-acbf-97b4fc37a32d\")) {                    Plotly.newPlot(                        \"fd1091a4-929c-4829-acbf-97b4fc37a32d\",                        [{\"marker\":{\"color\":\"rgb(255,127,20)\"},\"name\":\"setosa\",\"opacity\":0.7,\"showlegend\":true,\"x\":[-0.9006811702978088,-1.1430169111851105,-1.3853526520724133,-1.5065205225160652,-1.0218490407414595,-0.537177558966854,-1.5065205225160652,-1.0218490407414595,-1.7488562634033669,-1.1430169111851105,-0.537177558966854,-1.2641847816287624,-1.2641847816287624,-1.870024133847019,-0.05250607719224957,-0.1736739476359004,-0.537177558966854,-0.9006811702978088,-0.1736739476359004,-0.9006811702978088,-0.537177558966854,-0.9006811702978088,-1.5065205225160652,-0.9006811702978088,-1.2641847816287624,-1.0218490407414595,-1.0218490407414595,-0.7795132998541568,-0.7795132998541568,-1.3853526520724133,-1.2641847816287624,-0.537177558966854,-0.7795132998541568,-0.4160096885232032,-1.1430169111851105,-1.0218490407414595,-0.4160096885232032,-1.1430169111851105,-1.7488562634033669,-0.9006811702978088,-1.0218490407414595,-1.6276883929597161,-1.7488562634033669,-1.0218490407414595,-0.9006811702978088,-1.2641847816287624,-0.9006811702978088,-1.5065205225160652,-0.658345429410506,-1.0218490407414595],\"xaxis\":\"x\",\"type\":\"histogram\"},{\"marker\":{\"color\":\"rgb(31, 220, 120)\"},\"name\":\"versicolor\",\"opacity\":0.7,\"showlegend\":true,\"x\":[1.401508368131566,0.6745011454696588,1.2803404976879151,-0.4160096885232032,0.7956690159133096,-0.1736739476359004,0.5533332750260068,-1.1430169111851105,0.9168368863569605,-0.7795132998541568,-1.0218490407414595,0.06866179325140237,0.18982966369505322,0.31099753413870407,-0.29484181807955234,1.0380047568006125,-0.29484181807955234,-0.05250607719224957,0.432165404582356,-0.29484181807955234,0.06866179325140237,0.31099753413870407,0.5533332750260068,0.31099753413870407,0.6745011454696588,0.9168368863569605,1.1591726272442633,1.0380047568006125,0.18982966369505322,-0.1736739476359004,-0.4160096885232032,-0.4160096885232032,-0.05250607719224957,0.18982966369505322,-0.537177558966854,0.18982966369505322,1.0380047568006125,0.5533332750260068,-0.29484181807955234,-0.4160096885232032,-0.4160096885232032,0.31099753413870407,-0.05250607719224957,-1.0218490407414595,-0.29484181807955234,-0.1736739476359004,-0.1736739476359004,0.432165404582356,-0.9006811702978088,-0.1736739476359004],\"xaxis\":\"x\",\"type\":\"histogram\"},{\"marker\":{\"color\":\"rgb(44, 50, 180)\"},\"name\":\"virginica\",\"opacity\":0.7,\"showlegend\":true,\"x\":[0.5533332750260068,-0.05250607719224957,1.522676238575217,0.5533332750260068,0.7956690159133096,2.1285155907934734,-1.1430169111851105,1.7650119794625196,1.0380047568006125,1.643844109018869,0.7956690159133096,0.6745011454696588,1.1591726272442633,-0.1736739476359004,-0.05250607719224957,0.6745011454696588,0.7956690159133096,2.2496834612371255,2.2496834612371255,0.18982966369505322,1.2803404976879151,-0.29484181807955234,2.2496834612371255,0.5533332750260068,1.0380047568006125,1.643844109018869,0.432165404582356,0.31099753413870407,0.6745011454696588,1.643844109018869,1.8861798499061717,2.4920192021244283,0.6745011454696588,0.5533332750260068,0.31099753413870407,2.2496834612371255,0.5533332750260068,0.6745011454696588,0.18982966369505322,1.2803404976879151,1.0380047568006125,1.2803404976879151,-0.05250607719224957,1.1591726272442633,1.0380047568006125,1.0380047568006125,0.5533332750260068,0.7956690159133096,0.432165404582356,0.06866179325140237],\"xaxis\":\"x\",\"type\":\"histogram\"},{\"marker\":{\"color\":\"rgb(255,127,20)\"},\"name\":\"setosa\",\"opacity\":0.7,\"showlegend\":false,\"x\":[1.019004351971607,-0.13197947932162468,0.32841405319566835,0.09821728693702184,1.2492011182302534,1.939791417006192,0.7888075857129604,0.7888075857129604,-0.3621762455802712,0.09821728693702184,1.4793978844889,0.7888075857129604,-0.13197947932162468,-0.13197947932162468,2.1699881832648384,3.090775248299425,1.939791417006192,1.019004351971607,1.7095946507475455,1.7095946507475455,0.7888075857129604,1.4793978844889,1.2492011182302534,0.5586108194543139,0.7888075857129604,-0.13197947932162468,0.7888075857129604,1.019004351971607,0.7888075857129604,0.32841405319566835,0.09821728693702184,0.7888075857129604,2.400184949523484,2.6303817157821316,0.09821728693702184,0.32841405319566835,1.019004351971607,1.2492011182302534,-0.13197947932162468,0.7888075857129604,1.019004351971607,-1.7433568431321493,0.32841405319566835,1.019004351971607,1.7095946507475455,-0.13197947932162468,1.7095946507475455,0.32841405319566835,1.4793978844889,0.5586108194543139],\"xaxis\":\"x2\",\"type\":\"histogram\"},{\"marker\":{\"color\":\"rgb(31, 220, 120)\"},\"name\":\"versicolor\",\"opacity\":0.7,\"showlegend\":false,\"x\":[0.32841405319566835,0.32841405319566835,0.09821728693702184,-1.7433568431321493,-0.5923730118389178,-0.5923730118389178,0.5586108194543139,-1.513160076873503,-0.3621762455802712,-0.8225697780975633,-2.433947141908088,-0.13197947932162468,-1.9735536093907948,-0.3621762455802712,-0.3621762455802712,0.09821728693702184,-0.13197947932162468,-0.8225697780975633,-1.9735536093907948,-1.2829633106148564,0.32841405319566835,-0.5923730118389178,-1.2829633106148564,-0.5923730118389178,-0.3621762455802712,-0.13197947932162468,-0.5923730118389178,-0.13197947932162468,-0.3621762455802712,-1.0527665443562098,-1.513160076873503,-1.513160076873503,-0.8225697780975633,-0.8225697780975633,-0.13197947932162468,0.7888075857129604,0.09821728693702184,-1.7433568431321493,-0.13197947932162468,-1.2829633106148564,-1.0527665443562098,-0.13197947932162468,-1.0527665443562098,-1.7433568431321493,-0.8225697780975633,-0.13197947932162468,-0.3621762455802712,-0.3621762455802712,-1.2829633106148564,-0.5923730118389178],\"xaxis\":\"x2\",\"type\":\"histogram\"},{\"marker\":{\"color\":\"rgb(44, 50, 180)\"},\"name\":\"virginica\",\"opacity\":0.7,\"showlegend\":false,\"x\":[0.5586108194543139,-0.8225697780975633,-0.13197947932162468,-0.3621762455802712,-0.13197947932162468,-0.13197947932162468,-1.2829633106148564,-0.3621762455802712,-1.2829633106148564,1.2492011182302534,0.32841405319566835,-0.8225697780975633,-0.13197947932162468,-1.2829633106148564,-0.5923730118389178,0.32841405319566835,-0.13197947932162468,1.7095946507475455,-1.0527665443562098,-1.9735536093907948,0.32841405319566835,-0.5923730118389178,-0.5923730118389178,-0.8225697780975633,0.5586108194543139,0.32841405319566835,-0.5923730118389178,-0.13197947932162468,-0.5923730118389178,-0.13197947932162468,-0.5923730118389178,1.7095946507475455,-0.5923730118389178,-0.5923730118389178,-1.0527665443562098,-0.13197947932162468,0.7888075857129604,0.09821728693702184,-0.13197947932162468,0.09821728693702184,0.09821728693702184,0.09821728693702184,-0.8225697780975633,0.32841405319566835,0.5586108194543139,-0.13197947932162468,-1.2829633106148564,-0.13197947932162468,0.7888075857129604,-0.13197947932162468],\"xaxis\":\"x2\",\"type\":\"histogram\"},{\"marker\":{\"color\":\"rgb(255,127,20)\"},\"name\":\"setosa\",\"opacity\":0.7,\"showlegend\":false,\"x\":[-1.3402265266227624,-1.3402265266227624,-1.3970639535363654,-1.2833890997091593,-1.3402265266227624,-1.1697142458819532,-1.3402265266227624,-1.2833890997091593,-1.3402265266227624,-1.2833890997091593,-1.2833890997091593,-1.226551672795556,-1.3402265266227624,-1.5107388073635717,-1.4539013804499687,-1.2833890997091593,-1.3970639535363654,-1.3402265266227624,-1.1697142458819532,-1.2833890997091593,-1.1697142458819532,-1.2833890997091593,-1.567576234277175,-1.1697142458819532,-1.0560393920547466,-1.226551672795556,-1.226551672795556,-1.2833890997091593,-1.3402265266227624,-1.226551672795556,-1.226551672795556,-1.2833890997091593,-1.2833890997091593,-1.3402265266227624,-1.2833890997091593,-1.4539013804499687,-1.3970639535363654,-1.3402265266227624,-1.3970639535363654,-1.2833890997091593,-1.3970639535363654,-1.3970639535363654,-1.3970639535363654,-1.226551672795556,-1.0560393920547466,-1.3402265266227624,-1.226551672795556,-1.3402265266227624,-1.2833890997091593,-1.3402265266227624],\"xaxis\":\"x3\",\"type\":\"histogram\"},{\"marker\":{\"color\":\"rgb(31, 220, 120)\"},\"name\":\"versicolor\",\"opacity\":0.7,\"showlegend\":false,\"x\":[0.5354085615261415,0.4217337076989351,0.6490834153533479,0.13754657313091936,0.47857113461253803,0.4217337076989351,0.5354085615261415,-0.26031541526430274,0.47857113461253803,0.08070914621731616,-0.14664056143709636,0.2512214269581257,0.13754657313091936,0.5354085615261415,-0.08980313452349317,0.36489628078533215,0.4217337076989351,0.1943840000445223,0.4217337076989351,0.08070914621731616,0.5922459884397444,0.13754657313091936,0.6490834153533479,0.5354085615261415,0.30805885387172866,0.36489628078533215,0.5922459884397444,0.7059208422669508,0.4217337076989351,-0.14664056143709636,0.023871719303712964,-0.032965707609889976,0.08070914621731616,0.7627582691805538,0.4217337076989351,0.4217337076989351,0.5354085615261415,0.36489628078533215,0.1943840000445223,0.13754657313091936,0.36489628078533215,0.47857113461253803,0.13754657313091936,-0.26031541526430274,0.2512214269581257,0.2512214269581257,0.2512214269581257,0.30805885387172866,-0.4308276960051121,0.1943840000445223],\"xaxis\":\"x3\",\"type\":\"histogram\"},{\"marker\":{\"color\":\"rgb(44, 50, 180)\"},\"name\":\"virginica\",\"opacity\":0.7,\"showlegend\":false,\"x\":[1.2742951114029821,0.7627582691805538,1.2174576844893792,1.0469454037485695,1.1606202575757758,1.6153196728846009,0.4217337076989351,1.4448073921437916,1.1606202575757758,1.331132538316585,0.7627582691805538,0.8764331230077601,0.9901079768349665,0.7059208422669508,0.7627582691805538,0.8764331230077601,0.9901079768349665,1.6721570997982043,1.7858319536254108,0.7059208422669508,1.1037828306621729,0.6490834153533479,1.6721570997982043,0.6490834153533479,1.1037828306621729,1.2742951114029821,0.5922459884397444,0.6490834153533479,1.0469454037485695,1.1606202575757758,1.331132538316585,1.501644819057395,1.0469454037485695,0.7627582691805538,1.0469454037485695,1.331132538316585,1.0469454037485695,0.9901079768349665,0.5922459884397444,0.9332705499213636,1.0469454037485695,0.7627582691805538,0.7627582691805538,1.2174576844893792,1.1037828306621729,0.8195956960941572,0.7059208422669508,0.8195956960941572,0.9332705499213636,0.7627582691805538],\"xaxis\":\"x3\",\"type\":\"histogram\"},{\"marker\":{\"color\":\"rgb(255,127,20)\"},\"name\":\"setosa\",\"opacity\":0.7,\"showlegend\":false,\"x\":[-1.3154442950077403,-1.3154442950077403,-1.3154442950077403,-1.3154442950077403,-1.3154442950077403,-1.0521799264271385,-1.1838121107174393,-1.3154442950077403,-1.3154442950077403,-1.4470764792980408,-1.3154442950077403,-1.3154442950077403,-1.4470764792980408,-1.4470764792980408,-1.3154442950077403,-1.0521799264271385,-1.0521799264271385,-1.1838121107174393,-1.1838121107174393,-1.1838121107174393,-1.3154442950077403,-1.0521799264271385,-1.3154442950077403,-0.9205477421368377,-1.3154442950077403,-1.3154442950077403,-1.0521799264271385,-1.3154442950077403,-1.3154442950077403,-1.3154442950077403,-1.3154442950077403,-1.0521799264271385,-1.4470764792980408,-1.3154442950077403,-1.3154442950077403,-1.3154442950077403,-1.3154442950077403,-1.4470764792980408,-1.3154442950077403,-1.3154442950077403,-1.1838121107174393,-1.1838121107174393,-1.3154442950077403,-0.7889155578465368,-1.0521799264271385,-1.1838121107174393,-1.3154442950077403,-1.3154442950077403,-1.3154442950077403,-1.3154442950077403],\"xaxis\":\"x4\",\"type\":\"histogram\"},{\"marker\":{\"color\":\"rgb(31, 220, 120)\"},\"name\":\"versicolor\",\"opacity\":0.7,\"showlegend\":false,\"x\":[0.26414191647586993,0.3957741007661709,0.3957741007661709,0.13250973218556925,0.3957741007661709,0.13250973218556925,0.5274062850564719,-0.26238682068533337,0.13250973218556925,0.26414191647586993,-0.26238682068533337,0.3957741007661709,-0.26238682068533337,0.26414191647586993,0.13250973218556925,0.26414191647586993,0.3957741007661709,-0.26238682068533337,0.3957741007661709,-0.1307546363950324,0.7906706536370736,0.13250973218556925,0.3957741007661709,0.0008775478952682834,0.13250973218556925,0.26414191647586993,0.26414191647586993,0.6590384693467726,0.3957741007661709,-0.26238682068533337,-0.1307546363950324,-0.26238682068533337,0.0008775478952682834,0.5274062850564719,0.3957741007661709,0.5274062850564719,0.3957741007661709,0.13250973218556925,0.13250973218556925,0.13250973218556925,0.0008775478952682834,0.26414191647586993,0.0008775478952682834,-0.26238682068533337,0.13250973218556925,0.0008775478952682834,0.13250973218556925,0.13250973218556925,-0.1307546363950324,0.13250973218556925],\"xaxis\":\"x4\",\"type\":\"histogram\"},{\"marker\":{\"color\":\"rgb(44, 50, 180)\"},\"name\":\"virginica\",\"opacity\":0.7,\"showlegend\":false,\"x\":[1.7120959436691794,0.9223028379273742,1.185567206507976,0.7906706536370736,1.317199390798277,1.185567206507976,0.6590384693467726,0.7906706536370736,0.7906706536370736,1.7120959436691794,1.053935022217675,0.9223028379273742,1.185567206507976,1.053935022217675,1.5804637593788784,1.4488315750885774,0.7906706536370736,1.317199390798277,1.4488315750885774,0.3957741007661709,1.4488315750885774,1.053935022217675,1.053935022217675,0.7906706536370736,1.185567206507976,0.7906706536370736,0.7906706536370736,0.7906706536370736,1.185567206507976,0.5274062850564719,0.9223028379273742,1.053935022217675,1.317199390798277,0.3957741007661709,0.26414191647586993,1.4488315750885774,1.5804637593788784,0.7906706536370736,0.7906706536370736,1.185567206507976,1.5804637593788784,1.4488315750885774,0.9223028379273742,1.4488315750885774,1.7120959436691794,1.4488315750885774,0.9223028379273742,1.053935022217675,1.4488315750885774,0.7906706536370736],\"xaxis\":\"x4\",\"type\":\"histogram\"}],                        {\"barmode\":\"overlay\",\"title\":{\"text\":\"Distribuci\\u00f3n de los rasgos de las diferentes flores Iris\"},\"xaxis\":{\"domain\":[0,0.25],\"title\":{\"text\":\"Long. S\\u00e9palos (cm)\"}},\"yaxis\":{\"title\":{\"text\":\"N\\u00famero de ejemplares\"}},\"xaxis2\":{\"domain\":[0.3,0.5],\"title\":{\"text\":\"Anch. S\\u00e9palos (cm)\"}},\"xaxis3\":{\"domain\":[0.55,0.75],\"title\":{\"text\":\"Long. P\\u00e9talos (cm)\"}},\"xaxis4\":{\"domain\":[0.8,1.0],\"title\":{\"text\":\"Anch. P\\u00e9talos (cm)\"}},\"template\":{\"data\":{\"bar\":[{\"error_x\":{\"color\":\"#2a3f5f\"},\"error_y\":{\"color\":\"#2a3f5f\"},\"marker\":{\"line\":{\"color\":\"#E5ECF6\",\"width\":0.5},\"pattern\":{\"fillmode\":\"overlay\",\"size\":10,\"solidity\":0.2}},\"type\":\"bar\"}],\"barpolar\":[{\"marker\":{\"line\":{\"color\":\"#E5ECF6\",\"width\":0.5},\"pattern\":{\"fillmode\":\"overlay\",\"size\":10,\"solidity\":0.2}},\"type\":\"barpolar\"}],\"carpet\":[{\"aaxis\":{\"endlinecolor\":\"#2a3f5f\",\"gridcolor\":\"white\",\"linecolor\":\"white\",\"minorgridcolor\":\"white\",\"startlinecolor\":\"#2a3f5f\"},\"baxis\":{\"endlinecolor\":\"#2a3f5f\",\"gridcolor\":\"white\",\"linecolor\":\"white\",\"minorgridcolor\":\"white\",\"startlinecolor\":\"#2a3f5f\"},\"type\":\"carpet\"}],\"choropleth\":[{\"colorbar\":{\"outlinewidth\":0,\"ticks\":\"\"},\"type\":\"choropleth\"}],\"contour\":[{\"colorbar\":{\"outlinewidth\":0,\"ticks\":\"\"},\"colorscale\":[[0.0,\"#0d0887\"],[0.1111111111111111,\"#46039f\"],[0.2222222222222222,\"#7201a8\"],[0.3333333333333333,\"#9c179e\"],[0.4444444444444444,\"#bd3786\"],[0.5555555555555556,\"#d8576b\"],[0.6666666666666666,\"#ed7953\"],[0.7777777777777778,\"#fb9f3a\"],[0.8888888888888888,\"#fdca26\"],[1.0,\"#f0f921\"]],\"type\":\"contour\"}],\"contourcarpet\":[{\"colorbar\":{\"outlinewidth\":0,\"ticks\":\"\"},\"type\":\"contourcarpet\"}],\"heatmap\":[{\"colorbar\":{\"outlinewidth\":0,\"ticks\":\"\"},\"colorscale\":[[0.0,\"#0d0887\"],[0.1111111111111111,\"#46039f\"],[0.2222222222222222,\"#7201a8\"],[0.3333333333333333,\"#9c179e\"],[0.4444444444444444,\"#bd3786\"],[0.5555555555555556,\"#d8576b\"],[0.6666666666666666,\"#ed7953\"],[0.7777777777777778,\"#fb9f3a\"],[0.8888888888888888,\"#fdca26\"],[1.0,\"#f0f921\"]],\"type\":\"heatmap\"}],\"heatmapgl\":[{\"colorbar\":{\"outlinewidth\":0,\"ticks\":\"\"},\"colorscale\":[[0.0,\"#0d0887\"],[0.1111111111111111,\"#46039f\"],[0.2222222222222222,\"#7201a8\"],[0.3333333333333333,\"#9c179e\"],[0.4444444444444444,\"#bd3786\"],[0.5555555555555556,\"#d8576b\"],[0.6666666666666666,\"#ed7953\"],[0.7777777777777778,\"#fb9f3a\"],[0.8888888888888888,\"#fdca26\"],[1.0,\"#f0f921\"]],\"type\":\"heatmapgl\"}],\"histogram\":[{\"marker\":{\"pattern\":{\"fillmode\":\"overlay\",\"size\":10,\"solidity\":0.2}},\"type\":\"histogram\"}],\"histogram2d\":[{\"colorbar\":{\"outlinewidth\":0,\"ticks\":\"\"},\"colorscale\":[[0.0,\"#0d0887\"],[0.1111111111111111,\"#46039f\"],[0.2222222222222222,\"#7201a8\"],[0.3333333333333333,\"#9c179e\"],[0.4444444444444444,\"#bd3786\"],[0.5555555555555556,\"#d8576b\"],[0.6666666666666666,\"#ed7953\"],[0.7777777777777778,\"#fb9f3a\"],[0.8888888888888888,\"#fdca26\"],[1.0,\"#f0f921\"]],\"type\":\"histogram2d\"}],\"histogram2dcontour\":[{\"colorbar\":{\"outlinewidth\":0,\"ticks\":\"\"},\"colorscale\":[[0.0,\"#0d0887\"],[0.1111111111111111,\"#46039f\"],[0.2222222222222222,\"#7201a8\"],[0.3333333333333333,\"#9c179e\"],[0.4444444444444444,\"#bd3786\"],[0.5555555555555556,\"#d8576b\"],[0.6666666666666666,\"#ed7953\"],[0.7777777777777778,\"#fb9f3a\"],[0.8888888888888888,\"#fdca26\"],[1.0,\"#f0f921\"]],\"type\":\"histogram2dcontour\"}],\"mesh3d\":[{\"colorbar\":{\"outlinewidth\":0,\"ticks\":\"\"},\"type\":\"mesh3d\"}],\"parcoords\":[{\"line\":{\"colorbar\":{\"outlinewidth\":0,\"ticks\":\"\"}},\"type\":\"parcoords\"}],\"pie\":[{\"automargin\":true,\"type\":\"pie\"}],\"scatter\":[{\"marker\":{\"colorbar\":{\"outlinewidth\":0,\"ticks\":\"\"}},\"type\":\"scatter\"}],\"scatter3d\":[{\"line\":{\"colorbar\":{\"outlinewidth\":0,\"ticks\":\"\"}},\"marker\":{\"colorbar\":{\"outlinewidth\":0,\"ticks\":\"\"}},\"type\":\"scatter3d\"}],\"scattercarpet\":[{\"marker\":{\"colorbar\":{\"outlinewidth\":0,\"ticks\":\"\"}},\"type\":\"scattercarpet\"}],\"scattergeo\":[{\"marker\":{\"colorbar\":{\"outlinewidth\":0,\"ticks\":\"\"}},\"type\":\"scattergeo\"}],\"scattergl\":[{\"marker\":{\"colorbar\":{\"outlinewidth\":0,\"ticks\":\"\"}},\"type\":\"scattergl\"}],\"scattermapbox\":[{\"marker\":{\"colorbar\":{\"outlinewidth\":0,\"ticks\":\"\"}},\"type\":\"scattermapbox\"}],\"scatterpolar\":[{\"marker\":{\"colorbar\":{\"outlinewidth\":0,\"ticks\":\"\"}},\"type\":\"scatterpolar\"}],\"scatterpolargl\":[{\"marker\":{\"colorbar\":{\"outlinewidth\":0,\"ticks\":\"\"}},\"type\":\"scatterpolargl\"}],\"scatterternary\":[{\"marker\":{\"colorbar\":{\"outlinewidth\":0,\"ticks\":\"\"}},\"type\":\"scatterternary\"}],\"surface\":[{\"colorbar\":{\"outlinewidth\":0,\"ticks\":\"\"},\"colorscale\":[[0.0,\"#0d0887\"],[0.1111111111111111,\"#46039f\"],[0.2222222222222222,\"#7201a8\"],[0.3333333333333333,\"#9c179e\"],[0.4444444444444444,\"#bd3786\"],[0.5555555555555556,\"#d8576b\"],[0.6666666666666666,\"#ed7953\"],[0.7777777777777778,\"#fb9f3a\"],[0.8888888888888888,\"#fdca26\"],[1.0,\"#f0f921\"]],\"type\":\"surface\"}],\"table\":[{\"cells\":{\"fill\":{\"color\":\"#EBF0F8\"},\"line\":{\"color\":\"white\"}},\"header\":{\"fill\":{\"color\":\"#C8D4E3\"},\"line\":{\"color\":\"white\"}},\"type\":\"table\"}]},\"layout\":{\"annotationdefaults\":{\"arrowcolor\":\"#2a3f5f\",\"arrowhead\":0,\"arrowwidth\":1},\"autotypenumbers\":\"strict\",\"coloraxis\":{\"colorbar\":{\"outlinewidth\":0,\"ticks\":\"\"}},\"colorscale\":{\"diverging\":[[0,\"#8e0152\"],[0.1,\"#c51b7d\"],[0.2,\"#de77ae\"],[0.3,\"#f1b6da\"],[0.4,\"#fde0ef\"],[0.5,\"#f7f7f7\"],[0.6,\"#e6f5d0\"],[0.7,\"#b8e186\"],[0.8,\"#7fbc41\"],[0.9,\"#4d9221\"],[1,\"#276419\"]],\"sequential\":[[0.0,\"#0d0887\"],[0.1111111111111111,\"#46039f\"],[0.2222222222222222,\"#7201a8\"],[0.3333333333333333,\"#9c179e\"],[0.4444444444444444,\"#bd3786\"],[0.5555555555555556,\"#d8576b\"],[0.6666666666666666,\"#ed7953\"],[0.7777777777777778,\"#fb9f3a\"],[0.8888888888888888,\"#fdca26\"],[1.0,\"#f0f921\"]],\"sequentialminus\":[[0.0,\"#0d0887\"],[0.1111111111111111,\"#46039f\"],[0.2222222222222222,\"#7201a8\"],[0.3333333333333333,\"#9c179e\"],[0.4444444444444444,\"#bd3786\"],[0.5555555555555556,\"#d8576b\"],[0.6666666666666666,\"#ed7953\"],[0.7777777777777778,\"#fb9f3a\"],[0.8888888888888888,\"#fdca26\"],[1.0,\"#f0f921\"]]},\"colorway\":[\"#636efa\",\"#EF553B\",\"#00cc96\",\"#ab63fa\",\"#FFA15A\",\"#19d3f3\",\"#FF6692\",\"#B6E880\",\"#FF97FF\",\"#FECB52\"],\"font\":{\"color\":\"#2a3f5f\"},\"geo\":{\"bgcolor\":\"white\",\"lakecolor\":\"white\",\"landcolor\":\"#E5ECF6\",\"showlakes\":true,\"showland\":true,\"subunitcolor\":\"white\"},\"hoverlabel\":{\"align\":\"left\"},\"hovermode\":\"closest\",\"mapbox\":{\"style\":\"light\"},\"paper_bgcolor\":\"white\",\"plot_bgcolor\":\"#E5ECF6\",\"polar\":{\"angularaxis\":{\"gridcolor\":\"white\",\"linecolor\":\"white\",\"ticks\":\"\"},\"bgcolor\":\"#E5ECF6\",\"radialaxis\":{\"gridcolor\":\"white\",\"linecolor\":\"white\",\"ticks\":\"\"}},\"scene\":{\"xaxis\":{\"backgroundcolor\":\"#E5ECF6\",\"gridcolor\":\"white\",\"gridwidth\":2,\"linecolor\":\"white\",\"showbackground\":true,\"ticks\":\"\",\"zerolinecolor\":\"white\"},\"yaxis\":{\"backgroundcolor\":\"#E5ECF6\",\"gridcolor\":\"white\",\"gridwidth\":2,\"linecolor\":\"white\",\"showbackground\":true,\"ticks\":\"\",\"zerolinecolor\":\"white\"},\"zaxis\":{\"backgroundcolor\":\"#E5ECF6\",\"gridcolor\":\"white\",\"gridwidth\":2,\"linecolor\":\"white\",\"showbackground\":true,\"ticks\":\"\",\"zerolinecolor\":\"white\"}},\"shapedefaults\":{\"line\":{\"color\":\"#2a3f5f\"}},\"ternary\":{\"aaxis\":{\"gridcolor\":\"white\",\"linecolor\":\"white\",\"ticks\":\"\"},\"baxis\":{\"gridcolor\":\"white\",\"linecolor\":\"white\",\"ticks\":\"\"},\"bgcolor\":\"#E5ECF6\",\"caxis\":{\"gridcolor\":\"white\",\"linecolor\":\"white\",\"ticks\":\"\"}},\"title\":{\"x\":0.05},\"xaxis\":{\"automargin\":true,\"gridcolor\":\"white\",\"linecolor\":\"white\",\"ticks\":\"\",\"title\":{\"standoff\":15},\"zerolinecolor\":\"white\",\"zerolinewidth\":2},\"yaxis\":{\"automargin\":true,\"gridcolor\":\"white\",\"linecolor\":\"white\",\"ticks\":\"\",\"title\":{\"standoff\":15},\"zerolinecolor\":\"white\",\"zerolinewidth\":2}}}},                        {\"responsive\": true}                    ).then(function(){\n",
              "                            \n",
              "var gd = document.getElementById('fd1091a4-929c-4829-acbf-97b4fc37a32d');\n",
              "var x = new MutationObserver(function (mutations, observer) {{\n",
              "        var display = window.getComputedStyle(gd).display;\n",
              "        if (!display || display === 'none') {{\n",
              "            console.log([gd, 'removed!']);\n",
              "            Plotly.purge(gd);\n",
              "            observer.disconnect();\n",
              "        }}\n",
              "}});\n",
              "\n",
              "// Listen for the removal of the full notebook cells\n",
              "var notebookContainer = gd.closest('#notebook-container');\n",
              "if (notebookContainer) {{\n",
              "    x.observe(notebookContainer, {childList: true});\n",
              "}}\n",
              "\n",
              "// Listen for the clearing of the current output cell\n",
              "var outputEl = gd.closest('.output');\n",
              "if (outputEl) {{\n",
              "    x.observe(outputEl, {childList: true});\n",
              "}}\n",
              "\n",
              "                        })                };                            </script>        </div>\n",
              "</body>\n",
              "</html>"
            ]
          },
          "metadata": {}
        }
      ]
    },
    {
      "cell_type": "markdown",
      "source": [
        "## 1- Calculamos la descomposición de valores y vectores propios"
      ],
      "metadata": {
        "id": "0c1GmdkvdOJ1"
      }
    },
    {
      "cell_type": "code",
      "source": [
        "from IPython.display import display, Math, Latex"
      ],
      "metadata": {
        "id": "LyZqGmJKD6xw"
      },
      "execution_count": null,
      "outputs": []
    },
    {
      "cell_type": "code",
      "source": [
        "display(Math(r'\\sigma_{jk} = \\frac{1}{n-1}\\sum_{i=1}^m (x_{ij} - \\overline{x_j})(x_{ik} - \\overline{x_k})'))"
      ],
      "metadata": {
        "colab": {
          "base_uri": "https://localhost:8080/",
          "height": 67
        },
        "id": "Pjk8dbURvjuH",
        "outputId": "8fa0211d-101f-4ea4-e38d-3f100368305d"
      },
      "execution_count": null,
      "outputs": [
        {
          "output_type": "display_data",
          "data": {
            "text/plain": [
              "<IPython.core.display.Math object>"
            ],
            "text/latex": "$\\displaystyle \\sigma_{jk} = \\frac{1}{n-1}\\sum_{i=1}^m (x_{ij} - \\overline{x_j})(x_{ik} - \\overline{x_k})$"
          },
          "metadata": {}
        }
      ]
    },
    {
      "cell_type": "code",
      "source": [
        "# matriz de covarianza\n",
        "# cov_matrix\n",
        "display(Math(r'\\Sigma =\\frac{1}{n-1}((X-\\overline{x})^T(X-\\overline{x}))'))"
      ],
      "metadata": {
        "colab": {
          "base_uri": "https://localhost:8080/",
          "height": 52
        },
        "id": "uqNJezqDv-Xo",
        "outputId": "6b3ad390-964e-46dc-ca31-6cbecf3633e9"
      },
      "execution_count": null,
      "outputs": [
        {
          "output_type": "display_data",
          "data": {
            "text/plain": [
              "<IPython.core.display.Math object>"
            ],
            "text/latex": "$\\displaystyle \\Sigma =\\frac{1}{n-1}((X-\\overline{x})^T(X-\\overline{x}))$"
          },
          "metadata": {}
        }
      ]
    },
    {
      "cell_type": "code",
      "source": [
        "display(Math(r'\\overline{x} = \\sum_{i=1}^n x_i\\in \\mathbb R^m'))"
      ],
      "metadata": {
        "colab": {
          "base_uri": "https://localhost:8080/",
          "height": 67
        },
        "id": "kl26plCFwxZH",
        "outputId": "374ca44c-39d7-43b6-f4a1-eb611be2c330"
      },
      "execution_count": null,
      "outputs": [
        {
          "output_type": "display_data",
          "data": {
            "text/plain": [
              "<IPython.core.display.Math object>"
            ],
            "text/latex": "$\\displaystyle \\overline{x} = \\sum_{i=1}^n x_i\\in \\mathbb R^m$"
          },
          "metadata": {}
        }
      ]
    },
    {
      "cell_type": "code",
      "source": [
        "import numpy as np"
      ],
      "metadata": {
        "id": "Yngakpt4wZeq"
      },
      "execution_count": null,
      "outputs": []
    },
    {
      "cell_type": "code",
      "source": [
        "mean_vect = np.mean(X_std, axis=0) # promedio de las 4 variables\n",
        "mean_vect"
      ],
      "metadata": {
        "colab": {
          "base_uri": "https://localhost:8080/"
        },
        "id": "m-oIGCUlwmJ4",
        "outputId": "0097ce7c-c671-4b52-8cc0-bf280f0b0558"
      },
      "execution_count": null,
      "outputs": [
        {
          "output_type": "execute_result",
          "data": {
            "text/plain": [
              "array([-4.73695157e-16, -7.81597009e-16, -4.26325641e-16, -4.73695157e-16])"
            ]
          },
          "metadata": {},
          "execution_count": 57
        }
      ]
    },
    {
      "cell_type": "code",
      "source": [
        "cov_matrix = (X_std - mean_vect).T.dot((X_std - mean_vect)) /( X_std.shape[0]-1)\n",
        "print('La matrix de covarianzas es \\n%s'%cov_matrix)"
      ],
      "metadata": {
        "colab": {
          "base_uri": "https://localhost:8080/"
        },
        "id": "812YpQxrGYPk",
        "outputId": "b1449312-8dd7-487d-8e14-8152496fd39b"
      },
      "execution_count": null,
      "outputs": [
        {
          "output_type": "stream",
          "name": "stdout",
          "text": [
            "La matrix de covarianzas es \n",
            "[[ 1.00671141 -0.11835884  0.87760447  0.82343066]\n",
            " [-0.11835884  1.00671141 -0.43131554 -0.36858315]\n",
            " [ 0.87760447 -0.43131554  1.00671141  0.96932762]\n",
            " [ 0.82343066 -0.36858315  0.96932762  1.00671141]]\n"
          ]
        }
      ]
    },
    {
      "cell_type": "code",
      "source": [
        "np.cov(X_std.T)"
      ],
      "metadata": {
        "colab": {
          "base_uri": "https://localhost:8080/"
        },
        "id": "b5Hyc_TAHmp8",
        "outputId": "d0beda14-03aa-49cd-fc42-a3fc5d7efd03"
      },
      "execution_count": null,
      "outputs": [
        {
          "output_type": "execute_result",
          "data": {
            "text/plain": [
              "array([[ 1.00671141, -0.11835884,  0.87760447,  0.82343066],\n",
              "       [-0.11835884,  1.00671141, -0.43131554, -0.36858315],\n",
              "       [ 0.87760447, -0.43131554,  1.00671141,  0.96932762],\n",
              "       [ 0.82343066, -0.36858315,  0.96932762,  1.00671141]])"
            ]
          },
          "metadata": {},
          "execution_count": 59
        }
      ]
    },
    {
      "cell_type": "code",
      "source": [
        "eig_vals, eig_vectors = np.linalg.eig(cov_matrix)\n",
        "print('Valores propios\\n%s'%eig_vals)\n",
        "print('Vectores propios\\n%s'%eig_vectors)"
      ],
      "metadata": {
        "id": "nmmjRr5GIT8G",
        "colab": {
          "base_uri": "https://localhost:8080/"
        },
        "outputId": "8b0d55a0-ecc9-4960-ee32-55dd8d7e5a66"
      },
      "execution_count": null,
      "outputs": [
        {
          "output_type": "stream",
          "name": "stdout",
          "text": [
            "Valores propios\n",
            "[2.93808505 0.9201649  0.14774182 0.02085386]\n",
            "Vectores propios\n",
            "[[ 0.52106591 -0.37741762 -0.71956635  0.26128628]\n",
            " [-0.26934744 -0.92329566  0.24438178 -0.12350962]\n",
            " [ 0.5804131  -0.02449161  0.14212637 -0.80144925]\n",
            " [ 0.56485654 -0.06694199  0.63427274  0.52359713]]\n"
          ]
        }
      ]
    },
    {
      "cell_type": "markdown",
      "source": [
        "b) Usando la matriz de correlaciones"
      ],
      "metadata": {
        "id": "UE6apH_Jwrai"
      }
    },
    {
      "cell_type": "code",
      "source": [
        "corr_matrix = np.corrcoef(X_std.T)\n",
        "corr_matrix"
      ],
      "metadata": {
        "colab": {
          "base_uri": "https://localhost:8080/"
        },
        "id": "6gnjhKeKcJG-",
        "outputId": "cf186b18-c9e9-4de2-9cbf-58b5d8d33f9d"
      },
      "execution_count": null,
      "outputs": [
        {
          "output_type": "execute_result",
          "data": {
            "text/plain": [
              "array([[ 1.        , -0.11756978,  0.87175378,  0.81794113],\n",
              "       [-0.11756978,  1.        , -0.4284401 , -0.36612593],\n",
              "       [ 0.87175378, -0.4284401 ,  1.        ,  0.96286543],\n",
              "       [ 0.81794113, -0.36612593,  0.96286543,  1.        ]])"
            ]
          },
          "metadata": {},
          "execution_count": 61
        }
      ]
    },
    {
      "cell_type": "code",
      "source": [
        "eig_vals_corr, eig_vectors_corr = np.linalg.eig(corr_matrix)\n",
        "print('Valores propios\\n%s'%eig_vals_corr)\n",
        "print('Vectores propios\\n%s'%eig_vectors_corr)"
      ],
      "metadata": {
        "colab": {
          "base_uri": "https://localhost:8080/"
        },
        "id": "Pjbqw1k3w05n",
        "outputId": "9aad67c8-970f-481c-d0d0-a2a539d60e54"
      },
      "execution_count": null,
      "outputs": [
        {
          "output_type": "stream",
          "name": "stdout",
          "text": [
            "Valores propios\n",
            "[2.91849782 0.91403047 0.14675688 0.02071484]\n",
            "Vectores propios\n",
            "[[ 0.52106591 -0.37741762 -0.71956635  0.26128628]\n",
            " [-0.26934744 -0.92329566  0.24438178 -0.12350962]\n",
            " [ 0.5804131  -0.02449161  0.14212637 -0.80144925]\n",
            " [ 0.56485654 -0.06694199  0.63427274  0.52359713]]\n"
          ]
        }
      ]
    },
    {
      "cell_type": "code",
      "source": [
        "# esto seria sin estandarizar\n",
        "corr_matrix = np.corrcoef(X.T)\n",
        "corr_matrix"
      ],
      "metadata": {
        "colab": {
          "base_uri": "https://localhost:8080/"
        },
        "id": "o2UTHFivxC9O",
        "outputId": "f674aa4a-4184-48f2-c389-3dd738cdbcec"
      },
      "execution_count": null,
      "outputs": [
        {
          "output_type": "execute_result",
          "data": {
            "text/plain": [
              "array([[ 1.        , -0.11756978,  0.87175378,  0.81794113],\n",
              "       [-0.11756978,  1.        , -0.4284401 , -0.36612593],\n",
              "       [ 0.87175378, -0.4284401 ,  1.        ,  0.96286543],\n",
              "       [ 0.81794113, -0.36612593,  0.96286543,  1.        ]])"
            ]
          },
          "metadata": {},
          "execution_count": 63
        }
      ]
    },
    {
      "cell_type": "markdown",
      "source": [
        "la descompocion de la matriz de covarianza estandarizada es igual a la matriz de coorelacion con o sin estandarizacion\n"
      ],
      "metadata": {
        "id": "LAWMGrINyJVO"
      }
    },
    {
      "cell_type": "markdown",
      "source": [
        "c) singular value decomposition"
      ],
      "metadata": {
        "id": "BORhOjpByjni"
      }
    },
    {
      "cell_type": "code",
      "source": [
        "u, s, v = np.linalg.svd(X_std.T)\n",
        "u"
      ],
      "metadata": {
        "colab": {
          "base_uri": "https://localhost:8080/"
        },
        "id": "UC_zPLWPx96R",
        "outputId": "bdbbaf94-4855-493a-e6d5-b8bc26fb02d1"
      },
      "execution_count": null,
      "outputs": [
        {
          "output_type": "execute_result",
          "data": {
            "text/plain": [
              "array([[-0.52106591, -0.37741762,  0.71956635,  0.26128628],\n",
              "       [ 0.26934744, -0.92329566, -0.24438178, -0.12350962],\n",
              "       [-0.5804131 , -0.02449161, -0.14212637, -0.80144925],\n",
              "       [-0.56485654, -0.06694199, -0.63427274,  0.52359713]])"
            ]
          },
          "metadata": {},
          "execution_count": 64
        }
      ]
    },
    {
      "cell_type": "markdown",
      "source": [
        "2.- Las componetes principales"
      ],
      "metadata": {
        "id": "IhyjTPal0Rc-"
      }
    },
    {
      "cell_type": "code",
      "source": [
        "for ev in eig_vectors:\n",
        "  print('La longitud del vector propio(VP) es: %s'%np.linalg.norm(ev))"
      ],
      "metadata": {
        "colab": {
          "base_uri": "https://localhost:8080/"
        },
        "id": "eo1DG2W5y1FC",
        "outputId": "16156193-9c5c-401a-8216-bc27e680ed1c"
      },
      "execution_count": null,
      "outputs": [
        {
          "output_type": "stream",
          "name": "stdout",
          "text": [
            "La longitud del vector propio(VP) es: 0.9999999999999999\n",
            "La longitud del vector propio(VP) es: 1.0000000000000002\n",
            "La longitud del vector propio(VP) es: 0.9999999999999999\n",
            "La longitud del vector propio(VP) es: 1.0\n"
          ]
        }
      ]
    },
    {
      "cell_type": "code",
      "source": [
        "eigen_pairs = [(np.abs(eig_vals[i]), eig_vectors[:, i]) for i in range(len(eig_vals))]\n",
        "eigen_pairs"
      ],
      "metadata": {
        "colab": {
          "base_uri": "https://localhost:8080/"
        },
        "id": "H2YZCpKo0uBA",
        "outputId": "5b5394a2-2249-443f-800f-cab02a37f672"
      },
      "execution_count": null,
      "outputs": [
        {
          "output_type": "execute_result",
          "data": {
            "text/plain": [
              "[(2.9380850501999953,\n",
              "  array([ 0.52106591, -0.26934744,  0.5804131 ,  0.56485654])),\n",
              " (0.9201649041624852,\n",
              "  array([-0.37741762, -0.92329566, -0.02449161, -0.06694199])),\n",
              " (0.14774182104494768,\n",
              "  array([-0.71956635,  0.24438178,  0.14212637,  0.63427274])),\n",
              " (0.020853862176463143,\n",
              "  array([ 0.26128628, -0.12350962, -0.80144925,  0.52359713]))]"
            ]
          },
          "metadata": {},
          "execution_count": 66
        }
      ]
    },
    {
      "cell_type": "markdown",
      "source": [
        "ordenamos los vectores propios con valor propio de mayor a menor"
      ],
      "metadata": {
        "id": "jRLhn0N-17yv"
      }
    },
    {
      "cell_type": "code",
      "source": [
        "eigen_pairs.sort() # los ordena de mayor a menor\n",
        "eigen_pairs.reverse() # lo regresa a su orden\n",
        "eigen_pairs"
      ],
      "metadata": {
        "colab": {
          "base_uri": "https://localhost:8080/"
        },
        "id": "p4FYwKo81ohS",
        "outputId": "836e18a5-0964-4a13-f823-07193f567d7c"
      },
      "execution_count": null,
      "outputs": [
        {
          "output_type": "execute_result",
          "data": {
            "text/plain": [
              "[(2.9380850501999953,\n",
              "  array([ 0.52106591, -0.26934744,  0.5804131 ,  0.56485654])),\n",
              " (0.9201649041624852,\n",
              "  array([-0.37741762, -0.92329566, -0.02449161, -0.06694199])),\n",
              " (0.14774182104494768,\n",
              "  array([-0.71956635,  0.24438178,  0.14212637,  0.63427274])),\n",
              " (0.020853862176463143,\n",
              "  array([ 0.26128628, -0.12350962, -0.80144925,  0.52359713]))]"
            ]
          },
          "metadata": {},
          "execution_count": 67
        }
      ]
    },
    {
      "cell_type": "code",
      "source": [
        "print('Valores propios en orden descendente')\n",
        "for ep in eigen_pairs:\n",
        "  print(ep[0])"
      ],
      "metadata": {
        "colab": {
          "base_uri": "https://localhost:8080/"
        },
        "id": "381_ODvB1zJ_",
        "outputId": "ee40a30d-b62d-4f25-b07c-2edb70474b57"
      },
      "execution_count": null,
      "outputs": [
        {
          "output_type": "stream",
          "name": "stdout",
          "text": [
            "Valores propios en orden descendente\n",
            "2.9380850501999953\n",
            "0.9201649041624852\n",
            "0.14774182104494768\n",
            "0.020853862176463143\n"
          ]
        }
      ]
    },
    {
      "cell_type": "code",
      "source": [
        "total_sum = sum(eig_vals)\n",
        "var_exp = [(i/total_sum) * 100 for i in sorted(eig_vals, reverse=True)]\n",
        "cum_var_exp = np.cumsum(var_exp)"
      ],
      "metadata": {
        "id": "QQmg6KY62hN-"
      },
      "execution_count": null,
      "outputs": []
    },
    {
      "cell_type": "code",
      "source": [
        "plot1 = go.Bar(x=['CP %s'%i for i in range(1, 5)], y=var_exp, showlegend=False)\n",
        "plot2 = go.Scatter(x=['CP %s'%i for i in range(1,5)], y=cum_var_exp, showlegend=True, name='% Varianza Explicada acumulada')\n",
        "\n",
        "data = []\n",
        "data.append(plot1); data.append(plot2)\n",
        "\n",
        "layout = go.Layout(xaxis = go.layout.XAxis(title='Componentes principales'),\n",
        "                yaxis = go.layout.YAxis(title='Porcentaje de varianza explicada'),\n",
        "                title='Porcentaje de variabilidad explicada por cada componente principal')\n",
        "\n",
        "fig = go.Figure(data=data, layout=layout)\n",
        "fig.show()"
      ],
      "metadata": {
        "colab": {
          "base_uri": "https://localhost:8080/",
          "height": 542
        },
        "id": "ugbJcaX-20JB",
        "outputId": "33a0f02a-0c46-426f-baf2-a2257768c01e"
      },
      "execution_count": null,
      "outputs": [
        {
          "output_type": "display_data",
          "data": {
            "text/html": [
              "<html>\n",
              "<head><meta charset=\"utf-8\" /></head>\n",
              "<body>\n",
              "    <div>            <script src=\"https://cdnjs.cloudflare.com/ajax/libs/mathjax/2.7.5/MathJax.js?config=TeX-AMS-MML_SVG\"></script><script type=\"text/javascript\">if (window.MathJax) {MathJax.Hub.Config({SVG: {font: \"STIX-Web\"}});}</script>                <script type=\"text/javascript\">window.PlotlyConfig = {MathJaxConfig: 'local'};</script>\n",
              "        <script src=\"https://cdn.plot.ly/plotly-2.8.3.min.js\"></script>                <div id=\"4503bc61-e633-4852-bdcc-a0472ea0e125\" class=\"plotly-graph-div\" style=\"height:525px; width:100%;\"></div>            <script type=\"text/javascript\">                                    window.PLOTLYENV=window.PLOTLYENV || {};                                    if (document.getElementById(\"4503bc61-e633-4852-bdcc-a0472ea0e125\")) {                    Plotly.newPlot(                        \"4503bc61-e633-4852-bdcc-a0472ea0e125\",                        [{\"showlegend\":false,\"x\":[\"CP 1\",\"CP 2\",\"CP 3\",\"CP 4\"],\"y\":[72.9624454132999,22.850761786701725,3.6689218892828688,0.5178709107155016],\"type\":\"bar\"},{\"name\":\"% Varianza Explicada acumulada\",\"showlegend\":true,\"x\":[\"CP 1\",\"CP 2\",\"CP 3\",\"CP 4\"],\"y\":[72.9624454132999,95.81320720000163,99.4821290892845,100.0],\"type\":\"scatter\"}],                        {\"title\":{\"text\":\"Porcentaje de variabilidad explicada por cada componente principal\"},\"xaxis\":{\"title\":{\"text\":\"Componentes principales\"}},\"yaxis\":{\"title\":{\"text\":\"Porcentaje de varianza explicada\"}},\"template\":{\"data\":{\"bar\":[{\"error_x\":{\"color\":\"#2a3f5f\"},\"error_y\":{\"color\":\"#2a3f5f\"},\"marker\":{\"line\":{\"color\":\"#E5ECF6\",\"width\":0.5},\"pattern\":{\"fillmode\":\"overlay\",\"size\":10,\"solidity\":0.2}},\"type\":\"bar\"}],\"barpolar\":[{\"marker\":{\"line\":{\"color\":\"#E5ECF6\",\"width\":0.5},\"pattern\":{\"fillmode\":\"overlay\",\"size\":10,\"solidity\":0.2}},\"type\":\"barpolar\"}],\"carpet\":[{\"aaxis\":{\"endlinecolor\":\"#2a3f5f\",\"gridcolor\":\"white\",\"linecolor\":\"white\",\"minorgridcolor\":\"white\",\"startlinecolor\":\"#2a3f5f\"},\"baxis\":{\"endlinecolor\":\"#2a3f5f\",\"gridcolor\":\"white\",\"linecolor\":\"white\",\"minorgridcolor\":\"white\",\"startlinecolor\":\"#2a3f5f\"},\"type\":\"carpet\"}],\"choropleth\":[{\"colorbar\":{\"outlinewidth\":0,\"ticks\":\"\"},\"type\":\"choropleth\"}],\"contour\":[{\"colorbar\":{\"outlinewidth\":0,\"ticks\":\"\"},\"colorscale\":[[0.0,\"#0d0887\"],[0.1111111111111111,\"#46039f\"],[0.2222222222222222,\"#7201a8\"],[0.3333333333333333,\"#9c179e\"],[0.4444444444444444,\"#bd3786\"],[0.5555555555555556,\"#d8576b\"],[0.6666666666666666,\"#ed7953\"],[0.7777777777777778,\"#fb9f3a\"],[0.8888888888888888,\"#fdca26\"],[1.0,\"#f0f921\"]],\"type\":\"contour\"}],\"contourcarpet\":[{\"colorbar\":{\"outlinewidth\":0,\"ticks\":\"\"},\"type\":\"contourcarpet\"}],\"heatmap\":[{\"colorbar\":{\"outlinewidth\":0,\"ticks\":\"\"},\"colorscale\":[[0.0,\"#0d0887\"],[0.1111111111111111,\"#46039f\"],[0.2222222222222222,\"#7201a8\"],[0.3333333333333333,\"#9c179e\"],[0.4444444444444444,\"#bd3786\"],[0.5555555555555556,\"#d8576b\"],[0.6666666666666666,\"#ed7953\"],[0.7777777777777778,\"#fb9f3a\"],[0.8888888888888888,\"#fdca26\"],[1.0,\"#f0f921\"]],\"type\":\"heatmap\"}],\"heatmapgl\":[{\"colorbar\":{\"outlinewidth\":0,\"ticks\":\"\"},\"colorscale\":[[0.0,\"#0d0887\"],[0.1111111111111111,\"#46039f\"],[0.2222222222222222,\"#7201a8\"],[0.3333333333333333,\"#9c179e\"],[0.4444444444444444,\"#bd3786\"],[0.5555555555555556,\"#d8576b\"],[0.6666666666666666,\"#ed7953\"],[0.7777777777777778,\"#fb9f3a\"],[0.8888888888888888,\"#fdca26\"],[1.0,\"#f0f921\"]],\"type\":\"heatmapgl\"}],\"histogram\":[{\"marker\":{\"pattern\":{\"fillmode\":\"overlay\",\"size\":10,\"solidity\":0.2}},\"type\":\"histogram\"}],\"histogram2d\":[{\"colorbar\":{\"outlinewidth\":0,\"ticks\":\"\"},\"colorscale\":[[0.0,\"#0d0887\"],[0.1111111111111111,\"#46039f\"],[0.2222222222222222,\"#7201a8\"],[0.3333333333333333,\"#9c179e\"],[0.4444444444444444,\"#bd3786\"],[0.5555555555555556,\"#d8576b\"],[0.6666666666666666,\"#ed7953\"],[0.7777777777777778,\"#fb9f3a\"],[0.8888888888888888,\"#fdca26\"],[1.0,\"#f0f921\"]],\"type\":\"histogram2d\"}],\"histogram2dcontour\":[{\"colorbar\":{\"outlinewidth\":0,\"ticks\":\"\"},\"colorscale\":[[0.0,\"#0d0887\"],[0.1111111111111111,\"#46039f\"],[0.2222222222222222,\"#7201a8\"],[0.3333333333333333,\"#9c179e\"],[0.4444444444444444,\"#bd3786\"],[0.5555555555555556,\"#d8576b\"],[0.6666666666666666,\"#ed7953\"],[0.7777777777777778,\"#fb9f3a\"],[0.8888888888888888,\"#fdca26\"],[1.0,\"#f0f921\"]],\"type\":\"histogram2dcontour\"}],\"mesh3d\":[{\"colorbar\":{\"outlinewidth\":0,\"ticks\":\"\"},\"type\":\"mesh3d\"}],\"parcoords\":[{\"line\":{\"colorbar\":{\"outlinewidth\":0,\"ticks\":\"\"}},\"type\":\"parcoords\"}],\"pie\":[{\"automargin\":true,\"type\":\"pie\"}],\"scatter\":[{\"marker\":{\"colorbar\":{\"outlinewidth\":0,\"ticks\":\"\"}},\"type\":\"scatter\"}],\"scatter3d\":[{\"line\":{\"colorbar\":{\"outlinewidth\":0,\"ticks\":\"\"}},\"marker\":{\"colorbar\":{\"outlinewidth\":0,\"ticks\":\"\"}},\"type\":\"scatter3d\"}],\"scattercarpet\":[{\"marker\":{\"colorbar\":{\"outlinewidth\":0,\"ticks\":\"\"}},\"type\":\"scattercarpet\"}],\"scattergeo\":[{\"marker\":{\"colorbar\":{\"outlinewidth\":0,\"ticks\":\"\"}},\"type\":\"scattergeo\"}],\"scattergl\":[{\"marker\":{\"colorbar\":{\"outlinewidth\":0,\"ticks\":\"\"}},\"type\":\"scattergl\"}],\"scattermapbox\":[{\"marker\":{\"colorbar\":{\"outlinewidth\":0,\"ticks\":\"\"}},\"type\":\"scattermapbox\"}],\"scatterpolar\":[{\"marker\":{\"colorbar\":{\"outlinewidth\":0,\"ticks\":\"\"}},\"type\":\"scatterpolar\"}],\"scatterpolargl\":[{\"marker\":{\"colorbar\":{\"outlinewidth\":0,\"ticks\":\"\"}},\"type\":\"scatterpolargl\"}],\"scatterternary\":[{\"marker\":{\"colorbar\":{\"outlinewidth\":0,\"ticks\":\"\"}},\"type\":\"scatterternary\"}],\"surface\":[{\"colorbar\":{\"outlinewidth\":0,\"ticks\":\"\"},\"colorscale\":[[0.0,\"#0d0887\"],[0.1111111111111111,\"#46039f\"],[0.2222222222222222,\"#7201a8\"],[0.3333333333333333,\"#9c179e\"],[0.4444444444444444,\"#bd3786\"],[0.5555555555555556,\"#d8576b\"],[0.6666666666666666,\"#ed7953\"],[0.7777777777777778,\"#fb9f3a\"],[0.8888888888888888,\"#fdca26\"],[1.0,\"#f0f921\"]],\"type\":\"surface\"}],\"table\":[{\"cells\":{\"fill\":{\"color\":\"#EBF0F8\"},\"line\":{\"color\":\"white\"}},\"header\":{\"fill\":{\"color\":\"#C8D4E3\"},\"line\":{\"color\":\"white\"}},\"type\":\"table\"}]},\"layout\":{\"annotationdefaults\":{\"arrowcolor\":\"#2a3f5f\",\"arrowhead\":0,\"arrowwidth\":1},\"autotypenumbers\":\"strict\",\"coloraxis\":{\"colorbar\":{\"outlinewidth\":0,\"ticks\":\"\"}},\"colorscale\":{\"diverging\":[[0,\"#8e0152\"],[0.1,\"#c51b7d\"],[0.2,\"#de77ae\"],[0.3,\"#f1b6da\"],[0.4,\"#fde0ef\"],[0.5,\"#f7f7f7\"],[0.6,\"#e6f5d0\"],[0.7,\"#b8e186\"],[0.8,\"#7fbc41\"],[0.9,\"#4d9221\"],[1,\"#276419\"]],\"sequential\":[[0.0,\"#0d0887\"],[0.1111111111111111,\"#46039f\"],[0.2222222222222222,\"#7201a8\"],[0.3333333333333333,\"#9c179e\"],[0.4444444444444444,\"#bd3786\"],[0.5555555555555556,\"#d8576b\"],[0.6666666666666666,\"#ed7953\"],[0.7777777777777778,\"#fb9f3a\"],[0.8888888888888888,\"#fdca26\"],[1.0,\"#f0f921\"]],\"sequentialminus\":[[0.0,\"#0d0887\"],[0.1111111111111111,\"#46039f\"],[0.2222222222222222,\"#7201a8\"],[0.3333333333333333,\"#9c179e\"],[0.4444444444444444,\"#bd3786\"],[0.5555555555555556,\"#d8576b\"],[0.6666666666666666,\"#ed7953\"],[0.7777777777777778,\"#fb9f3a\"],[0.8888888888888888,\"#fdca26\"],[1.0,\"#f0f921\"]]},\"colorway\":[\"#636efa\",\"#EF553B\",\"#00cc96\",\"#ab63fa\",\"#FFA15A\",\"#19d3f3\",\"#FF6692\",\"#B6E880\",\"#FF97FF\",\"#FECB52\"],\"font\":{\"color\":\"#2a3f5f\"},\"geo\":{\"bgcolor\":\"white\",\"lakecolor\":\"white\",\"landcolor\":\"#E5ECF6\",\"showlakes\":true,\"showland\":true,\"subunitcolor\":\"white\"},\"hoverlabel\":{\"align\":\"left\"},\"hovermode\":\"closest\",\"mapbox\":{\"style\":\"light\"},\"paper_bgcolor\":\"white\",\"plot_bgcolor\":\"#E5ECF6\",\"polar\":{\"angularaxis\":{\"gridcolor\":\"white\",\"linecolor\":\"white\",\"ticks\":\"\"},\"bgcolor\":\"#E5ECF6\",\"radialaxis\":{\"gridcolor\":\"white\",\"linecolor\":\"white\",\"ticks\":\"\"}},\"scene\":{\"xaxis\":{\"backgroundcolor\":\"#E5ECF6\",\"gridcolor\":\"white\",\"gridwidth\":2,\"linecolor\":\"white\",\"showbackground\":true,\"ticks\":\"\",\"zerolinecolor\":\"white\"},\"yaxis\":{\"backgroundcolor\":\"#E5ECF6\",\"gridcolor\":\"white\",\"gridwidth\":2,\"linecolor\":\"white\",\"showbackground\":true,\"ticks\":\"\",\"zerolinecolor\":\"white\"},\"zaxis\":{\"backgroundcolor\":\"#E5ECF6\",\"gridcolor\":\"white\",\"gridwidth\":2,\"linecolor\":\"white\",\"showbackground\":true,\"ticks\":\"\",\"zerolinecolor\":\"white\"}},\"shapedefaults\":{\"line\":{\"color\":\"#2a3f5f\"}},\"ternary\":{\"aaxis\":{\"gridcolor\":\"white\",\"linecolor\":\"white\",\"ticks\":\"\"},\"baxis\":{\"gridcolor\":\"white\",\"linecolor\":\"white\",\"ticks\":\"\"},\"bgcolor\":\"#E5ECF6\",\"caxis\":{\"gridcolor\":\"white\",\"linecolor\":\"white\",\"ticks\":\"\"}},\"title\":{\"x\":0.05},\"xaxis\":{\"automargin\":true,\"gridcolor\":\"white\",\"linecolor\":\"white\",\"ticks\":\"\",\"title\":{\"standoff\":15},\"zerolinecolor\":\"white\",\"zerolinewidth\":2},\"yaxis\":{\"automargin\":true,\"gridcolor\":\"white\",\"linecolor\":\"white\",\"ticks\":\"\",\"title\":{\"standoff\":15},\"zerolinecolor\":\"white\",\"zerolinewidth\":2}}}},                        {\"responsive\": true}                    ).then(function(){\n",
              "                            \n",
              "var gd = document.getElementById('4503bc61-e633-4852-bdcc-a0472ea0e125');\n",
              "var x = new MutationObserver(function (mutations, observer) {{\n",
              "        var display = window.getComputedStyle(gd).display;\n",
              "        if (!display || display === 'none') {{\n",
              "            console.log([gd, 'removed!']);\n",
              "            Plotly.purge(gd);\n",
              "            observer.disconnect();\n",
              "        }}\n",
              "}});\n",
              "\n",
              "// Listen for the removal of the full notebook cells\n",
              "var notebookContainer = gd.closest('#notebook-container');\n",
              "if (notebookContainer) {{\n",
              "    x.observe(notebookContainer, {childList: true});\n",
              "}}\n",
              "\n",
              "// Listen for the clearing of the current output cell\n",
              "var outputEl = gd.closest('.output');\n",
              "if (outputEl) {{\n",
              "    x.observe(outputEl, {childList: true});\n",
              "}}\n",
              "\n",
              "                        })                };                            </script>        </div>\n",
              "</body>\n",
              "</html>"
            ]
          },
          "metadata": {}
        }
      ]
    },
    {
      "cell_type": "code",
      "source": [
        "W = np.hstack((eigen_pairs[0][1].reshape(4,1),\n",
        "               eigen_pairs[1][1].reshape(4,1)))\n",
        "W # Matriz 4 x 2"
      ],
      "metadata": {
        "colab": {
          "base_uri": "https://localhost:8080/"
        },
        "id": "a8UozgM46oN6",
        "outputId": "8b81c4e7-04ed-4825-b86e-16de359194aa"
      },
      "execution_count": null,
      "outputs": [
        {
          "output_type": "execute_result",
          "data": {
            "text/plain": [
              "array([[ 0.52106591, -0.37741762],\n",
              "       [-0.26934744, -0.92329566],\n",
              "       [ 0.5804131 , -0.02449161],\n",
              "       [ 0.56485654, -0.06694199]])"
            ]
          },
          "metadata": {},
          "execution_count": 71
        }
      ]
    },
    {
      "cell_type": "code",
      "source": [
        "X[0]"
      ],
      "metadata": {
        "colab": {
          "base_uri": "https://localhost:8080/"
        },
        "id": "jWRhymO58WZp",
        "outputId": "a9b34f54-8f7a-4f4c-b6d2-43ce63054254"
      },
      "execution_count": null,
      "outputs": [
        {
          "output_type": "execute_result",
          "data": {
            "text/plain": [
              "array([5.1, 3.5, 1.4, 0.2])"
            ]
          },
          "metadata": {},
          "execution_count": 72
        }
      ]
    },
    {
      "cell_type": "markdown",
      "source": [
        "3- Proyectando las variables en el nuevo subespacio vectorial"
      ],
      "metadata": {
        "id": "LxzRit0uL_FN"
      }
    },
    {
      "cell_type": "code",
      "source": [
        " display(Math(r'Y = X \\cdot W, X \\in M(\\mathbb R)_{150, 4}, W \\in M(\\mathbb R)_{4,2}, Y \\in (\\mathbb R)_{150,2}'))"
      ],
      "metadata": {
        "colab": {
          "base_uri": "https://localhost:8080/",
          "height": 38
        },
        "id": "zN2TPnuR8hgb",
        "outputId": "31d73568-8ca3-426a-897a-f50701ffe8d7"
      },
      "execution_count": null,
      "outputs": [
        {
          "output_type": "display_data",
          "data": {
            "text/plain": [
              "<IPython.core.display.Math object>"
            ],
            "text/latex": "$\\displaystyle Y = X \\cdot W, X \\in M(\\mathbb R)_{150, 4}, W \\in M(\\mathbb R)_{4,2}, Y \\in (\\mathbb R)_{150,2}$"
          },
          "metadata": {}
        }
      ]
    },
    {
      "cell_type": "code",
      "source": [
        "Y = X_std.dot(W)\n",
        "Y"
      ],
      "metadata": {
        "colab": {
          "base_uri": "https://localhost:8080/"
        },
        "id": "My1NPYLONhXF",
        "outputId": "f36c2715-5fe1-4bbf-9587-c2d8511f0844"
      },
      "execution_count": null,
      "outputs": [
        {
          "output_type": "execute_result",
          "data": {
            "text/plain": [
              "array([[-2.26470281, -0.4800266 ],\n",
              "       [-2.08096115,  0.67413356],\n",
              "       [-2.36422905,  0.34190802],\n",
              "       [-2.29938422,  0.59739451],\n",
              "       [-2.38984217, -0.64683538],\n",
              "       [-2.07563095, -1.48917752],\n",
              "       [-2.44402884, -0.0476442 ],\n",
              "       [-2.23284716, -0.22314807],\n",
              "       [-2.33464048,  1.11532768],\n",
              "       [-2.18432817,  0.46901356],\n",
              "       [-2.1663101 , -1.04369065],\n",
              "       [-2.32613087, -0.13307834],\n",
              "       [-2.2184509 ,  0.72867617],\n",
              "       [-2.6331007 ,  0.96150673],\n",
              "       [-2.1987406 , -1.86005711],\n",
              "       [-2.26221453, -2.68628449],\n",
              "       [-2.2075877 , -1.48360936],\n",
              "       [-2.19034951, -0.48883832],\n",
              "       [-1.898572  , -1.40501879],\n",
              "       [-2.34336905, -1.12784938],\n",
              "       [-1.914323  , -0.40885571],\n",
              "       [-2.20701284, -0.92412143],\n",
              "       [-2.7743447 , -0.45834367],\n",
              "       [-1.81866953, -0.08555853],\n",
              "       [-2.22716331, -0.13725446],\n",
              "       [-1.95184633,  0.62561859],\n",
              "       [-2.05115137, -0.24216355],\n",
              "       [-2.16857717, -0.52714953],\n",
              "       [-2.13956345, -0.31321781],\n",
              "       [-2.26526149,  0.3377319 ],\n",
              "       [-2.14012214,  0.50454069],\n",
              "       [-1.83159477, -0.42369507],\n",
              "       [-2.61494794, -1.79357586],\n",
              "       [-2.44617739, -2.15072788],\n",
              "       [-2.10997488,  0.46020184],\n",
              "       [-2.2078089 ,  0.2061074 ],\n",
              "       [-2.04514621, -0.66155811],\n",
              "       [-2.52733191, -0.59229277],\n",
              "       [-2.42963258,  0.90418004],\n",
              "       [-2.16971071, -0.26887896],\n",
              "       [-2.28647514, -0.44171539],\n",
              "       [-1.85812246,  2.33741516],\n",
              "       [-2.5536384 ,  0.47910069],\n",
              "       [-1.96444768, -0.47232667],\n",
              "       [-2.13705901, -1.14222926],\n",
              "       [-2.0697443 ,  0.71105273],\n",
              "       [-2.38473317, -1.1204297 ],\n",
              "       [-2.39437631,  0.38624687],\n",
              "       [-2.22944655, -0.99795976],\n",
              "       [-2.20383344, -0.00921636],\n",
              "       [ 1.10178118, -0.86297242],\n",
              "       [ 0.73133743, -0.59461473],\n",
              "       [ 1.24097932, -0.61629765],\n",
              "       [ 0.40748306,  1.75440399],\n",
              "       [ 1.0754747 ,  0.20842105],\n",
              "       [ 0.38868734,  0.59328364],\n",
              "       [ 0.74652974, -0.77301931],\n",
              "       [-0.48732274,  1.85242909],\n",
              "       [ 0.92790164, -0.03222608],\n",
              "       [ 0.01142619,  1.03401828],\n",
              "       [-0.11019628,  2.65407282],\n",
              "       [ 0.44069345,  0.06329519],\n",
              "       [ 0.56210831,  1.76472438],\n",
              "       [ 0.71956189,  0.18622461],\n",
              "       [-0.0333547 ,  0.43900321],\n",
              "       [ 0.87540719, -0.50906396],\n",
              "       [ 0.35025167,  0.19631173],\n",
              "       [ 0.15881005,  0.79209574],\n",
              "       [ 1.22509363,  1.6222438 ],\n",
              "       [ 0.1649179 ,  1.30260923],\n",
              "       [ 0.73768265, -0.39657156],\n",
              "       [ 0.47628719,  0.41732028],\n",
              "       [ 1.2341781 ,  0.93332573],\n",
              "       [ 0.6328582 ,  0.41638772],\n",
              "       [ 0.70266118,  0.06341182],\n",
              "       [ 0.87427365, -0.25079339],\n",
              "       [ 1.25650912,  0.07725602],\n",
              "       [ 1.35840512, -0.33131168],\n",
              "       [ 0.66480037,  0.22592785],\n",
              "       [-0.04025861,  1.05871855],\n",
              "       [ 0.13079518,  1.56227183],\n",
              "       [ 0.02345269,  1.57247559],\n",
              "       [ 0.24153827,  0.77725638],\n",
              "       [ 1.06109461,  0.63384324],\n",
              "       [ 0.22397877,  0.28777351],\n",
              "       [ 0.42913912, -0.84558224],\n",
              "       [ 1.04872805, -0.5220518 ],\n",
              "       [ 1.04453138,  1.38298872],\n",
              "       [ 0.06958832,  0.21950333],\n",
              "       [ 0.28347724,  1.32932464],\n",
              "       [ 0.27907778,  1.12002852],\n",
              "       [ 0.62456979, -0.02492303],\n",
              "       [ 0.33653037,  0.98840402],\n",
              "       [-0.36218338,  2.01923787],\n",
              "       [ 0.28858624,  0.85573032],\n",
              "       [ 0.09136066,  0.18119213],\n",
              "       [ 0.22771687,  0.38492008],\n",
              "       [ 0.57638829,  0.1548736 ],\n",
              "       [-0.44766702,  1.54379203],\n",
              "       [ 0.25673059,  0.5988518 ],\n",
              "       [ 1.84456887, -0.87042131],\n",
              "       [ 1.15788161,  0.69886986],\n",
              "       [ 2.20526679, -0.56201048],\n",
              "       [ 1.44015066,  0.04698759],\n",
              "       [ 1.86781222, -0.29504482],\n",
              "       [ 2.75187334, -0.8004092 ],\n",
              "       [ 0.36701769,  1.56150289],\n",
              "       [ 2.30243944, -0.42006558],\n",
              "       [ 2.00668647,  0.71143865],\n",
              "       [ 2.25977735, -1.92101038],\n",
              "       [ 1.36417549, -0.69275645],\n",
              "       [ 1.60267867,  0.42170045],\n",
              "       [ 1.8839007 , -0.41924965],\n",
              "       [ 1.2601151 ,  1.16226042],\n",
              "       [ 1.4676452 ,  0.44227159],\n",
              "       [ 1.59007732, -0.67624481],\n",
              "       [ 1.47143146, -0.25562182],\n",
              "       [ 2.42632899, -2.55666125],\n",
              "       [ 3.31069558, -0.01778095],\n",
              "       [ 1.26376667,  1.70674538],\n",
              "       [ 2.0377163 , -0.91046741],\n",
              "       [ 0.97798073,  0.57176432],\n",
              "       [ 2.89765149, -0.41364106],\n",
              "       [ 1.33323218,  0.48181122],\n",
              "       [ 1.7007339 , -1.01392187],\n",
              "       [ 1.95432671, -1.0077776 ],\n",
              "       [ 1.17510363,  0.31639447],\n",
              "       [ 1.02095055, -0.06434603],\n",
              "       [ 1.78834992,  0.18736121],\n",
              "       [ 1.86364755, -0.56229073],\n",
              "       [ 2.43595373, -0.25928443],\n",
              "       [ 2.30492772, -2.62632347],\n",
              "       [ 1.86270322,  0.17854949],\n",
              "       [ 1.11414774,  0.29292262],\n",
              "       [ 1.2024733 ,  0.81131527],\n",
              "       [ 2.79877045, -0.85680333],\n",
              "       [ 1.57625591, -1.06858111],\n",
              "       [ 1.3462921 , -0.42243061],\n",
              "       [ 0.92482492, -0.0172231 ],\n",
              "       [ 1.85204505, -0.67612817],\n",
              "       [ 2.01481043, -0.61388564],\n",
              "       [ 1.90178409, -0.68957549],\n",
              "       [ 1.15788161,  0.69886986],\n",
              "       [ 2.04055823, -0.8675206 ],\n",
              "       [ 1.9981471 , -1.04916875],\n",
              "       [ 1.87050329, -0.38696608],\n",
              "       [ 1.56458048,  0.89668681],\n",
              "       [ 1.5211705 , -0.26906914],\n",
              "       [ 1.37278779, -1.01125442],\n",
              "       [ 0.96065603,  0.02433167]])"
            ]
          },
          "metadata": {},
          "execution_count": 74
        }
      ]
    },
    {
      "cell_type": "code",
      "source": [
        "import plotly.graph_objects as go # Para hacer graficos con plotly\n",
        " \n",
        "results = []\n",
        " \n",
        "for name in ('setosa', 'versicolor', 'virginica'):\n",
        "    \n",
        "    result = go.Scatter(\n",
        "        x = Y[y==name,0], \n",
        "        y = Y[y==name, 1],\n",
        "        mode = \"markers\",\n",
        "        name = name,\n",
        "        \n",
        "        marker = go.scatter.Marker(size=12, \n",
        "                                   line = go.scatter.marker.Line(\n",
        "                                                color=\"rgba(225,225,225,0.2)\",\n",
        "                                                width=0.5), \n",
        "        opacity = 0.50)\n",
        "    )\n",
        "    \n",
        "    results.append(result)\n",
        "    \n",
        " \n",
        "layout = go.Layout(xaxis = go.layout.XAxis(title=\"CP1\", showline=False),\n",
        "               yaxis = go.layout.YAxis(title=\"CP2\", showline=False))\n",
        " \n",
        "fig = go.Figure(data = results, layout = layout)\n",
        "fig.show()"
      ],
      "metadata": {
        "colab": {
          "base_uri": "https://localhost:8080/",
          "height": 542
        },
        "id": "hx2z2nlvz8If",
        "outputId": "fa974e9e-b303-4d4b-9df2-d50a445c5e07"
      },
      "execution_count": null,
      "outputs": [
        {
          "output_type": "display_data",
          "data": {
            "text/html": [
              "<html>\n",
              "<head><meta charset=\"utf-8\" /></head>\n",
              "<body>\n",
              "    <div>            <script src=\"https://cdnjs.cloudflare.com/ajax/libs/mathjax/2.7.5/MathJax.js?config=TeX-AMS-MML_SVG\"></script><script type=\"text/javascript\">if (window.MathJax) {MathJax.Hub.Config({SVG: {font: \"STIX-Web\"}});}</script>                <script type=\"text/javascript\">window.PlotlyConfig = {MathJaxConfig: 'local'};</script>\n",
              "        <script src=\"https://cdn.plot.ly/plotly-2.8.3.min.js\"></script>                <div id=\"ff79fdc1-05d2-4fd4-bd65-b404b80adca2\" class=\"plotly-graph-div\" style=\"height:525px; width:100%;\"></div>            <script type=\"text/javascript\">                                    window.PLOTLYENV=window.PLOTLYENV || {};                                    if (document.getElementById(\"ff79fdc1-05d2-4fd4-bd65-b404b80adca2\")) {                    Plotly.newPlot(                        \"ff79fdc1-05d2-4fd4-bd65-b404b80adca2\",                        [{\"marker\":{\"line\":{\"color\":\"rgba(225,225,225,0.2)\",\"width\":0.5},\"opacity\":0.5,\"size\":12},\"mode\":\"markers\",\"name\":\"setosa\",\"x\":[-2.264702808807588,-2.080961151965768,-2.3642290538903006,-2.299384217042708,-2.3898421663138443,-2.0756309481765114,-2.4440288351341524,-2.2328471588720147,-2.3346404779076217,-2.184328174933942,-2.1663101007013217,-2.326130866442698,-2.218450898822409,-2.6331006957652283,-2.198740603266689,-2.2622145316010194,-2.207587695824591,-2.190349509192298,-1.898571995802841,-2.343369053074992,-1.9143229960825676,-2.2070128431947977,-2.7743447029273316,-1.8186695286958492,-2.2271633057066382,-1.9518463309003762,-2.051151372729415,-2.168577174654216,-2.1395634513013313,-2.2652614931542407,-2.1401221356479843,-1.831594770676028,-2.614947935858933,-2.4461773916965135,-2.1099748753186525,-2.2078088990782656,-2.045146206754201,-2.5273319131704852,-2.4296325750845464,-2.169710711630663,-2.2864751433456694,-1.8581224563735723,-2.553638395614356,-1.9644476837637403,-2.137059005811622,-2.06974429959183,-2.3847331657782616,-2.394376314219633,-2.2294465479426737,-2.20383343551913],\"y\":[-0.4800265965209897,0.6741335566053518,0.3419080238846754,0.5973945076746746,-0.6468353829020275,-1.4891775233211664,-0.04764419763001469,-0.22314807268959225,1.115327675461665,0.46901356140237477,-1.0436906530538599,-0.13307833523923204,0.7286761653165696,0.9615067291701617,-1.860057113293931,-2.686284485110592,-1.4836093631555722,-0.48883831648632803,-1.405018794466549,-1.127849381908476,-0.4088557077559065,-0.9241214267468985,-0.45834366775291596,-0.0855585262873664,-0.13725445536342756,0.6256185877766756,-0.24216355266166734,-0.5271495253082678,-0.3132178101399523,0.33773190376047985,0.5045406901415175,-0.4236950676037861,-1.7935758561044286,-2.150727877392924,0.4602018414370365,0.206107397688436,-0.6615581114631085,-0.5922927741908098,0.9041800403761467,-0.2688789614354713,-0.4417153876990504,2.3374151575533464,0.47910069012231304,-0.47232666771926085,-1.1422292620394083,0.711052725385893,-1.1204297019845364,0.38624687258915635,-0.9979597643079805,-0.00921635752127694],\"type\":\"scatter\"},{\"marker\":{\"line\":{\"color\":\"rgba(225,225,225,0.2)\",\"width\":0.5},\"opacity\":0.5,\"size\":12},\"mode\":\"markers\",\"name\":\"versicolor\",\"x\":[1.1017811830529478,0.7313374253960871,1.240979319515831,0.4074830588173835,1.0754747006090772,0.38868733653566406,0.7465297413291605,-0.4873227421256411,0.9279016383549447,0.011426188736979096,-0.11019628000063084,0.44069344898307766,0.5621083064431773,0.7195618886754958,-0.03335470317877306,0.8754071908577372,0.35025166799508206,0.15881004754797048,1.22509363356243,0.1649178993863261,0.7376826487712577,0.47628719094097055,1.234178097657148,0.632858199709821,0.7026611831361815,0.8742736538812897,1.256509116541883,1.3584051214406314,0.664800367225394,-0.04025861090059648,0.13079517549785918,0.02345268897054947,0.24153827295450994,1.061094608842613,0.22397877351237896,0.4291391155161606,1.048728051209087,1.0445313843962776,0.06958832111642227,0.2834772382875741,0.2790777760554598,0.6245697914985708,0.3365303701314347,-0.3621833846193848,0.2885862388231563,0.09136065565450474,0.22771686553469925,0.576388288653478,-0.447667019028613,0.25673058888758377],\"y\":[-0.8629724182621571,-0.5946147256694229,-0.6162976544374965,1.7544039893234105,0.20842104605096692,0.5932836359900762,-0.7730193120985944,1.852429086857574,-0.03222607789115243,1.0340182751294413,2.6540728185365636,0.06329518843800282,1.7647243806169448,0.1862246058315072,0.4390032099816255,-0.509063956773407,0.1963117345514455,0.7920957424327221,1.6222438030915025,1.3026092302957732,-0.39657156196023674,0.4173202812135519,0.9333257287992796,0.41638772088910064,0.06341181972480135,-0.25079339290061053,0.07725601969587045,-0.3313116817908961,0.22592785469484503,1.0587185465539088,1.5622718342099677,1.5724755942167044,0.7772563825848424,0.6338432447349485,0.2877735120432037,-0.8455822409050765,-0.5220517968629408,1.3829887191907824,0.21950333464771613,1.329324639069577,1.1200285237424044,-0.024923029254011134,0.9884040176703607,2.0192378732386116,0.8557303199870672,0.1811921258257764,0.38492008098735486,0.15487359721656,1.5437920343977563,0.5988517961556703],\"type\":\"scatter\"},{\"marker\":{\"line\":{\"color\":\"rgba(225,225,225,0.2)\",\"width\":0.5},\"opacity\":0.5,\"size\":12},\"mode\":\"markers\",\"name\":\"virginica\",\"x\":[1.8445688677230285,1.1578816132057785,2.2052667910753776,1.4401506638275388,1.867812220330537,2.7518733356662763,0.367017687860723,2.3024394446251963,2.0066864676766047,2.2597773490125004,1.3641754921860074,1.6026786704779294,1.883900701703242,1.2601150991975063,1.4676452010173229,1.590077317614565,1.4714314611333177,2.426328987315701,3.3106955839338865,1.2637666736398265,2.037716301469404,0.9779807342494204,2.897651490734168,1.3332321759732078,1.700733897491217,1.954326705853071,1.1751036315549317,1.0209505506957903,1.7883499201796649,1.8636475533282606,2.435953727922703,2.304927721831765,1.8627032197949547,1.114147740686474,1.20247330167839,2.7987704475781077,1.5762559101947538,1.3462921036270614,0.9248249165424186,1.8520450517676696,2.014810429954875,1.9017840902621885,1.1578816132057785,2.040558228052092,1.9981470959523757,1.8705032929564098,1.564580483030327,1.521170499627837,1.3727877895140728,0.9606560300371272],\"y\":[-0.8704213123248197,0.6988698623306921,-0.5620104770083528,0.046987588105808775,-0.29504482445701696,-0.8004092010275388,1.561502891476507,-0.4200655796427736,0.7114386535471608,-1.9210103764598825,-0.6927564544903845,0.4217004497726192,-0.41924965060512087,1.1622604214064651,0.44227158737708483,-0.6762448057233172,-0.25562182447146825,-2.5566612507954876,-0.017780949320624056,1.7067453803762684,-0.9104674096183076,0.5717643248129936,-0.4136410595956448,0.481811218649431,-1.0139218673227886,-1.0077775961534496,0.31639447230979284,-0.06434602923955988,0.1873612145908312,-0.5622907258861423,-0.2592844331442777,-2.6263234682323744,0.17854949462549288,0.29292262333573305,0.8113152708396703,-0.8568033294971024,-1.0685811073208042,-0.4224306108525059,-0.01722310045228226,-0.6761281744365188,-0.6138856369235721,-0.6895754942429998,0.6988698623306921,-0.8675206009552251,-1.0491687471841418,-0.38696608166572294,0.8966868088965279,-0.2690691442779493,-1.0112544185267898,0.02433166816940134],\"type\":\"scatter\"}],                        {\"xaxis\":{\"showline\":false,\"title\":{\"text\":\"CP1\"}},\"yaxis\":{\"showline\":false,\"title\":{\"text\":\"CP2\"}},\"template\":{\"data\":{\"bar\":[{\"error_x\":{\"color\":\"#2a3f5f\"},\"error_y\":{\"color\":\"#2a3f5f\"},\"marker\":{\"line\":{\"color\":\"#E5ECF6\",\"width\":0.5},\"pattern\":{\"fillmode\":\"overlay\",\"size\":10,\"solidity\":0.2}},\"type\":\"bar\"}],\"barpolar\":[{\"marker\":{\"line\":{\"color\":\"#E5ECF6\",\"width\":0.5},\"pattern\":{\"fillmode\":\"overlay\",\"size\":10,\"solidity\":0.2}},\"type\":\"barpolar\"}],\"carpet\":[{\"aaxis\":{\"endlinecolor\":\"#2a3f5f\",\"gridcolor\":\"white\",\"linecolor\":\"white\",\"minorgridcolor\":\"white\",\"startlinecolor\":\"#2a3f5f\"},\"baxis\":{\"endlinecolor\":\"#2a3f5f\",\"gridcolor\":\"white\",\"linecolor\":\"white\",\"minorgridcolor\":\"white\",\"startlinecolor\":\"#2a3f5f\"},\"type\":\"carpet\"}],\"choropleth\":[{\"colorbar\":{\"outlinewidth\":0,\"ticks\":\"\"},\"type\":\"choropleth\"}],\"contour\":[{\"colorbar\":{\"outlinewidth\":0,\"ticks\":\"\"},\"colorscale\":[[0.0,\"#0d0887\"],[0.1111111111111111,\"#46039f\"],[0.2222222222222222,\"#7201a8\"],[0.3333333333333333,\"#9c179e\"],[0.4444444444444444,\"#bd3786\"],[0.5555555555555556,\"#d8576b\"],[0.6666666666666666,\"#ed7953\"],[0.7777777777777778,\"#fb9f3a\"],[0.8888888888888888,\"#fdca26\"],[1.0,\"#f0f921\"]],\"type\":\"contour\"}],\"contourcarpet\":[{\"colorbar\":{\"outlinewidth\":0,\"ticks\":\"\"},\"type\":\"contourcarpet\"}],\"heatmap\":[{\"colorbar\":{\"outlinewidth\":0,\"ticks\":\"\"},\"colorscale\":[[0.0,\"#0d0887\"],[0.1111111111111111,\"#46039f\"],[0.2222222222222222,\"#7201a8\"],[0.3333333333333333,\"#9c179e\"],[0.4444444444444444,\"#bd3786\"],[0.5555555555555556,\"#d8576b\"],[0.6666666666666666,\"#ed7953\"],[0.7777777777777778,\"#fb9f3a\"],[0.8888888888888888,\"#fdca26\"],[1.0,\"#f0f921\"]],\"type\":\"heatmap\"}],\"heatmapgl\":[{\"colorbar\":{\"outlinewidth\":0,\"ticks\":\"\"},\"colorscale\":[[0.0,\"#0d0887\"],[0.1111111111111111,\"#46039f\"],[0.2222222222222222,\"#7201a8\"],[0.3333333333333333,\"#9c179e\"],[0.4444444444444444,\"#bd3786\"],[0.5555555555555556,\"#d8576b\"],[0.6666666666666666,\"#ed7953\"],[0.7777777777777778,\"#fb9f3a\"],[0.8888888888888888,\"#fdca26\"],[1.0,\"#f0f921\"]],\"type\":\"heatmapgl\"}],\"histogram\":[{\"marker\":{\"pattern\":{\"fillmode\":\"overlay\",\"size\":10,\"solidity\":0.2}},\"type\":\"histogram\"}],\"histogram2d\":[{\"colorbar\":{\"outlinewidth\":0,\"ticks\":\"\"},\"colorscale\":[[0.0,\"#0d0887\"],[0.1111111111111111,\"#46039f\"],[0.2222222222222222,\"#7201a8\"],[0.3333333333333333,\"#9c179e\"],[0.4444444444444444,\"#bd3786\"],[0.5555555555555556,\"#d8576b\"],[0.6666666666666666,\"#ed7953\"],[0.7777777777777778,\"#fb9f3a\"],[0.8888888888888888,\"#fdca26\"],[1.0,\"#f0f921\"]],\"type\":\"histogram2d\"}],\"histogram2dcontour\":[{\"colorbar\":{\"outlinewidth\":0,\"ticks\":\"\"},\"colorscale\":[[0.0,\"#0d0887\"],[0.1111111111111111,\"#46039f\"],[0.2222222222222222,\"#7201a8\"],[0.3333333333333333,\"#9c179e\"],[0.4444444444444444,\"#bd3786\"],[0.5555555555555556,\"#d8576b\"],[0.6666666666666666,\"#ed7953\"],[0.7777777777777778,\"#fb9f3a\"],[0.8888888888888888,\"#fdca26\"],[1.0,\"#f0f921\"]],\"type\":\"histogram2dcontour\"}],\"mesh3d\":[{\"colorbar\":{\"outlinewidth\":0,\"ticks\":\"\"},\"type\":\"mesh3d\"}],\"parcoords\":[{\"line\":{\"colorbar\":{\"outlinewidth\":0,\"ticks\":\"\"}},\"type\":\"parcoords\"}],\"pie\":[{\"automargin\":true,\"type\":\"pie\"}],\"scatter\":[{\"marker\":{\"colorbar\":{\"outlinewidth\":0,\"ticks\":\"\"}},\"type\":\"scatter\"}],\"scatter3d\":[{\"line\":{\"colorbar\":{\"outlinewidth\":0,\"ticks\":\"\"}},\"marker\":{\"colorbar\":{\"outlinewidth\":0,\"ticks\":\"\"}},\"type\":\"scatter3d\"}],\"scattercarpet\":[{\"marker\":{\"colorbar\":{\"outlinewidth\":0,\"ticks\":\"\"}},\"type\":\"scattercarpet\"}],\"scattergeo\":[{\"marker\":{\"colorbar\":{\"outlinewidth\":0,\"ticks\":\"\"}},\"type\":\"scattergeo\"}],\"scattergl\":[{\"marker\":{\"colorbar\":{\"outlinewidth\":0,\"ticks\":\"\"}},\"type\":\"scattergl\"}],\"scattermapbox\":[{\"marker\":{\"colorbar\":{\"outlinewidth\":0,\"ticks\":\"\"}},\"type\":\"scattermapbox\"}],\"scatterpolar\":[{\"marker\":{\"colorbar\":{\"outlinewidth\":0,\"ticks\":\"\"}},\"type\":\"scatterpolar\"}],\"scatterpolargl\":[{\"marker\":{\"colorbar\":{\"outlinewidth\":0,\"ticks\":\"\"}},\"type\":\"scatterpolargl\"}],\"scatterternary\":[{\"marker\":{\"colorbar\":{\"outlinewidth\":0,\"ticks\":\"\"}},\"type\":\"scatterternary\"}],\"surface\":[{\"colorbar\":{\"outlinewidth\":0,\"ticks\":\"\"},\"colorscale\":[[0.0,\"#0d0887\"],[0.1111111111111111,\"#46039f\"],[0.2222222222222222,\"#7201a8\"],[0.3333333333333333,\"#9c179e\"],[0.4444444444444444,\"#bd3786\"],[0.5555555555555556,\"#d8576b\"],[0.6666666666666666,\"#ed7953\"],[0.7777777777777778,\"#fb9f3a\"],[0.8888888888888888,\"#fdca26\"],[1.0,\"#f0f921\"]],\"type\":\"surface\"}],\"table\":[{\"cells\":{\"fill\":{\"color\":\"#EBF0F8\"},\"line\":{\"color\":\"white\"}},\"header\":{\"fill\":{\"color\":\"#C8D4E3\"},\"line\":{\"color\":\"white\"}},\"type\":\"table\"}]},\"layout\":{\"annotationdefaults\":{\"arrowcolor\":\"#2a3f5f\",\"arrowhead\":0,\"arrowwidth\":1},\"autotypenumbers\":\"strict\",\"coloraxis\":{\"colorbar\":{\"outlinewidth\":0,\"ticks\":\"\"}},\"colorscale\":{\"diverging\":[[0,\"#8e0152\"],[0.1,\"#c51b7d\"],[0.2,\"#de77ae\"],[0.3,\"#f1b6da\"],[0.4,\"#fde0ef\"],[0.5,\"#f7f7f7\"],[0.6,\"#e6f5d0\"],[0.7,\"#b8e186\"],[0.8,\"#7fbc41\"],[0.9,\"#4d9221\"],[1,\"#276419\"]],\"sequential\":[[0.0,\"#0d0887\"],[0.1111111111111111,\"#46039f\"],[0.2222222222222222,\"#7201a8\"],[0.3333333333333333,\"#9c179e\"],[0.4444444444444444,\"#bd3786\"],[0.5555555555555556,\"#d8576b\"],[0.6666666666666666,\"#ed7953\"],[0.7777777777777778,\"#fb9f3a\"],[0.8888888888888888,\"#fdca26\"],[1.0,\"#f0f921\"]],\"sequentialminus\":[[0.0,\"#0d0887\"],[0.1111111111111111,\"#46039f\"],[0.2222222222222222,\"#7201a8\"],[0.3333333333333333,\"#9c179e\"],[0.4444444444444444,\"#bd3786\"],[0.5555555555555556,\"#d8576b\"],[0.6666666666666666,\"#ed7953\"],[0.7777777777777778,\"#fb9f3a\"],[0.8888888888888888,\"#fdca26\"],[1.0,\"#f0f921\"]]},\"colorway\":[\"#636efa\",\"#EF553B\",\"#00cc96\",\"#ab63fa\",\"#FFA15A\",\"#19d3f3\",\"#FF6692\",\"#B6E880\",\"#FF97FF\",\"#FECB52\"],\"font\":{\"color\":\"#2a3f5f\"},\"geo\":{\"bgcolor\":\"white\",\"lakecolor\":\"white\",\"landcolor\":\"#E5ECF6\",\"showlakes\":true,\"showland\":true,\"subunitcolor\":\"white\"},\"hoverlabel\":{\"align\":\"left\"},\"hovermode\":\"closest\",\"mapbox\":{\"style\":\"light\"},\"paper_bgcolor\":\"white\",\"plot_bgcolor\":\"#E5ECF6\",\"polar\":{\"angularaxis\":{\"gridcolor\":\"white\",\"linecolor\":\"white\",\"ticks\":\"\"},\"bgcolor\":\"#E5ECF6\",\"radialaxis\":{\"gridcolor\":\"white\",\"linecolor\":\"white\",\"ticks\":\"\"}},\"scene\":{\"xaxis\":{\"backgroundcolor\":\"#E5ECF6\",\"gridcolor\":\"white\",\"gridwidth\":2,\"linecolor\":\"white\",\"showbackground\":true,\"ticks\":\"\",\"zerolinecolor\":\"white\"},\"yaxis\":{\"backgroundcolor\":\"#E5ECF6\",\"gridcolor\":\"white\",\"gridwidth\":2,\"linecolor\":\"white\",\"showbackground\":true,\"ticks\":\"\",\"zerolinecolor\":\"white\"},\"zaxis\":{\"backgroundcolor\":\"#E5ECF6\",\"gridcolor\":\"white\",\"gridwidth\":2,\"linecolor\":\"white\",\"showbackground\":true,\"ticks\":\"\",\"zerolinecolor\":\"white\"}},\"shapedefaults\":{\"line\":{\"color\":\"#2a3f5f\"}},\"ternary\":{\"aaxis\":{\"gridcolor\":\"white\",\"linecolor\":\"white\",\"ticks\":\"\"},\"baxis\":{\"gridcolor\":\"white\",\"linecolor\":\"white\",\"ticks\":\"\"},\"bgcolor\":\"#E5ECF6\",\"caxis\":{\"gridcolor\":\"white\",\"linecolor\":\"white\",\"ticks\":\"\"}},\"title\":{\"x\":0.05},\"xaxis\":{\"automargin\":true,\"gridcolor\":\"white\",\"linecolor\":\"white\",\"ticks\":\"\",\"title\":{\"standoff\":15},\"zerolinecolor\":\"white\",\"zerolinewidth\":2},\"yaxis\":{\"automargin\":true,\"gridcolor\":\"white\",\"linecolor\":\"white\",\"ticks\":\"\",\"title\":{\"standoff\":15},\"zerolinecolor\":\"white\",\"zerolinewidth\":2}}}},                        {\"responsive\": true}                    ).then(function(){\n",
              "                            \n",
              "var gd = document.getElementById('ff79fdc1-05d2-4fd4-bd65-b404b80adca2');\n",
              "var x = new MutationObserver(function (mutations, observer) {{\n",
              "        var display = window.getComputedStyle(gd).display;\n",
              "        if (!display || display === 'none') {{\n",
              "            console.log([gd, 'removed!']);\n",
              "            Plotly.purge(gd);\n",
              "            observer.disconnect();\n",
              "        }}\n",
              "}});\n",
              "\n",
              "// Listen for the removal of the full notebook cells\n",
              "var notebookContainer = gd.closest('#notebook-container');\n",
              "if (notebookContainer) {{\n",
              "    x.observe(notebookContainer, {childList: true});\n",
              "}}\n",
              "\n",
              "// Listen for the clearing of the current output cell\n",
              "var outputEl = gd.closest('.output');\n",
              "if (outputEl) {{\n",
              "    x.observe(outputEl, {childList: true});\n",
              "}}\n",
              "\n",
              "                        })                };                            </script>        </div>\n",
              "</body>\n",
              "</html>"
            ]
          },
          "metadata": {}
        }
      ]
    },
    {
      "cell_type": "markdown",
      "source": [
        "## Analisis de componentes principales - Sklearn"
      ],
      "metadata": {
        "id": "SQqq-JNFq3_y"
      }
    },
    {
      "cell_type": "code",
      "source": [
        "import pandas as pd\n",
        "\n",
        "import chart_studio.plotly as py\n",
        "import plotly.graph_objects as go\n",
        "\n",
        "\n",
        "from plotly.graph_objs import *\n",
        "import plotly.tools as tls\n",
        "\n",
        "from sklearn.preprocessing import StandardScaler\n",
        "\n",
        "# tls.set_credentials_file(username='', api_key='')\n",
        "\n",
        "chart_studio.tools.set_credentials_file(username=\"\", api_key=\"\")"
      ],
      "metadata": {
        "id": "CdNaaXN0q3qT"
      },
      "execution_count": null,
      "outputs": []
    },
    {
      "cell_type": "code",
      "source": [
        "df = pd.read_csv('/content/iris.csv')"
      ],
      "metadata": {
        "id": "m6akxJv5nrC0"
      },
      "execution_count": null,
      "outputs": []
    },
    {
      "cell_type": "code",
      "source": [
        "X = df.iloc[:, 0:4].values\n",
        "y = df.iloc[:,4].values\n",
        "X_std = StandardScaler().fit_transform(X)"
      ],
      "metadata": {
        "id": "AwFbFycGsMxg"
      },
      "execution_count": null,
      "outputs": []
    },
    {
      "cell_type": "code",
      "source": [
        "from sklearn.decomposition import PCA as sk_pca"
      ],
      "metadata": {
        "id": "u-bVItdrsa7U"
      },
      "execution_count": null,
      "outputs": []
    },
    {
      "cell_type": "code",
      "source": [
        "acp = sk_pca(n_components=2)\n",
        "Y = acp.fit_transform(X_std)"
      ],
      "metadata": {
        "id": "RCLSfvtHse8Z"
      },
      "execution_count": null,
      "outputs": []
    },
    {
      "cell_type": "code",
      "source": [
        "import plotly.graph_objects as go # Para hacer graficos con plotly\n",
        " \n",
        "results = []\n",
        " \n",
        "for name in ('setosa', 'versicolor', 'virginica'):\n",
        "    \n",
        "    result = go.Scatter(\n",
        "        x = Y[y==name,0], \n",
        "        y = Y[y==name, 1],\n",
        "        mode = \"markers\",\n",
        "        name = name,\n",
        "        \n",
        "        marker = go.scatter.Marker(size=12, \n",
        "                                   line = go.scatter.marker.Line(\n",
        "                                                color=\"rgba(225,225,225,0.2)\",\n",
        "                                                width=0.5), \n",
        "        opacity = 0.50)\n",
        "    )\n",
        "    \n",
        "    results.append(result)\n",
        "    \n",
        " \n",
        "layout = go.Layout(xaxis = go.layout.XAxis(title=\"CP1\", showline=False),\n",
        "               yaxis = go.layout.YAxis(title=\"CP2\", showline=False))\n",
        " \n",
        "fig = go.Figure(data = results, layout = layout)\n",
        "fig.show()"
      ],
      "metadata": {
        "colab": {
          "base_uri": "https://localhost:8080/",
          "height": 542
        },
        "id": "o-aDCKluxTIn",
        "outputId": "46ed8238-ea88-45a8-85f5-e53c2fba7d34"
      },
      "execution_count": null,
      "outputs": [
        {
          "output_type": "display_data",
          "data": {
            "text/html": [
              "<html>\n",
              "<head><meta charset=\"utf-8\" /></head>\n",
              "<body>\n",
              "    <div>            <script src=\"https://cdnjs.cloudflare.com/ajax/libs/mathjax/2.7.5/MathJax.js?config=TeX-AMS-MML_SVG\"></script><script type=\"text/javascript\">if (window.MathJax) {MathJax.Hub.Config({SVG: {font: \"STIX-Web\"}});}</script>                <script type=\"text/javascript\">window.PlotlyConfig = {MathJaxConfig: 'local'};</script>\n",
              "        <script src=\"https://cdn.plot.ly/plotly-2.8.3.min.js\"></script>                <div id=\"94c04576-9403-474f-8c9f-b3c4e0865338\" class=\"plotly-graph-div\" style=\"height:525px; width:100%;\"></div>            <script type=\"text/javascript\">                                    window.PLOTLYENV=window.PLOTLYENV || {};                                    if (document.getElementById(\"94c04576-9403-474f-8c9f-b3c4e0865338\")) {                    Plotly.newPlot(                        \"94c04576-9403-474f-8c9f-b3c4e0865338\",                        [{\"marker\":{\"line\":{\"color\":\"rgba(225,225,225,0.2)\",\"width\":0.5},\"opacity\":0.5,\"size\":12},\"mode\":\"markers\",\"name\":\"setosa\",\"x\":[-2.2647028088075962,-2.0809611519657687,-2.3642290538903015,-2.2993842170427086,-2.389842166313845,-2.075630948176513,-2.444028835134153,-2.232847158872015,-2.3346404779076217,-2.1843281749339423,-2.166310100701323,-2.326130866442699,-2.2184508988224096,-2.6331006957652283,-2.1987406032666907,-2.262214531601022,-2.207587695824593,-2.190349509192299,-1.8985719958028429,-2.3433690530749938,-1.914322996082568,-2.207012843194799,-2.7743447029273325,-1.8186695286958499,-2.2271633057066387,-1.9518463309003762,-2.0511513727294157,-2.168577174654217,-2.139563451301332,-2.2652614931542416,-2.1401221356479843,-1.8315947706760287,-2.614947935858935,-2.4461773916965157,-2.1099748753186525,-2.207808899078266,-2.0451462067542017,-2.5273319131704866,-2.4296325750845464,-2.169710711630664,-2.2864751433456707,-1.8581224563735714,-2.5536383956143562,-1.9644476837637415,-2.1370590058116234,-2.06974429959183,-2.3847331657782633,-2.3943763142196333,-2.229446547942675,-2.203833435519131],\"y\":[0.4800265965209891,-0.6741335566053535,-0.3419080238846767,-0.5973945076746763,0.6468353829020268,1.4891775233211666,0.04764419763001356,0.2231480726895914,-1.1153276754616672,-0.469013561402376,1.0436906530538599,0.13307833523923113,-0.7286761653165712,-0.9615067291701638,1.8600571132939314,2.686284485110592,1.4836093631555725,0.4888383164863276,1.4050187944665495,1.1278493819084758,0.4088557077559062,0.9241214267468982,0.4583436677529149,0.08555852628736592,0.13725445536342673,-0.6256185877766769,0.2421635526616667,0.5271495253082673,0.3132178101399517,-0.3377319037604811,-0.5045406901415188,0.4236950676037859,1.7935758561044284,2.150727877392924,-0.46020184143703763,-0.2061073976884371,0.6615581114631085,0.5922927741908092,-0.9041800403761487,0.26887896143547063,0.4417153876990499,-2.3374151575533477,-0.4791006901223149,0.4723266677192606,1.1422292620394083,-0.7110527253858945,1.1204297019845357,-0.3862468725891579,0.9979597643079803,0.009216357521275975],\"type\":\"scatter\"},{\"marker\":{\"line\":{\"color\":\"rgba(225,225,225,0.2)\",\"width\":0.5},\"opacity\":0.5,\"size\":12},\"mode\":\"markers\",\"name\":\"versicolor\",\"x\":[1.1017811830529483,0.7313374253960877,1.2409793195158314,0.4074830588173857,1.0754747006090783,0.38868733653566523,0.746529741329161,-0.4873227421256394,0.9279016383549457,0.011426188736980284,-0.11019628000062837,0.44069344898307855,0.5621083064431794,0.7195618886754969,-0.03335470317877217,0.875407190857738,0.35025166799508295,0.15881004754797165,1.2250936335624325,0.16491789938632773,0.7376826487712584,0.47628719094097166,1.23417809765715,0.6328581997098223,0.7026611831361824,0.8742736538812906,1.2565091165418838,1.3584051214406323,0.6648003672253952,-0.04025861090059527,0.1307951754978611,0.023452688970551326,0.2415382729545112,1.0610946088426145,0.2239787735123798,0.4291391155161607,1.0487280512090877,1.0445313843962796,0.069588321116423,0.28347723828757576,0.27907777605546125,0.6245697914985716,0.3365303701314362,-0.362183384619383,0.2885862388231576,0.09136065565450532,0.22771686553470014,0.5763882886534789,-0.44766701902861145,0.25673058888758493],\"y\":[0.8629724182621596,0.5946147256694246,0.616297654437499,-1.7544039893234107,-0.20842104605096518,-0.5932836359900755,0.7730193120985965,-1.8524290868575748,0.032226077891154246,-1.0340182751294411,-2.654072818536565,-0.06329518843800157,-1.7647243806169448,-0.18622460583150574,-0.4390032099816249,0.5090639567734091,-0.19631173455144446,-0.7920957424327215,-1.6222438030915014,-1.3026092302957728,0.39657156196023857,-0.4173202812135508,-0.9333257287992782,-0.4163877208890994,-0.06341181972479981,0.25079339290061253,-0.0772560196958684,0.3313116817908984,-0.22592785469484372,-1.0587185465539082,-1.5622718342099677,-1.5724755942167046,-0.777256382584842,-0.633843244734947,-0.28777351204320284,0.8455822409050784,0.5220517968629431,-1.382988719190781,-0.21950333464771535,-1.3293246390695768,-1.120028523742404,0.024923029254012654,-0.9884040176703602,-2.019237873238612,-0.8557303199870666,-0.18119212582577554,-0.38492008098735403,-0.1548735972165586,-1.5437920343977565,-0.5988517961556696],\"type\":\"scatter\"},{\"marker\":{\"line\":{\"color\":\"rgba(225,225,225,0.2)\",\"width\":0.5},\"opacity\":0.5,\"size\":12},\"mode\":\"markers\",\"name\":\"virginica\",\"x\":[1.8445688677230294,1.15788161320578,2.205266791075379,1.44015066382754,1.867812220330538,2.7518733356662772,0.36701768786072475,2.3024394446251972,2.0066864676766065,2.2597773490125004,1.3641754921860079,1.6026786704779312,1.8839007017032428,1.2601150991975083,1.4676452010173244,1.590077317614566,1.4714314611333188,2.4263289873157,3.3106955839338883,1.263766673639829,2.037716301469405,0.977980734249422,2.8976514907341695,1.3332321759732095,1.7007338974912174,1.9543267058530711,1.1751036315549332,1.0209505506957914,1.7883499201796662,1.8636475533282617,2.435953727922704,2.3049277218317648,1.862703219794956,1.1141477406864753,1.2024733016783913,2.7987704475781086,1.5762559101947546,1.3462921036270623,0.9248249165424198,1.8520450517676705,2.0148104299548764,1.9017840902621896,1.15788161320578,2.0405582280520926,1.9981470959523766,1.8705032929564114,1.564580483030329,1.5211704996278381,1.3727877895140732,0.9606560300371284],\"y\":[0.8704213123248228,-0.6988698623306908,0.5620104770083562,-0.04698758810580665,0.2950448244570197,0.8004092010275428,-1.561502891476507,0.42006557964277685,-0.7114386535471584,1.9210103764598871,0.6927564544903871,-0.4217004497726173,0.4192496506051239,-1.1622604214064638,-0.442271587377083,0.6762448057233199,0.2556218244714706,2.556661250795493,0.017780949320627962,-1.7067453803762673,0.910467409618311,-0.5717643248129923,0.41364105959564856,-0.4818112186494293,1.0139218673227917,1.007777596153453,-0.3163944723097911,0.06434602923956176,-0.18736121459082897,0.5622907258861453,0.25928443314428096,2.6263234682323797,-0.17854949462549058,-0.2929226233357314,-0.8113152708396687,0.8568033294971062,1.0685811073208074,0.4224306108525082,0.017223100452283986,0.6761281744365218,0.6138856369235752,0.6895754942430029,-0.6988698623306908,0.8675206009552285,1.049168747184145,0.3869660816657257,-0.8966868088965261,0.2690691442779517,1.0112544185267927,-0.024331668169399655],\"type\":\"scatter\"}],                        {\"xaxis\":{\"showline\":false,\"title\":{\"text\":\"CP1\"}},\"yaxis\":{\"showline\":false,\"title\":{\"text\":\"CP2\"}},\"template\":{\"data\":{\"bar\":[{\"error_x\":{\"color\":\"#2a3f5f\"},\"error_y\":{\"color\":\"#2a3f5f\"},\"marker\":{\"line\":{\"color\":\"#E5ECF6\",\"width\":0.5},\"pattern\":{\"fillmode\":\"overlay\",\"size\":10,\"solidity\":0.2}},\"type\":\"bar\"}],\"barpolar\":[{\"marker\":{\"line\":{\"color\":\"#E5ECF6\",\"width\":0.5},\"pattern\":{\"fillmode\":\"overlay\",\"size\":10,\"solidity\":0.2}},\"type\":\"barpolar\"}],\"carpet\":[{\"aaxis\":{\"endlinecolor\":\"#2a3f5f\",\"gridcolor\":\"white\",\"linecolor\":\"white\",\"minorgridcolor\":\"white\",\"startlinecolor\":\"#2a3f5f\"},\"baxis\":{\"endlinecolor\":\"#2a3f5f\",\"gridcolor\":\"white\",\"linecolor\":\"white\",\"minorgridcolor\":\"white\",\"startlinecolor\":\"#2a3f5f\"},\"type\":\"carpet\"}],\"choropleth\":[{\"colorbar\":{\"outlinewidth\":0,\"ticks\":\"\"},\"type\":\"choropleth\"}],\"contour\":[{\"colorbar\":{\"outlinewidth\":0,\"ticks\":\"\"},\"colorscale\":[[0.0,\"#0d0887\"],[0.1111111111111111,\"#46039f\"],[0.2222222222222222,\"#7201a8\"],[0.3333333333333333,\"#9c179e\"],[0.4444444444444444,\"#bd3786\"],[0.5555555555555556,\"#d8576b\"],[0.6666666666666666,\"#ed7953\"],[0.7777777777777778,\"#fb9f3a\"],[0.8888888888888888,\"#fdca26\"],[1.0,\"#f0f921\"]],\"type\":\"contour\"}],\"contourcarpet\":[{\"colorbar\":{\"outlinewidth\":0,\"ticks\":\"\"},\"type\":\"contourcarpet\"}],\"heatmap\":[{\"colorbar\":{\"outlinewidth\":0,\"ticks\":\"\"},\"colorscale\":[[0.0,\"#0d0887\"],[0.1111111111111111,\"#46039f\"],[0.2222222222222222,\"#7201a8\"],[0.3333333333333333,\"#9c179e\"],[0.4444444444444444,\"#bd3786\"],[0.5555555555555556,\"#d8576b\"],[0.6666666666666666,\"#ed7953\"],[0.7777777777777778,\"#fb9f3a\"],[0.8888888888888888,\"#fdca26\"],[1.0,\"#f0f921\"]],\"type\":\"heatmap\"}],\"heatmapgl\":[{\"colorbar\":{\"outlinewidth\":0,\"ticks\":\"\"},\"colorscale\":[[0.0,\"#0d0887\"],[0.1111111111111111,\"#46039f\"],[0.2222222222222222,\"#7201a8\"],[0.3333333333333333,\"#9c179e\"],[0.4444444444444444,\"#bd3786\"],[0.5555555555555556,\"#d8576b\"],[0.6666666666666666,\"#ed7953\"],[0.7777777777777778,\"#fb9f3a\"],[0.8888888888888888,\"#fdca26\"],[1.0,\"#f0f921\"]],\"type\":\"heatmapgl\"}],\"histogram\":[{\"marker\":{\"pattern\":{\"fillmode\":\"overlay\",\"size\":10,\"solidity\":0.2}},\"type\":\"histogram\"}],\"histogram2d\":[{\"colorbar\":{\"outlinewidth\":0,\"ticks\":\"\"},\"colorscale\":[[0.0,\"#0d0887\"],[0.1111111111111111,\"#46039f\"],[0.2222222222222222,\"#7201a8\"],[0.3333333333333333,\"#9c179e\"],[0.4444444444444444,\"#bd3786\"],[0.5555555555555556,\"#d8576b\"],[0.6666666666666666,\"#ed7953\"],[0.7777777777777778,\"#fb9f3a\"],[0.8888888888888888,\"#fdca26\"],[1.0,\"#f0f921\"]],\"type\":\"histogram2d\"}],\"histogram2dcontour\":[{\"colorbar\":{\"outlinewidth\":0,\"ticks\":\"\"},\"colorscale\":[[0.0,\"#0d0887\"],[0.1111111111111111,\"#46039f\"],[0.2222222222222222,\"#7201a8\"],[0.3333333333333333,\"#9c179e\"],[0.4444444444444444,\"#bd3786\"],[0.5555555555555556,\"#d8576b\"],[0.6666666666666666,\"#ed7953\"],[0.7777777777777778,\"#fb9f3a\"],[0.8888888888888888,\"#fdca26\"],[1.0,\"#f0f921\"]],\"type\":\"histogram2dcontour\"}],\"mesh3d\":[{\"colorbar\":{\"outlinewidth\":0,\"ticks\":\"\"},\"type\":\"mesh3d\"}],\"parcoords\":[{\"line\":{\"colorbar\":{\"outlinewidth\":0,\"ticks\":\"\"}},\"type\":\"parcoords\"}],\"pie\":[{\"automargin\":true,\"type\":\"pie\"}],\"scatter\":[{\"marker\":{\"colorbar\":{\"outlinewidth\":0,\"ticks\":\"\"}},\"type\":\"scatter\"}],\"scatter3d\":[{\"line\":{\"colorbar\":{\"outlinewidth\":0,\"ticks\":\"\"}},\"marker\":{\"colorbar\":{\"outlinewidth\":0,\"ticks\":\"\"}},\"type\":\"scatter3d\"}],\"scattercarpet\":[{\"marker\":{\"colorbar\":{\"outlinewidth\":0,\"ticks\":\"\"}},\"type\":\"scattercarpet\"}],\"scattergeo\":[{\"marker\":{\"colorbar\":{\"outlinewidth\":0,\"ticks\":\"\"}},\"type\":\"scattergeo\"}],\"scattergl\":[{\"marker\":{\"colorbar\":{\"outlinewidth\":0,\"ticks\":\"\"}},\"type\":\"scattergl\"}],\"scattermapbox\":[{\"marker\":{\"colorbar\":{\"outlinewidth\":0,\"ticks\":\"\"}},\"type\":\"scattermapbox\"}],\"scatterpolar\":[{\"marker\":{\"colorbar\":{\"outlinewidth\":0,\"ticks\":\"\"}},\"type\":\"scatterpolar\"}],\"scatterpolargl\":[{\"marker\":{\"colorbar\":{\"outlinewidth\":0,\"ticks\":\"\"}},\"type\":\"scatterpolargl\"}],\"scatterternary\":[{\"marker\":{\"colorbar\":{\"outlinewidth\":0,\"ticks\":\"\"}},\"type\":\"scatterternary\"}],\"surface\":[{\"colorbar\":{\"outlinewidth\":0,\"ticks\":\"\"},\"colorscale\":[[0.0,\"#0d0887\"],[0.1111111111111111,\"#46039f\"],[0.2222222222222222,\"#7201a8\"],[0.3333333333333333,\"#9c179e\"],[0.4444444444444444,\"#bd3786\"],[0.5555555555555556,\"#d8576b\"],[0.6666666666666666,\"#ed7953\"],[0.7777777777777778,\"#fb9f3a\"],[0.8888888888888888,\"#fdca26\"],[1.0,\"#f0f921\"]],\"type\":\"surface\"}],\"table\":[{\"cells\":{\"fill\":{\"color\":\"#EBF0F8\"},\"line\":{\"color\":\"white\"}},\"header\":{\"fill\":{\"color\":\"#C8D4E3\"},\"line\":{\"color\":\"white\"}},\"type\":\"table\"}]},\"layout\":{\"annotationdefaults\":{\"arrowcolor\":\"#2a3f5f\",\"arrowhead\":0,\"arrowwidth\":1},\"autotypenumbers\":\"strict\",\"coloraxis\":{\"colorbar\":{\"outlinewidth\":0,\"ticks\":\"\"}},\"colorscale\":{\"diverging\":[[0,\"#8e0152\"],[0.1,\"#c51b7d\"],[0.2,\"#de77ae\"],[0.3,\"#f1b6da\"],[0.4,\"#fde0ef\"],[0.5,\"#f7f7f7\"],[0.6,\"#e6f5d0\"],[0.7,\"#b8e186\"],[0.8,\"#7fbc41\"],[0.9,\"#4d9221\"],[1,\"#276419\"]],\"sequential\":[[0.0,\"#0d0887\"],[0.1111111111111111,\"#46039f\"],[0.2222222222222222,\"#7201a8\"],[0.3333333333333333,\"#9c179e\"],[0.4444444444444444,\"#bd3786\"],[0.5555555555555556,\"#d8576b\"],[0.6666666666666666,\"#ed7953\"],[0.7777777777777778,\"#fb9f3a\"],[0.8888888888888888,\"#fdca26\"],[1.0,\"#f0f921\"]],\"sequentialminus\":[[0.0,\"#0d0887\"],[0.1111111111111111,\"#46039f\"],[0.2222222222222222,\"#7201a8\"],[0.3333333333333333,\"#9c179e\"],[0.4444444444444444,\"#bd3786\"],[0.5555555555555556,\"#d8576b\"],[0.6666666666666666,\"#ed7953\"],[0.7777777777777778,\"#fb9f3a\"],[0.8888888888888888,\"#fdca26\"],[1.0,\"#f0f921\"]]},\"colorway\":[\"#636efa\",\"#EF553B\",\"#00cc96\",\"#ab63fa\",\"#FFA15A\",\"#19d3f3\",\"#FF6692\",\"#B6E880\",\"#FF97FF\",\"#FECB52\"],\"font\":{\"color\":\"#2a3f5f\"},\"geo\":{\"bgcolor\":\"white\",\"lakecolor\":\"white\",\"landcolor\":\"#E5ECF6\",\"showlakes\":true,\"showland\":true,\"subunitcolor\":\"white\"},\"hoverlabel\":{\"align\":\"left\"},\"hovermode\":\"closest\",\"mapbox\":{\"style\":\"light\"},\"paper_bgcolor\":\"white\",\"plot_bgcolor\":\"#E5ECF6\",\"polar\":{\"angularaxis\":{\"gridcolor\":\"white\",\"linecolor\":\"white\",\"ticks\":\"\"},\"bgcolor\":\"#E5ECF6\",\"radialaxis\":{\"gridcolor\":\"white\",\"linecolor\":\"white\",\"ticks\":\"\"}},\"scene\":{\"xaxis\":{\"backgroundcolor\":\"#E5ECF6\",\"gridcolor\":\"white\",\"gridwidth\":2,\"linecolor\":\"white\",\"showbackground\":true,\"ticks\":\"\",\"zerolinecolor\":\"white\"},\"yaxis\":{\"backgroundcolor\":\"#E5ECF6\",\"gridcolor\":\"white\",\"gridwidth\":2,\"linecolor\":\"white\",\"showbackground\":true,\"ticks\":\"\",\"zerolinecolor\":\"white\"},\"zaxis\":{\"backgroundcolor\":\"#E5ECF6\",\"gridcolor\":\"white\",\"gridwidth\":2,\"linecolor\":\"white\",\"showbackground\":true,\"ticks\":\"\",\"zerolinecolor\":\"white\"}},\"shapedefaults\":{\"line\":{\"color\":\"#2a3f5f\"}},\"ternary\":{\"aaxis\":{\"gridcolor\":\"white\",\"linecolor\":\"white\",\"ticks\":\"\"},\"baxis\":{\"gridcolor\":\"white\",\"linecolor\":\"white\",\"ticks\":\"\"},\"bgcolor\":\"#E5ECF6\",\"caxis\":{\"gridcolor\":\"white\",\"linecolor\":\"white\",\"ticks\":\"\"}},\"title\":{\"x\":0.05},\"xaxis\":{\"automargin\":true,\"gridcolor\":\"white\",\"linecolor\":\"white\",\"ticks\":\"\",\"title\":{\"standoff\":15},\"zerolinecolor\":\"white\",\"zerolinewidth\":2},\"yaxis\":{\"automargin\":true,\"gridcolor\":\"white\",\"linecolor\":\"white\",\"ticks\":\"\",\"title\":{\"standoff\":15},\"zerolinecolor\":\"white\",\"zerolinewidth\":2}}}},                        {\"responsive\": true}                    ).then(function(){\n",
              "                            \n",
              "var gd = document.getElementById('94c04576-9403-474f-8c9f-b3c4e0865338');\n",
              "var x = new MutationObserver(function (mutations, observer) {{\n",
              "        var display = window.getComputedStyle(gd).display;\n",
              "        if (!display || display === 'none') {{\n",
              "            console.log([gd, 'removed!']);\n",
              "            Plotly.purge(gd);\n",
              "            observer.disconnect();\n",
              "        }}\n",
              "}});\n",
              "\n",
              "// Listen for the removal of the full notebook cells\n",
              "var notebookContainer = gd.closest('#notebook-container');\n",
              "if (notebookContainer) {{\n",
              "    x.observe(notebookContainer, {childList: true});\n",
              "}}\n",
              "\n",
              "// Listen for the clearing of the current output cell\n",
              "var outputEl = gd.closest('.output');\n",
              "if (outputEl) {{\n",
              "    x.observe(outputEl, {childList: true});\n",
              "}}\n",
              "\n",
              "                        })                };                            </script>        </div>\n",
              "</body>\n",
              "</html>"
            ]
          },
          "metadata": {}
        }
      ]
    },
    {
      "cell_type": "code",
      "source": [],
      "metadata": {
        "id": "NgjaUikyuh9W"
      },
      "execution_count": null,
      "outputs": []
    }
  ]
}