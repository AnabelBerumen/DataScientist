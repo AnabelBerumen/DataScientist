{
  "nbformat": 4,
  "nbformat_minor": 0,
  "metadata": {
    "colab": {
      "provenance": [],
      "authorship_tag": "ABX9TyP/hTxmWa3YSxefCCmZNh3W",
      "include_colab_link": true
    },
    "kernelspec": {
      "name": "python3",
      "display_name": "Python 3"
    },
    "language_info": {
      "name": "python"
    }
  },
  "cells": [
    {
      "cell_type": "markdown",
      "metadata": {
        "id": "view-in-github",
        "colab_type": "text"
      },
      "source": [
        "<a href=\"https://colab.research.google.com/github/AnabelBerumen/DataScientist/blob/main/modelos/Regresi%C3%B3n_lineal.ipynb\" target=\"_parent\"><img src=\"https://colab.research.google.com/assets/colab-badge.svg\" alt=\"Open In Colab\"/></a>"
      ]
    },
    {
      "cell_type": "markdown",
      "source": [
        "Con datos simulados\n",
        "* y = a + b * x\n",
        "* x : 100 valores distribuidos en una normal N(1.5, 2.5)\n",
        "* Ye = 9 + 1.8 * x + e\n",
        "* 'e' o 'res' : distribuido segun una normal N(0, 0.8)\n"
      ],
      "metadata": {
        "id": "i_JAjVvvS_Fs"
      }
    },
    {
      "cell_type": "code",
      "execution_count": 1,
      "metadata": {
        "id": "tT2KJJl5Sgzj"
      },
      "outputs": [],
      "source": [
        "import pandas as pd\n",
        "import numpy as np\n",
        "import matplotlib.pyplot as plt"
      ]
    },
    {
      "cell_type": "code",
      "source": [
        "x = 1.5 + 2.5 * np.random.randn(100)\n",
        "res = 0 + 0.8 * np.random.randn(100)\n",
        "y_pred = 9 + 1.8 * x\n",
        "y_act = 9 + 1.8 * x + res"
      ],
      "metadata": {
        "id": "tbVwpKaPT2y4"
      },
      "execution_count": 2,
      "outputs": []
    },
    {
      "cell_type": "code",
      "source": [
        "x_list = x.tolist()\n",
        "y_pred_list = y_pred.tolist()\n",
        "y_act_list = y_act.tolist()"
      ],
      "metadata": {
        "id": "SFLwiKmrUUIr"
      },
      "execution_count": 3,
      "outputs": []
    },
    {
      "cell_type": "code",
      "source": [
        "data = pd.DataFrame({\n",
        "    'x': x_list,\n",
        "    'y': y_act_list,\n",
        "    'y_pred': y_pred_list\n",
        "})"
      ],
      "metadata": {
        "id": "Ky-dxA5TUgnq"
      },
      "execution_count": 4,
      "outputs": []
    },
    {
      "cell_type": "code",
      "source": [
        "data.head()"
      ],
      "metadata": {
        "colab": {
          "base_uri": "https://localhost:8080/",
          "height": 206
        },
        "id": "TrSCvHWfUu19",
        "outputId": "ea6f1156-ac22-4eda-b32c-493443ffd64b"
      },
      "execution_count": 5,
      "outputs": [
        {
          "output_type": "execute_result",
          "data": {
            "text/plain": [
              "          x          y     y_pred\n",
              "0 -0.273084   7.567838   8.508448\n",
              "1 -0.688091   8.016573   7.761436\n",
              "2  1.715721  10.688548  12.088298\n",
              "3  3.221598  13.685375  14.798876\n",
              "4  1.375091  11.063824  11.475164"
            ],
            "text/html": [
              "\n",
              "  <div id=\"df-87388073-e870-4537-a3d0-3544d29a5b4b\">\n",
              "    <div class=\"colab-df-container\">\n",
              "      <div>\n",
              "<style scoped>\n",
              "    .dataframe tbody tr th:only-of-type {\n",
              "        vertical-align: middle;\n",
              "    }\n",
              "\n",
              "    .dataframe tbody tr th {\n",
              "        vertical-align: top;\n",
              "    }\n",
              "\n",
              "    .dataframe thead th {\n",
              "        text-align: right;\n",
              "    }\n",
              "</style>\n",
              "<table border=\"1\" class=\"dataframe\">\n",
              "  <thead>\n",
              "    <tr style=\"text-align: right;\">\n",
              "      <th></th>\n",
              "      <th>x</th>\n",
              "      <th>y</th>\n",
              "      <th>y_pred</th>\n",
              "    </tr>\n",
              "  </thead>\n",
              "  <tbody>\n",
              "    <tr>\n",
              "      <th>0</th>\n",
              "      <td>-0.273084</td>\n",
              "      <td>7.567838</td>\n",
              "      <td>8.508448</td>\n",
              "    </tr>\n",
              "    <tr>\n",
              "      <th>1</th>\n",
              "      <td>-0.688091</td>\n",
              "      <td>8.016573</td>\n",
              "      <td>7.761436</td>\n",
              "    </tr>\n",
              "    <tr>\n",
              "      <th>2</th>\n",
              "      <td>1.715721</td>\n",
              "      <td>10.688548</td>\n",
              "      <td>12.088298</td>\n",
              "    </tr>\n",
              "    <tr>\n",
              "      <th>3</th>\n",
              "      <td>3.221598</td>\n",
              "      <td>13.685375</td>\n",
              "      <td>14.798876</td>\n",
              "    </tr>\n",
              "    <tr>\n",
              "      <th>4</th>\n",
              "      <td>1.375091</td>\n",
              "      <td>11.063824</td>\n",
              "      <td>11.475164</td>\n",
              "    </tr>\n",
              "  </tbody>\n",
              "</table>\n",
              "</div>\n",
              "      <button class=\"colab-df-convert\" onclick=\"convertToInteractive('df-87388073-e870-4537-a3d0-3544d29a5b4b')\"\n",
              "              title=\"Convert this dataframe to an interactive table.\"\n",
              "              style=\"display:none;\">\n",
              "        \n",
              "  <svg xmlns=\"http://www.w3.org/2000/svg\" height=\"24px\"viewBox=\"0 0 24 24\"\n",
              "       width=\"24px\">\n",
              "    <path d=\"M0 0h24v24H0V0z\" fill=\"none\"/>\n",
              "    <path d=\"M18.56 5.44l.94 2.06.94-2.06 2.06-.94-2.06-.94-.94-2.06-.94 2.06-2.06.94zm-11 1L8.5 8.5l.94-2.06 2.06-.94-2.06-.94L8.5 2.5l-.94 2.06-2.06.94zm10 10l.94 2.06.94-2.06 2.06-.94-2.06-.94-.94-2.06-.94 2.06-2.06.94z\"/><path d=\"M17.41 7.96l-1.37-1.37c-.4-.4-.92-.59-1.43-.59-.52 0-1.04.2-1.43.59L10.3 9.45l-7.72 7.72c-.78.78-.78 2.05 0 2.83L4 21.41c.39.39.9.59 1.41.59.51 0 1.02-.2 1.41-.59l7.78-7.78 2.81-2.81c.8-.78.8-2.07 0-2.86zM5.41 20L4 18.59l7.72-7.72 1.47 1.35L5.41 20z\"/>\n",
              "  </svg>\n",
              "      </button>\n",
              "      \n",
              "  <style>\n",
              "    .colab-df-container {\n",
              "      display:flex;\n",
              "      flex-wrap:wrap;\n",
              "      gap: 12px;\n",
              "    }\n",
              "\n",
              "    .colab-df-convert {\n",
              "      background-color: #E8F0FE;\n",
              "      border: none;\n",
              "      border-radius: 50%;\n",
              "      cursor: pointer;\n",
              "      display: none;\n",
              "      fill: #1967D2;\n",
              "      height: 32px;\n",
              "      padding: 0 0 0 0;\n",
              "      width: 32px;\n",
              "    }\n",
              "\n",
              "    .colab-df-convert:hover {\n",
              "      background-color: #E2EBFA;\n",
              "      box-shadow: 0px 1px 2px rgba(60, 64, 67, 0.3), 0px 1px 3px 1px rgba(60, 64, 67, 0.15);\n",
              "      fill: #174EA6;\n",
              "    }\n",
              "\n",
              "    [theme=dark] .colab-df-convert {\n",
              "      background-color: #3B4455;\n",
              "      fill: #D2E3FC;\n",
              "    }\n",
              "\n",
              "    [theme=dark] .colab-df-convert:hover {\n",
              "      background-color: #434B5C;\n",
              "      box-shadow: 0px 1px 3px 1px rgba(0, 0, 0, 0.15);\n",
              "      filter: drop-shadow(0px 1px 2px rgba(0, 0, 0, 0.3));\n",
              "      fill: #FFFFFF;\n",
              "    }\n",
              "  </style>\n",
              "\n",
              "      <script>\n",
              "        const buttonEl =\n",
              "          document.querySelector('#df-87388073-e870-4537-a3d0-3544d29a5b4b button.colab-df-convert');\n",
              "        buttonEl.style.display =\n",
              "          google.colab.kernel.accessAllowed ? 'block' : 'none';\n",
              "\n",
              "        async function convertToInteractive(key) {\n",
              "          const element = document.querySelector('#df-87388073-e870-4537-a3d0-3544d29a5b4b');\n",
              "          const dataTable =\n",
              "            await google.colab.kernel.invokeFunction('convertToInteractive',\n",
              "                                                     [key], {});\n",
              "          if (!dataTable) return;\n",
              "\n",
              "          const docLinkHtml = 'Like what you see? Visit the ' +\n",
              "            '<a target=\"_blank\" href=https://colab.research.google.com/notebooks/data_table.ipynb>data table notebook</a>'\n",
              "            + ' to learn more about interactive tables.';\n",
              "          element.innerHTML = '';\n",
              "          dataTable['output_type'] = 'display_data';\n",
              "          await google.colab.output.renderOutput(dataTable, element);\n",
              "          const docLink = document.createElement('div');\n",
              "          docLink.innerHTML = docLinkHtml;\n",
              "          element.appendChild(docLink);\n",
              "        }\n",
              "      </script>\n",
              "    </div>\n",
              "  </div>\n",
              "  "
            ]
          },
          "metadata": {},
          "execution_count": 5
        }
      ]
    },
    {
      "cell_type": "code",
      "source": [
        "y_mean = [np.mean(y_act) for i in range(1, len(x_list ) +1)]"
      ],
      "metadata": {
        "id": "PneoCbwa65Ll"
      },
      "execution_count": 6,
      "outputs": []
    },
    {
      "cell_type": "code",
      "source": [
        "%matplotlib inline\n",
        "plt.plot(x, y_pred)\n",
        "plt.plot(x, y_act, 'ro')\n",
        "plt.plot(x, y_mean)\n",
        "plt.title('Valor Actual vs Predicción')"
      ],
      "metadata": {
        "colab": {
          "base_uri": "https://localhost:8080/",
          "height": 298
        },
        "id": "67ro4A7HUyTA",
        "outputId": "dcf0ed9b-ad1e-4ec1-dfde-7f84e76179da"
      },
      "execution_count": 7,
      "outputs": [
        {
          "output_type": "execute_result",
          "data": {
            "text/plain": [
              "Text(0.5, 1.0, 'Valor Actual vs Predicción')"
            ]
          },
          "metadata": {},
          "execution_count": 7
        },
        {
          "output_type": "display_data",
          "data": {
            "text/plain": [
              "<Figure size 432x288 with 1 Axes>"
            ],
            "image/png": "[encoded data removed]"
          },
          "metadata": {
            "needs_background": "light"
          }
        }
      ]
    },
    {
      "cell_type": "code",
      "source": [
        "data['SSR'] =  (data['y_pred'] - np.mean(y_act)) **2\n",
        "data['SSD'] = (data['y_pred'] - data['y']) **2\n",
        "data['SST'] = (data['y'] - np.mean(y_act)) ** 2"
      ],
      "metadata": {
        "id": "3AE9JCDfUyQO"
      },
      "execution_count": 8,
      "outputs": []
    },
    {
      "cell_type": "code",
      "source": [
        "data.head()"
      ],
      "metadata": {
        "colab": {
          "base_uri": "https://localhost:8080/",
          "height": 206
        },
        "id": "7X_rQdpXUyNv",
        "outputId": "18dc29c3-ac16-4f6f-a86d-6d2948665bd8"
      },
      "execution_count": 9,
      "outputs": [
        {
          "output_type": "execute_result",
          "data": {
            "text/plain": [
              "          x          y     y_pred        SSR       SSD        SST\n",
              "0 -0.273084   7.567838   8.508448   7.091464  0.884747  12.985863\n",
              "1 -0.688091   8.016573   7.761436  11.628050  0.065095   9.953114\n",
              "2  1.715721  10.688548  12.088298   0.840649  1.959299   0.233174\n",
              "3  3.221598  13.685375  14.798876  13.158371  1.239884   6.319925\n",
              "4  1.375091  11.063824  11.475164   0.092255  0.169201   0.011579"
            ],
            "text/html": [
              "\n",
              "  <div id=\"df-60ce9ba2-26b0-4ab6-920c-b6ac8e6b49da\">\n",
              "    <div class=\"colab-df-container\">\n",
              "      <div>\n",
              "<style scoped>\n",
              "    .dataframe tbody tr th:only-of-type {\n",
              "        vertical-align: middle;\n",
              "    }\n",
              "\n",
              "    .dataframe tbody tr th {\n",
              "        vertical-align: top;\n",
              "    }\n",
              "\n",
              "    .dataframe thead th {\n",
              "        text-align: right;\n",
              "    }\n",
              "</style>\n",
              "<table border=\"1\" class=\"dataframe\">\n",
              "  <thead>\n",
              "    <tr style=\"text-align: right;\">\n",
              "      <th></th>\n",
              "      <th>x</th>\n",
              "      <th>y</th>\n",
              "      <th>y_pred</th>\n",
              "      <th>SSR</th>\n",
              "      <th>SSD</th>\n",
              "      <th>SST</th>\n",
              "    </tr>\n",
              "  </thead>\n",
              "  <tbody>\n",
              "    <tr>\n",
              "      <th>0</th>\n",
              "      <td>-0.273084</td>\n",
              "      <td>7.567838</td>\n",
              "      <td>8.508448</td>\n",
              "      <td>7.091464</td>\n",
              "      <td>0.884747</td>\n",
              "      <td>12.985863</td>\n",
              "    </tr>\n",
              "    <tr>\n",
              "      <th>1</th>\n",
              "      <td>-0.688091</td>\n",
              "      <td>8.016573</td>\n",
              "      <td>7.761436</td>\n",
              "      <td>11.628050</td>\n",
              "      <td>0.065095</td>\n",
              "      <td>9.953114</td>\n",
              "    </tr>\n",
              "    <tr>\n",
              "      <th>2</th>\n",
              "      <td>1.715721</td>\n",
              "      <td>10.688548</td>\n",
              "      <td>12.088298</td>\n",
              "      <td>0.840649</td>\n",
              "      <td>1.959299</td>\n",
              "      <td>0.233174</td>\n",
              "    </tr>\n",
              "    <tr>\n",
              "      <th>3</th>\n",
              "      <td>3.221598</td>\n",
              "      <td>13.685375</td>\n",
              "      <td>14.798876</td>\n",
              "      <td>13.158371</td>\n",
              "      <td>1.239884</td>\n",
              "      <td>6.319925</td>\n",
              "    </tr>\n",
              "    <tr>\n",
              "      <th>4</th>\n",
              "      <td>1.375091</td>\n",
              "      <td>11.063824</td>\n",
              "      <td>11.475164</td>\n",
              "      <td>0.092255</td>\n",
              "      <td>0.169201</td>\n",
              "      <td>0.011579</td>\n",
              "    </tr>\n",
              "  </tbody>\n",
              "</table>\n",
              "</div>\n",
              "      <button class=\"colab-df-convert\" onclick=\"convertToInteractive('df-60ce9ba2-26b0-4ab6-920c-b6ac8e6b49da')\"\n",
              "              title=\"Convert this dataframe to an interactive table.\"\n",
              "              style=\"display:none;\">\n",
              "        \n",
              "  <svg xmlns=\"http://www.w3.org/2000/svg\" height=\"24px\"viewBox=\"0 0 24 24\"\n",
              "       width=\"24px\">\n",
              "    <path d=\"M0 0h24v24H0V0z\" fill=\"none\"/>\n",
              "    <path d=\"M18.56 5.44l.94 2.06.94-2.06 2.06-.94-2.06-.94-.94-2.06-.94 2.06-2.06.94zm-11 1L8.5 8.5l.94-2.06 2.06-.94-2.06-.94L8.5 2.5l-.94 2.06-2.06.94zm10 10l.94 2.06.94-2.06 2.06-.94-2.06-.94-.94-2.06-.94 2.06-2.06.94z\"/><path d=\"M17.41 7.96l-1.37-1.37c-.4-.4-.92-.59-1.43-.59-.52 0-1.04.2-1.43.59L10.3 9.45l-7.72 7.72c-.78.78-.78 2.05 0 2.83L4 21.41c.39.39.9.59 1.41.59.51 0 1.02-.2 1.41-.59l7.78-7.78 2.81-2.81c.8-.78.8-2.07 0-2.86zM5.41 20L4 18.59l7.72-7.72 1.47 1.35L5.41 20z\"/>\n",
              "  </svg>\n",
              "      </button>\n",
              "      \n",
              "  <style>\n",
              "    .colab-df-container {\n",
              "      display:flex;\n",
              "      flex-wrap:wrap;\n",
              "      gap: 12px;\n",
              "    }\n",
              "\n",
              "    .colab-df-convert {\n",
              "      background-color: #E8F0FE;\n",
              "      border: none;\n",
              "      border-radius: 50%;\n",
              "      cursor: pointer;\n",
              "      display: none;\n",
              "      fill: #1967D2;\n",
              "      height: 32px;\n",
              "      padding: 0 0 0 0;\n",
              "      width: 32px;\n",
              "    }\n",
              "\n",
              "    .colab-df-convert:hover {\n",
              "      background-color: #E2EBFA;\n",
              "      box-shadow: 0px 1px 2px rgba(60, 64, 67, 0.3), 0px 1px 3px 1px rgba(60, 64, 67, 0.15);\n",
              "      fill: #174EA6;\n",
              "    }\n",
              "\n",
              "    [theme=dark] .colab-df-convert {\n",
              "      background-color: #3B4455;\n",
              "      fill: #D2E3FC;\n",
              "    }\n",
              "\n",
              "    [theme=dark] .colab-df-convert:hover {\n",
              "      background-color: #434B5C;\n",
              "      box-shadow: 0px 1px 3px 1px rgba(0, 0, 0, 0.15);\n",
              "      filter: drop-shadow(0px 1px 2px rgba(0, 0, 0, 0.3));\n",
              "      fill: #FFFFFF;\n",
              "    }\n",
              "  </style>\n",
              "\n",
              "      <script>\n",
              "        const buttonEl =\n",
              "          document.querySelector('#df-60ce9ba2-26b0-4ab6-920c-b6ac8e6b49da button.colab-df-convert');\n",
              "        buttonEl.style.display =\n",
              "          google.colab.kernel.accessAllowed ? 'block' : 'none';\n",
              "\n",
              "        async function convertToInteractive(key) {\n",
              "          const element = document.querySelector('#df-60ce9ba2-26b0-4ab6-920c-b6ac8e6b49da');\n",
              "          const dataTable =\n",
              "            await google.colab.kernel.invokeFunction('convertToInteractive',\n",
              "                                                     [key], {});\n",
              "          if (!dataTable) return;\n",
              "\n",
              "          const docLinkHtml = 'Like what you see? Visit the ' +\n",
              "            '<a target=\"_blank\" href=https://colab.research.google.com/notebooks/data_table.ipynb>data table notebook</a>'\n",
              "            + ' to learn more about interactive tables.';\n",
              "          element.innerHTML = '';\n",
              "          dataTable['output_type'] = 'display_data';\n",
              "          await google.colab.output.renderOutput(dataTable, element);\n",
              "          const docLink = document.createElement('div');\n",
              "          docLink.innerHTML = docLinkHtml;\n",
              "          element.appendChild(docLink);\n",
              "        }\n",
              "      </script>\n",
              "    </div>\n",
              "  </div>\n",
              "  "
            ]
          },
          "metadata": {},
          "execution_count": 9
        }
      ]
    },
    {
      "cell_type": "code",
      "source": [
        "SSR = sum(data['SSR'])\n",
        "SSD = sum(data['SSD'])\n",
        "SST = sum(data['SST'])\n",
        "R2 = SSR/SST\n",
        "print(f'SSR: {SSR}\\nSSD: {SSD}\\nSST: {SST}')\n",
        "print(f'SSR + SSD = SST: {SSR + SSD}')\n",
        "print(f'R2: {R2}')"
      ],
      "metadata": {
        "colab": {
          "base_uri": "https://localhost:8080/"
        },
        "id": "nZ5UpNeuUyGL",
        "outputId": "4e5bab89-5546-4a8f-8c0f-d4645e3a2828"
      },
      "execution_count": 10,
      "outputs": [
        {
          "output_type": "stream",
          "name": "stdout",
          "text": [
            "SSR: 2028.213245216193\n",
            "SSD: 62.71921623321554\n",
            "SST: 2054.263434153622\n",
            "SSR + SSD = SST: 2090.9324614494085\n",
            "R2: 0.987318963817237\n"
          ]
        }
      ]
    },
    {
      "cell_type": "code",
      "source": [
        "plt.hist(data['y_pred'] - data['y'])"
      ],
      "metadata": {
        "colab": {
          "base_uri": "https://localhost:8080/",
          "height": 352
        },
        "id": "QVBh_qEzRJWn",
        "outputId": "0a3c7fbd-60b5-4283-ba01-3ffbc046a268"
      },
      "execution_count": 11,
      "outputs": [
        {
          "output_type": "execute_result",
          "data": {
            "text/plain": [
              "(array([ 2.,  6.,  3., 19., 23., 23., 12.,  7.,  3.,  2.]),\n",
              " array([-2.11609439, -1.67623923, -1.23638408, -0.79652892, -0.35667376,\n",
              "         0.0831814 ,  0.52303656,  0.96289172,  1.40274687,  1.84260203,\n",
              "         2.28245719]),\n",
              " <a list of 10 Patch objects>)"
            ]
          },
          "metadata": {},
          "execution_count": 11
        },
        {
          "output_type": "display_data",
          "data": {
            "text/plain": [
              "<Figure size 432x288 with 1 Axes>"
            ],
            "image/png": "[encoded data removed]"
          },
          "metadata": {
            "needs_background": "light"
          }
        }
      ]
    },
    {
      "cell_type": "markdown",
      "source": [
        "## Obteniendo la recta de regresión\n",
        "* y = a + b * x\n",
        "* b = sum(xi - x_m) * (y_i - y_m) / sum((xi - x_m)^2)\n",
        "* a = y_m - b * x_m"
      ],
      "metadata": {
        "id": "6wilXBGAssdd"
      }
    },
    {
      "cell_type": "markdown",
      "source": [
        "* $y_e = \\alpha + \\beta x$\n",
        "* $\\beta = \\sum((xi - x_m)*(y_i - y_m)) / \\sum((xi - x_m)^2)$\n",
        "* $\\alpha = y_n - \\beta*x_m$"
      ],
      "metadata": {
        "id": "LSyo6PKWvV8p"
      }
    },
    {
      "cell_type": "code",
      "source": [
        "x_mean = np.mean(data['x'])\n",
        "y_mean = np.mean(data['y'])\n",
        "x_mean, y_mean"
      ],
      "metadata": {
        "colab": {
          "base_uri": "https://localhost:8080/"
        },
        "id": "gAwzFRsLRJTi",
        "outputId": "b02972ff-cdba-4825-a8a5-725bbc06060e"
      },
      "execution_count": 13,
      "outputs": [
        {
          "output_type": "execute_result",
          "data": {
            "text/plain": [
              "(1.2189018646474443, 11.17142868912199)"
            ]
          },
          "metadata": {},
          "execution_count": 13
        }
      ]
    },
    {
      "cell_type": "code",
      "source": [
        "# covarianza\n",
        "data['beta_n'] = (data['x']-x_mean) * (data['y']-y_mean)\n",
        "# varianza de x\n",
        "data['beta_d'] = (data['x']-x_mean) **2\n",
        "\n",
        "# b = sum(xi - x_m) * (y_i - y_m) / sum((xi - x_m)^2)\n",
        "beta = sum(data['beta_n']) / sum(data['beta_d'])"
      ],
      "metadata": {
        "id": "0WWkwq0TRJQx"
      },
      "execution_count": 15,
      "outputs": []
    },
    {
      "cell_type": "code",
      "source": [
        "# a = y_m - b * x_m\n",
        "alpha = y_mean - beta * x_mean"
      ],
      "metadata": {
        "id": "ZJEtdNkUWyAa"
      },
      "execution_count": 16,
      "outputs": []
    },
    {
      "cell_type": "code",
      "source": [
        "alpha, beta"
      ],
      "metadata": {
        "colab": {
          "base_uri": "https://localhost:8080/"
        },
        "id": "hZ1EWJ3Guqe_",
        "outputId": "d96abcc4-e2e4-4ce5-9e36-d611cc957853"
      },
      "execution_count": 17,
      "outputs": [
        {
          "output_type": "execute_result",
          "data": {
            "text/plain": [
              "(8.997183998508735, 1.7837733731272416)"
            ]
          },
          "metadata": {},
          "execution_count": 17
        }
      ]
    },
    {
      "cell_type": "markdown",
      "source": [
        "El modelo lineal obtenido por regresion es y = 8.997183998508735 + 1.7837733731272416 * x"
      ],
      "metadata": {
        "id": "ZMhR6pf1u7wq"
      }
    },
    {
      "cell_type": "code",
      "source": [
        "data['y_model'] = alpha + beta * data['x']"
      ],
      "metadata": {
        "id": "ZO58QYW_utSw"
      },
      "execution_count": 19,
      "outputs": []
    },
    {
      "cell_type": "code",
      "source": [
        "data.head()"
      ],
      "metadata": {
        "colab": {
          "base_uri": "https://localhost:8080/",
          "height": 206
        },
        "id": "I3A98hwivHwJ",
        "outputId": "24e8168b-d7e9-41b5-d455-f11c4e288d9c"
      },
      "execution_count": 20,
      "outputs": [
        {
          "output_type": "execute_result",
          "data": {
            "text/plain": [
              "          x          y     y_pred        SSR       SSD        SST    beta_n  \\\n",
              "0 -0.273084   7.567838   8.508448   7.091464  0.884747  12.985863  5.376506   \n",
              "1 -0.688091   8.016573   7.761436  11.628050  0.065095   9.953114  6.016288   \n",
              "2  1.715721  10.688548  12.088298   0.840649  1.959299   0.233174 -0.239904   \n",
              "3  3.221598  13.685375  14.798876  13.158371  1.239884   6.319925  5.034669   \n",
              "4  1.375091  11.063824  11.475164   0.092255  0.169201   0.011579 -0.016807   \n",
              "\n",
              "     beta_d    y_model  \n",
              "0  2.226022   8.510064  \n",
              "1  3.636622   7.769785  \n",
              "2  0.246829  12.057642  \n",
              "3  4.010790  14.743784  \n",
              "4  0.024395  11.450035  "
            ],
            "text/html": [
              "\n",
              "  <div id=\"df-757cac69-deae-4ea9-9cf3-4371485fe766\">\n",
              "    <div class=\"colab-df-container\">\n",
              "      <div>\n",
              "<style scoped>\n",
              "    .dataframe tbody tr th:only-of-type {\n",
              "        vertical-align: middle;\n",
              "    }\n",
              "\n",
              "    .dataframe tbody tr th {\n",
              "        vertical-align: top;\n",
              "    }\n",
              "\n",
              "    .dataframe thead th {\n",
              "        text-align: right;\n",
              "    }\n",
              "</style>\n",
              "<table border=\"1\" class=\"dataframe\">\n",
              "  <thead>\n",
              "    <tr style=\"text-align: right;\">\n",
              "      <th></th>\n",
              "      <th>x</th>\n",
              "      <th>y</th>\n",
              "      <th>y_pred</th>\n",
              "      <th>SSR</th>\n",
              "      <th>SSD</th>\n",
              "      <th>SST</th>\n",
              "      <th>beta_n</th>\n",
              "      <th>beta_d</th>\n",
              "      <th>y_model</th>\n",
              "    </tr>\n",
              "  </thead>\n",
              "  <tbody>\n",
              "    <tr>\n",
              "      <th>0</th>\n",
              "      <td>-0.273084</td>\n",
              "      <td>7.567838</td>\n",
              "      <td>8.508448</td>\n",
              "      <td>7.091464</td>\n",
              "      <td>0.884747</td>\n",
              "      <td>12.985863</td>\n",
              "      <td>5.376506</td>\n",
              "      <td>2.226022</td>\n",
              "      <td>8.510064</td>\n",
              "    </tr>\n",
              "    <tr>\n",
              "      <th>1</th>\n",
              "      <td>-0.688091</td>\n",
              "      <td>8.016573</td>\n",
              "      <td>7.761436</td>\n",
              "      <td>11.628050</td>\n",
              "      <td>0.065095</td>\n",
              "      <td>9.953114</td>\n",
              "      <td>6.016288</td>\n",
              "      <td>3.636622</td>\n",
              "      <td>7.769785</td>\n",
              "    </tr>\n",
              "    <tr>\n",
              "      <th>2</th>\n",
              "      <td>1.715721</td>\n",
              "      <td>10.688548</td>\n",
              "      <td>12.088298</td>\n",
              "      <td>0.840649</td>\n",
              "      <td>1.959299</td>\n",
              "      <td>0.233174</td>\n",
              "      <td>-0.239904</td>\n",
              "      <td>0.246829</td>\n",
              "      <td>12.057642</td>\n",
              "    </tr>\n",
              "    <tr>\n",
              "      <th>3</th>\n",
              "      <td>3.221598</td>\n",
              "      <td>13.685375</td>\n",
              "      <td>14.798876</td>\n",
              "      <td>13.158371</td>\n",
              "      <td>1.239884</td>\n",
              "      <td>6.319925</td>\n",
              "      <td>5.034669</td>\n",
              "      <td>4.010790</td>\n",
              "      <td>14.743784</td>\n",
              "    </tr>\n",
              "    <tr>\n",
              "      <th>4</th>\n",
              "      <td>1.375091</td>\n",
              "      <td>11.063824</td>\n",
              "      <td>11.475164</td>\n",
              "      <td>0.092255</td>\n",
              "      <td>0.169201</td>\n",
              "      <td>0.011579</td>\n",
              "      <td>-0.016807</td>\n",
              "      <td>0.024395</td>\n",
              "      <td>11.450035</td>\n",
              "    </tr>\n",
              "  </tbody>\n",
              "</table>\n",
              "</div>\n",
              "      <button class=\"colab-df-convert\" onclick=\"convertToInteractive('df-757cac69-deae-4ea9-9cf3-4371485fe766')\"\n",
              "              title=\"Convert this dataframe to an interactive table.\"\n",
              "              style=\"display:none;\">\n",
              "        \n",
              "  <svg xmlns=\"http://www.w3.org/2000/svg\" height=\"24px\"viewBox=\"0 0 24 24\"\n",
              "       width=\"24px\">\n",
              "    <path d=\"M0 0h24v24H0V0z\" fill=\"none\"/>\n",
              "    <path d=\"M18.56 5.44l.94 2.06.94-2.06 2.06-.94-2.06-.94-.94-2.06-.94 2.06-2.06.94zm-11 1L8.5 8.5l.94-2.06 2.06-.94-2.06-.94L8.5 2.5l-.94 2.06-2.06.94zm10 10l.94 2.06.94-2.06 2.06-.94-2.06-.94-.94-2.06-.94 2.06-2.06.94z\"/><path d=\"M17.41 7.96l-1.37-1.37c-.4-.4-.92-.59-1.43-.59-.52 0-1.04.2-1.43.59L10.3 9.45l-7.72 7.72c-.78.78-.78 2.05 0 2.83L4 21.41c.39.39.9.59 1.41.59.51 0 1.02-.2 1.41-.59l7.78-7.78 2.81-2.81c.8-.78.8-2.07 0-2.86zM5.41 20L4 18.59l7.72-7.72 1.47 1.35L5.41 20z\"/>\n",
              "  </svg>\n",
              "      </button>\n",
              "      \n",
              "  <style>\n",
              "    .colab-df-container {\n",
              "      display:flex;\n",
              "      flex-wrap:wrap;\n",
              "      gap: 12px;\n",
              "    }\n",
              "\n",
              "    .colab-df-convert {\n",
              "      background-color: #E8F0FE;\n",
              "      border: none;\n",
              "      border-radius: 50%;\n",
              "      cursor: pointer;\n",
              "      display: none;\n",
              "      fill: #1967D2;\n",
              "      height: 32px;\n",
              "      padding: 0 0 0 0;\n",
              "      width: 32px;\n",
              "    }\n",
              "\n",
              "    .colab-df-convert:hover {\n",
              "      background-color: #E2EBFA;\n",
              "      box-shadow: 0px 1px 2px rgba(60, 64, 67, 0.3), 0px 1px 3px 1px rgba(60, 64, 67, 0.15);\n",
              "      fill: #174EA6;\n",
              "    }\n",
              "\n",
              "    [theme=dark] .colab-df-convert {\n",
              "      background-color: #3B4455;\n",
              "      fill: #D2E3FC;\n",
              "    }\n",
              "\n",
              "    [theme=dark] .colab-df-convert:hover {\n",
              "      background-color: #434B5C;\n",
              "      box-shadow: 0px 1px 3px 1px rgba(0, 0, 0, 0.15);\n",
              "      filter: drop-shadow(0px 1px 2px rgba(0, 0, 0, 0.3));\n",
              "      fill: #FFFFFF;\n",
              "    }\n",
              "  </style>\n",
              "\n",
              "      <script>\n",
              "        const buttonEl =\n",
              "          document.querySelector('#df-757cac69-deae-4ea9-9cf3-4371485fe766 button.colab-df-convert');\n",
              "        buttonEl.style.display =\n",
              "          google.colab.kernel.accessAllowed ? 'block' : 'none';\n",
              "\n",
              "        async function convertToInteractive(key) {\n",
              "          const element = document.querySelector('#df-757cac69-deae-4ea9-9cf3-4371485fe766');\n",
              "          const dataTable =\n",
              "            await google.colab.kernel.invokeFunction('convertToInteractive',\n",
              "                                                     [key], {});\n",
              "          if (!dataTable) return;\n",
              "\n",
              "          const docLinkHtml = 'Like what you see? Visit the ' +\n",
              "            '<a target=\"_blank\" href=https://colab.research.google.com/notebooks/data_table.ipynb>data table notebook</a>'\n",
              "            + ' to learn more about interactive tables.';\n",
              "          element.innerHTML = '';\n",
              "          dataTable['output_type'] = 'display_data';\n",
              "          await google.colab.output.renderOutput(dataTable, element);\n",
              "          const docLink = document.createElement('div');\n",
              "          docLink.innerHTML = docLinkHtml;\n",
              "          element.appendChild(docLink);\n",
              "        }\n",
              "      </script>\n",
              "    </div>\n",
              "  </div>\n",
              "  "
            ]
          },
          "metadata": {},
          "execution_count": 20
        }
      ]
    },
    {
      "cell_type": "code",
      "source": [
        "SSR = sum((data['y_model']- y_mean) **2)\n",
        "SSD = sum((data['y_model'] - data['y']) **2)\n",
        "SST = sum((data['y'] - y_mean) **2)\n",
        "R2 = SSR/SST\n",
        "y_mean = [np.mean(y_act) for i in range(1, len(x_list ) +1)]\n",
        "print(f'SSR: {SSR}\\nSSD: {SSD}\\nSST: {SST}')\n",
        "print(f'SSR + SSD = SST: {SSR + SSD}')\n",
        "print(f'R2: {R2}')"
      ],
      "metadata": {
        "colab": {
          "base_uri": "https://localhost:8080/"
        },
        "id": "FtokpUgbvLb6",
        "outputId": "d719794c-99c8-4cd4-8276-8f6dc2044151"
      },
      "execution_count": 24,
      "outputs": [
        {
          "output_type": "stream",
          "name": "stdout",
          "text": [
            "SSR: 1991.760091436826\n",
            "SSD: 62.50334271679531\n",
            "SST: 2054.263434153622\n",
            "SSR + SSD = SST: 2054.2634341536213\n",
            "R2: 0.9695738425376063\n"
          ]
        }
      ]
    },
    {
      "cell_type": "code",
      "source": [
        "%matplotlib inline\n",
        "plt.plot(data['x'], data['y_pred'])\n",
        "plt.plot(data['x'], data['y'], 'ro')\n",
        "plt.plot(data['x'], y_mean, 'g')\n",
        "plt.plot(data['x'], data['y_model'])\n",
        "plt.title('Valor Actual vs Predicción')"
      ],
      "metadata": {
        "colab": {
          "base_uri": "https://localhost:8080/",
          "height": 298
        },
        "id": "vyr6CXgXwNqq",
        "outputId": "4e8381aa-e164-4b99-ef8f-5f6b8ea3dc3a"
      },
      "execution_count": 25,
      "outputs": [
        {
          "output_type": "execute_result",
          "data": {
            "text/plain": [
              "Text(0.5, 1.0, 'Valor Actual vs Predicción')"
            ]
          },
          "metadata": {},
          "execution_count": 25
        },
        {
          "output_type": "display_data",
          "data": {
            "text/plain": [
              "<Figure size 432x288 with 1 Axes>"
            ],
            "image/png": "[encoded data removed]"
          },
          "metadata": {
            "needs_background": "light"
          }
        }
      ]
    },
    {
      "cell_type": "markdown",
      "source": [
        "\n",
        "RSE: Error Estándar de los residuos\n"
      ],
      "metadata": {
        "id": "404BYL2413lC"
      }
    },
    {
      "cell_type": "code",
      "source": [
        "RSE = np.sqrt(SSD / (len(data) -2))\n",
        "RSE"
      ],
      "metadata": {
        "colab": {
          "base_uri": "https://localhost:8080/"
        },
        "id": "WFsYSVLAw5Rm",
        "outputId": "bd29ded0-bbc6-4d47-aeb6-331b1dc7bd7b"
      },
      "execution_count": 26,
      "outputs": [
        {
          "output_type": "execute_result",
          "data": {
            "text/plain": [
              "0.798617061798626"
            ]
          },
          "metadata": {},
          "execution_count": 26
        }
      ]
    },
    {
      "cell_type": "code",
      "source": [
        "np.mean(data['y'])"
      ],
      "metadata": {
        "colab": {
          "base_uri": "https://localhost:8080/"
        },
        "id": "63sFIaQA2hdc",
        "outputId": "b1ae010c-dd4b-446b-fa11-a7affd761b6b"
      },
      "execution_count": 27,
      "outputs": [
        {
          "output_type": "execute_result",
          "data": {
            "text/plain": [
              "11.17142868912199"
            ]
          },
          "metadata": {},
          "execution_count": 27
        }
      ]
    },
    {
      "cell_type": "code",
      "source": [
        "RSE / 11.17142868912199"
      ],
      "metadata": {
        "colab": {
          "base_uri": "https://localhost:8080/"
        },
        "id": "-x2U_XFT2sMg",
        "outputId": "bbdeb7b2-1081-41a9-c73b-056b89955f8c"
      },
      "execution_count": 28,
      "outputs": [
        {
          "output_type": "execute_result",
          "data": {
            "text/plain": [
              "0.0714874600216772"
            ]
          },
          "metadata": {},
          "execution_count": 28
        }
      ]
    },
    {
      "cell_type": "markdown",
      "source": [
        "## Regresión lineal simple en Python\n",
        "### el paquete statsmodel para regresión lineal"
      ],
      "metadata": {
        "id": "MOh_V7lb3WRU"
      }
    },
    {
      "cell_type": "code",
      "source": [],
      "metadata": {
        "id": "J7xH60e62xwT"
      },
      "execution_count": null,
      "outputs": []
    }
  ]
}